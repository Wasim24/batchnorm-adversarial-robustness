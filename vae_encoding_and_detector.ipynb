{
 "cells": [
  {
   "cell_type": "code",
   "execution_count": 1,
   "metadata": {
    "colab": {
     "base_uri": "https://localhost:8080/",
     "height": 1088
    },
    "colab_type": "code",
    "id": "I_nXPE3kM5q4",
    "outputId": "c88ab9b6-3014-4a25-9d28-94e939e18c92",
    "scrolled": true
   },
   "outputs": [
    {
     "name": "stdout",
     "output_type": "stream",
     "text": [
      "Requirement already satisfied: tensorflow-gpu==2.0.0-alpha0 in /usr/local/lib/python3.6/dist-packages (2.0.0a0)\n",
      "Requirement already satisfied: absl-py>=0.7.0 in /usr/local/lib/python3.6/dist-packages (from tensorflow-gpu==2.0.0-alpha0) (0.7.1)\n",
      "Requirement already satisfied: tb-nightly<1.14.0a20190302,>=1.14.0a20190301 in /usr/local/lib/python3.6/dist-packages (from tensorflow-gpu==2.0.0-alpha0) (1.14.0a20190301)\n",
      "Requirement already satisfied: astor>=0.6.0 in /usr/local/lib/python3.6/dist-packages (from tensorflow-gpu==2.0.0-alpha0) (0.8.0)\n",
      "Requirement already satisfied: numpy<2.0,>=1.14.5 in /usr/local/lib/python3.6/dist-packages (from tensorflow-gpu==2.0.0-alpha0) (1.16.4)\n",
      "Requirement already satisfied: six>=1.10.0 in /usr/local/lib/python3.6/dist-packages (from tensorflow-gpu==2.0.0-alpha0) (1.12.0)\n",
      "Requirement already satisfied: grpcio>=1.8.6 in /usr/local/lib/python3.6/dist-packages (from tensorflow-gpu==2.0.0-alpha0) (1.15.0)\n",
      "Requirement already satisfied: google-pasta>=0.1.2 in /usr/local/lib/python3.6/dist-packages (from tensorflow-gpu==2.0.0-alpha0) (0.1.7)\n",
      "Requirement already satisfied: tf-estimator-nightly<1.14.0.dev2019030116,>=1.14.0.dev2019030115 in /usr/local/lib/python3.6/dist-packages (from tensorflow-gpu==2.0.0-alpha0) (1.14.0.dev2019030115)\n",
      "Requirement already satisfied: keras-applications>=1.0.6 in /usr/local/lib/python3.6/dist-packages (from tensorflow-gpu==2.0.0-alpha0) (1.0.7)\n",
      "Requirement already satisfied: keras-preprocessing>=1.0.5 in /usr/local/lib/python3.6/dist-packages (from tensorflow-gpu==2.0.0-alpha0) (1.0.9)\n",
      "Requirement already satisfied: protobuf>=3.6.1 in /usr/local/lib/python3.6/dist-packages (from tensorflow-gpu==2.0.0-alpha0) (3.7.1)\n",
      "Requirement already satisfied: termcolor>=1.1.0 in /usr/local/lib/python3.6/dist-packages (from tensorflow-gpu==2.0.0-alpha0) (1.1.0)\n",
      "Requirement already satisfied: gast>=0.2.0 in /usr/local/lib/python3.6/dist-packages (from tensorflow-gpu==2.0.0-alpha0) (0.2.2)\n",
      "Requirement already satisfied: wheel>=0.26 in /usr/local/lib/python3.6/dist-packages (from tensorflow-gpu==2.0.0-alpha0) (0.33.4)\n",
      "Requirement already satisfied: werkzeug>=0.11.15 in /usr/local/lib/python3.6/dist-packages (from tb-nightly<1.14.0a20190302,>=1.14.0a20190301->tensorflow-gpu==2.0.0-alpha0) (0.15.4)\n",
      "Requirement already satisfied: markdown>=2.6.8 in /usr/local/lib/python3.6/dist-packages (from tb-nightly<1.14.0a20190302,>=1.14.0a20190301->tensorflow-gpu==2.0.0-alpha0) (3.1.1)\n",
      "Requirement already satisfied: h5py in /usr/local/lib/python3.6/dist-packages (from keras-applications>=1.0.6->tensorflow-gpu==2.0.0-alpha0) (2.8.0)\n",
      "Requirement already satisfied: setuptools in /usr/local/lib/python3.6/dist-packages (from protobuf>=3.6.1->tensorflow-gpu==2.0.0-alpha0) (41.0.1)\n",
      "Uninstalling tfp-nightly-0.8.0.dev20190602:\n",
      "  Would remove:\n",
      "    /usr/local/lib/python3.6/dist-packages/tensorflow_probability/*\n",
      "    /usr/local/lib/python3.6/dist-packages/tfp_nightly-0.8.0.dev20190602.dist-info/*\n",
      "  Would not remove (might be manually added):\n",
      "    /usr/local/lib/python3.6/dist-packages/tensorflow_probability/python/bijectors/conditional_bijector.py\n",
      "    /usr/local/lib/python3.6/dist-packages/tensorflow_probability/python/distributions/conditional_distribution.py\n",
      "    /usr/local/lib/python3.6/dist-packages/tensorflow_probability/python/distributions/conditional_transformed_distribution.py\n",
      "    /usr/local/lib/python3.6/dist-packages/tensorflow_probability/python/distributions/internal/statistical_testing.py\n",
      "    /usr/local/lib/python3.6/dist-packages/tensorflow_probability/python/distributions/sample_stats.py\n",
      "    /usr/local/lib/python3.6/dist-packages/tensorflow_probability/python/mcmc/slice_sampler_utils.py\n",
      "    /usr/local/lib/python3.6/dist-packages/tensorflow_probability/python/mcmc/util.py\n",
      "    /usr/local/lib/python3.6/dist-packages/tensorflow_probability/python/util/variables.py\n",
      "Proceed (y/n)? y\n",
      "  Successfully uninstalled tfp-nightly-0.8.0.dev20190602\n",
      "Requirement already satisfied: tensorflow-probability in /usr/local/lib/python3.6/dist-packages (0.6.0)\n",
      "Requirement already satisfied: numpy>=1.13.3 in /usr/local/lib/python3.6/dist-packages (from tensorflow-probability) (1.16.4)\n",
      "Requirement already satisfied: six>=1.10.0 in /usr/local/lib/python3.6/dist-packages (from tensorflow-probability) (1.12.0)\n",
      "Requirement already up-to-date: tf-nightly-2.0-preview in /usr/local/lib/python3.6/dist-packages (2.0.0.dev20190602)\n",
      "Collecting tfp-nightly\n",
      "  Using cached https://files.pythonhosted.org/packages/5b/0b/126b9d1309d8e219411b67e7dbaee3a3bab4d507186be980ad7ceb2ae8a0/tfp_nightly-0.8.0.dev20190602-py2.py3-none-any.whl\n",
      "Requirement already satisfied, skipping upgrade: grpcio>=1.8.6 in /usr/local/lib/python3.6/dist-packages (from tf-nightly-2.0-preview) (1.15.0)\n",
      "Requirement already satisfied, skipping upgrade: astor>=0.6.0 in /usr/local/lib/python3.6/dist-packages (from tf-nightly-2.0-preview) (0.8.0)\n",
      "Requirement already satisfied, skipping upgrade: absl-py>=0.7.0 in /usr/local/lib/python3.6/dist-packages (from tf-nightly-2.0-preview) (0.7.1)\n",
      "Requirement already satisfied, skipping upgrade: tensorflow-estimator-2.0-preview in /usr/local/lib/python3.6/dist-packages (from tf-nightly-2.0-preview) (1.14.0.dev2019060200)\n",
      "Requirement already satisfied, skipping upgrade: gast>=0.2.0 in /usr/local/lib/python3.6/dist-packages (from tf-nightly-2.0-preview) (0.2.2)\n",
      "Requirement already satisfied, skipping upgrade: wrapt>=1.11.1 in /usr/local/lib/python3.6/dist-packages (from tf-nightly-2.0-preview) (1.11.1)\n",
      "Requirement already satisfied, skipping upgrade: keras-preprocessing>=1.0.5 in /usr/local/lib/python3.6/dist-packages (from tf-nightly-2.0-preview) (1.0.9)\n",
      "Requirement already satisfied, skipping upgrade: six>=1.10.0 in /usr/local/lib/python3.6/dist-packages (from tf-nightly-2.0-preview) (1.12.0)\n",
      "Requirement already satisfied, skipping upgrade: google-pasta>=0.1.6 in /usr/local/lib/python3.6/dist-packages (from tf-nightly-2.0-preview) (0.1.7)\n",
      "Requirement already satisfied, skipping upgrade: protobuf>=3.6.1 in /usr/local/lib/python3.6/dist-packages (from tf-nightly-2.0-preview) (3.7.1)\n",
      "Requirement already satisfied, skipping upgrade: termcolor>=1.1.0 in /usr/local/lib/python3.6/dist-packages (from tf-nightly-2.0-preview) (1.1.0)\n",
      "Requirement already satisfied, skipping upgrade: keras-applications>=1.0.6 in /usr/local/lib/python3.6/dist-packages (from tf-nightly-2.0-preview) (1.0.7)\n",
      "Requirement already satisfied, skipping upgrade: numpy<2.0,>=1.14.5 in /usr/local/lib/python3.6/dist-packages (from tf-nightly-2.0-preview) (1.16.4)\n",
      "Requirement already satisfied, skipping upgrade: tb-nightly<1.15.0a0,>=1.14.0a0 in /usr/local/lib/python3.6/dist-packages (from tf-nightly-2.0-preview) (1.14.0a20190301)\n",
      "Requirement already satisfied, skipping upgrade: wheel>=0.26 in /usr/local/lib/python3.6/dist-packages (from tf-nightly-2.0-preview) (0.33.4)\n",
      "Requirement already satisfied, skipping upgrade: cloudpickle>=0.6.1 in /usr/local/lib/python3.6/dist-packages (from tfp-nightly) (0.6.1)\n",
      "Requirement already satisfied, skipping upgrade: decorator in /usr/local/lib/python3.6/dist-packages (from tfp-nightly) (4.4.0)\n",
      "Requirement already satisfied, skipping upgrade: setuptools in /usr/local/lib/python3.6/dist-packages (from protobuf>=3.6.1->tf-nightly-2.0-preview) (41.0.1)\n",
      "Requirement already satisfied, skipping upgrade: h5py in /usr/local/lib/python3.6/dist-packages (from keras-applications>=1.0.6->tf-nightly-2.0-preview) (2.8.0)\n",
      "Requirement already satisfied, skipping upgrade: markdown>=2.6.8 in /usr/local/lib/python3.6/dist-packages (from tb-nightly<1.15.0a0,>=1.14.0a0->tf-nightly-2.0-preview) (3.1.1)\n",
      "Requirement already satisfied, skipping upgrade: werkzeug>=0.11.15 in /usr/local/lib/python3.6/dist-packages (from tb-nightly<1.15.0a0,>=1.14.0a0->tf-nightly-2.0-preview) (0.15.4)\n",
      "Installing collected packages: tfp-nightly\n",
      "Successfully installed tfp-nightly-0.8.0.dev20190602\n"
     ]
    }
   ],
   "source": [
    "import os\n",
    "from __future__ import absolute_import, division, print_function, unicode_literals\n",
    "!pip install tensorflow-gpu==2.0.0-alpha0\n",
    "!pip uninstall tfp-nightly\n",
    "!pip install tensorflow-probability\n",
    "!pip install --upgrade tf-nightly-2.0-preview tfp-nightly"
   ]
  },
  {
   "cell_type": "code",
   "execution_count": 2,
   "metadata": {
    "colab": {
     "base_uri": "https://localhost:8080/",
     "height": 34
    },
    "colab_type": "code",
    "id": "kBTbqnIxNb0i",
    "outputId": "41d75442-3120-4e20-f488-cbaa3cb86452"
   },
   "outputs": [
    {
     "data": {
      "text/plain": [
       "'2.0.0-dev20190602'"
      ]
     },
     "execution_count": 2,
     "metadata": {
      "tags": []
     },
     "output_type": "execute_result"
    }
   ],
   "source": [
    "import collections\n",
    "import matplotlib.pyplot as plt\n",
    "%matplotlib inline\n",
    "import numpy as np\n",
    "import tensorflow as tf\n",
    "\n",
    "import tensorflow.keras as keras\n",
    "import tensorflow.keras.backend as K\n",
    "from tensorflow.keras.models import load_model, Model\n",
    "tf.__version__"
   ]
  },
  {
   "cell_type": "code",
   "execution_count": 0,
   "metadata": {
    "colab": {},
    "colab_type": "code",
    "id": "QW1STF5bM5rU"
   },
   "outputs": [],
   "source": [
    "(X_clean_train, Y_clean_train), (X_clean_test, Y_clean_test) = tf.keras.datasets.cifar10.load_data()\n"
   ]
  },
  {
   "cell_type": "code",
   "execution_count": 0,
   "metadata": {
    "colab": {},
    "colab_type": "code",
    "id": "7G5sHa50M5rw"
   },
   "outputs": [],
   "source": [
    "\n",
    "input_shape = (32,32,3)\n",
    "encoded_size = 16\n",
    "base_depth = 32\n",
    "L2_weight_decay = 2e-5\n",
    "batch_size = 1000"
   ]
  },
  {
   "cell_type": "code",
   "execution_count": 0,
   "metadata": {
    "colab": {},
    "colab_type": "code",
    "id": "gzuwlS8EM5r0"
   },
   "outputs": [],
   "source": [
    "tfk = tf.keras\n",
    "tfkl = tf.keras.layers\n",
    "import tensorflow_probability as tfp\n",
    "tfd = tfp.distributions\n",
    "initializer = tf.initializers.VarianceScaling(scale=2.0)"
   ]
  },
  {
   "cell_type": "code",
   "execution_count": 0,
   "metadata": {
    "colab": {},
    "colab_type": "code",
    "id": "bo8XVgZmM5r_"
   },
   "outputs": [],
   "source": [
    "def SampleFromEncoding(mean, sigma):\n",
    "    t_sigma = tf.sqrt(tf.exp(sigma))\n",
    "    epsilon = tf.keras.backend.random_normal(shape=tf.shape(mean), mean=0., stddev=1., dtype = tf.float64)\n",
    "    return mean + t_sigma * epsilon"
   ]
  },
  {
   "cell_type": "code",
   "execution_count": 0,
   "metadata": {
    "colab": {},
    "colab_type": "code",
    "id": "UzHlcZzYM5sW"
   },
   "outputs": [],
   "source": [
    "class VaeConvNet(tf.keras.Model):\n",
    "    def __init__(self, input_shape = (32,32,3)):\n",
    "        super(VaeConvNet, self).__init__()  \n",
    "        self.e_conv1 = tf.keras.layers.Conv2D(filters=3 , kernel_size=2, strides=1, activation=tf.nn.relu, padding='same', name=\"e-conv1\", trainable=True)\n",
    "        self.e_conv2 = tf.keras.layers.Conv2D(filters=32, kernel_size=2, strides=2, activation=tf.nn.relu, padding='same', name=\"e-conv2\", trainable=True)\n",
    "        self.e_conv3 = tf.keras.layers.Conv2D(filters=32, kernel_size=2, strides=1, activation=tf.nn.relu, padding='same', name=\"e-conv3\", trainable=True)\n",
    "        self.e_conv4 = tf.keras.layers.Conv2D(filters=32, kernel_size=2, strides=1, activation=tf.nn.relu, padding='same', name=\"e-conv4\", trainable=True)\n",
    "        self.e_dense  = tf.keras.layers.Dense(128, tf.nn.relu, name=\"e-sdnse\", trainable=True)\n",
    "        self.e_mean  = tf.keras.layers.Dense(encoded_size, tf.nn.softplus, name=\"e-mean\", trainable=True)\n",
    "        self.e_sigma  = tf.keras.layers.Dense(encoded_size,tf.nn.softplus, name=\"e-sigma\", trainable=True)\n",
    "        \n",
    "        self.d_dense = tf.keras.layers.Dense(128, name=\"d-dense\", trainable=True)\n",
    "        self.d_dense2 = tf.keras.layers.Dense(32*input_shape[0]*input_shape[1]/4, name=\"d-dense2\", trainable=True)\n",
    "        self.d_convT1 = tf.keras.layers.Conv2DTranspose(filters=32, kernel_size=2, strides=1, activation=tf.nn.relu, padding='same', name=\"d-convT1\", trainable=True)\n",
    "        self.d_convT2 = tf.keras.layers.Conv2DTranspose(filters=32 , kernel_size=2, strides=1, activation=tf.nn.relu, padding='same', name=\"d-convT2\", trainable=True)\n",
    "        self.d_convT3 = tf.keras.layers.Conv2DTranspose(filters=3  , kernel_size=2, strides=2, activation=tf.nn.relu, padding='valid', name=\"d-convT3\", trainable=True)\n",
    "        #self.d_conv = tf.keras.layers.Conv2D(filters=3  , kernel_size=2, strides=1, activation=tf.nn.sigmoid, padding='same', name=\"d-conv\", trainable=True)\n",
    "        \n",
    "        \n",
    "    def call(self, x, training=False):\n",
    "        x = self.e_conv1(x)\n",
    "        x = self.e_conv2(x)\n",
    "        x = self.e_conv3(x)\n",
    "        x = self.e_conv4(x)\n",
    "        x = tf.keras.layers.Flatten()(x)\n",
    "        x = self.e_dense(x)\n",
    "        mean = self.e_mean(x)\n",
    "        sigma = self.e_sigma(x)\n",
    "        sample = SampleFromEncoding( mean, sigma)\n",
    "        y = self.d_dense(sample)\n",
    "        y = self.d_dense2(y)\n",
    "        y = tf.keras.layers.Reshape(target_shape=(16,16,32), input_shape=(None, encoded_size))(y)\n",
    "        y = self.d_convT1(y)\n",
    "        y = self.d_convT2(y)\n",
    "        y = self.d_convT3(y)\n",
    "        #y = self.d_conv(y)\n",
    "        return y, mean, sigma    "
   ]
  },
  {
   "cell_type": "code",
   "execution_count": 0,
   "metadata": {
    "colab": {},
    "colab_type": "code",
    "id": "dFTkVrqkM5sm"
   },
   "outputs": [],
   "source": [
    "def VaeLoss(x, x_reco, mean, sigma):\n",
    "  reconstruction_term = -tf.reduce_sum(tfp.distributions.MultivariateNormalDiag(\n",
    "      tf.keras.layers.Flatten()(x_reco), scale_identity_multiplier=0.05).log_prob(tf.keras.layers.Flatten()(x)))\n",
    "  kl_divergence = 0.5 * tf.reduce_mean(tf.square(mean) + tf.square(sigma) - tf.math.log(1e-8 + tf.square(sigma)) - 1, [1])\n",
    "  return tf.reduce_mean(reconstruction_term + kl_divergence)"
   ]
  },
  {
   "cell_type": "code",
   "execution_count": 0,
   "metadata": {
    "colab": {},
    "colab_type": "code",
    "id": "rGY5NE-uM5sr"
   },
   "outputs": [],
   "source": [
    "def optimizer_init_fn():\n",
    "    learning_rate = 0.001\n",
    "    return tf.keras.optimizers.Adam(learning_rate=learning_rate)\n",
    "\n",
    "optimizer = optimizer_init_fn()\n"
   ]
  },
  {
   "cell_type": "code",
   "execution_count": 0,
   "metadata": {
    "colab": {},
    "colab_type": "code",
    "id": "yxug4DWP64Du"
   },
   "outputs": [],
   "source": [
    "model     = VaeConvNet()"
   ]
  },
  {
   "cell_type": "code",
   "execution_count": 0,
   "metadata": {
    "colab": {},
    "colab_type": "code",
    "id": "tOGQcOT1M5s8"
   },
   "outputs": [],
   "source": [
    "def Train(model, optimizer, x, num_epochs, batch_size, is_training=False):\n",
    "    t = 0\n",
    "    train_loss = tf.keras.metrics.Mean(name='train_loss')\n",
    "    \n",
    "    num_batches = tf.shape(x)[0]//batch_size\n",
    "    for epoch in range(num_epochs):\n",
    "        \n",
    "        train_loss.reset_states()\n",
    "        \n",
    "        for batch in range(num_batches):\n",
    "            x_batch_input = x[batch*batch_size : (batch+1)*batch_size]/255\n",
    "            \n",
    "            with tf.GradientTape() as tape:\n",
    "                # Use the model function to build the forward pass.\n",
    "                y_output, mean, sigma  = model(x_batch_input, training=True)\n",
    "                loss = VaeLoss(x_batch_input, y_output, mean, sigma )\n",
    "                \n",
    "                if is_training:\n",
    "                  gradients = tape.gradient(loss, model.trainable_variables)\n",
    "                  optimizer.apply_gradients(zip(gradients, model.trainable_variables))\n",
    "                \n",
    "            # Update the metrics\n",
    "            train_loss.update_state(loss)\n",
    "\n",
    "            if t % 10 == 0:\n",
    "              template = 'Iteration {}, Epoch {}, Loss: {}'\n",
    "              print (template.format(t, epoch+1, train_loss.result()) )                   \n",
    "            t += 1\n",
    "    "
   ]
  },
  {
   "cell_type": "code",
   "execution_count": null,
   "metadata": {
    "colab": {
     "base_uri": "https://localhost:8080/",
     "height": 375
    },
    "colab_type": "code",
    "id": "ESVw9lx2M5tA",
    "outputId": "8bd55c5d-9a41-4419-be27-24b09d4a38ce"
   },
   "outputs": [],
   "source": [
    "Train(model, optimizer=optimizer, x=X_clean_train, num_epochs=25, batch_size = batch_size, is_training=True)"
   ]
  },
  {
   "cell_type": "code",
   "execution_count": 15,
   "metadata": {
    "colab": {
     "base_uri": "https://localhost:8080/",
     "height": 867
    },
    "colab_type": "code",
    "id": "bXTzYIWo_4mD",
    "outputId": "798a66e4-0783-4bfd-9783-727d44315b0b"
   },
   "outputs": [
    {
     "name": "stdout",
     "output_type": "stream",
     "text": [
      "Iteration 0, Epoch 1, Loss: 5029492.0\n",
      "Iteration 10, Epoch 1, Loss: 4722672.5\n",
      "Iteration 20, Epoch 1, Loss: 4697304.5\n",
      "Iteration 30, Epoch 1, Loss: 4686607.0\n",
      "Iteration 40, Epoch 1, Loss: 4653678.0\n",
      "Iteration 50, Epoch 2, Loss: 4880903.5\n",
      "Iteration 60, Epoch 2, Loss: 4583726.0\n",
      "Iteration 70, Epoch 2, Loss: 4603425.0\n",
      "Iteration 80, Epoch 2, Loss: 4616446.0\n",
      "Iteration 90, Epoch 2, Loss: 4597495.5\n",
      "Iteration 100, Epoch 3, Loss: 4873375.0\n",
      "Iteration 110, Epoch 3, Loss: 4574323.0\n",
      "Iteration 120, Epoch 3, Loss: 4594009.5\n",
      "Iteration 130, Epoch 3, Loss: 4606757.5\n",
      "Iteration 140, Epoch 3, Loss: 4587775.0\n",
      "Iteration 150, Epoch 4, Loss: 4864523.5\n",
      "Iteration 160, Epoch 4, Loss: 4563099.0\n",
      "Iteration 170, Epoch 4, Loss: 4583357.5\n",
      "Iteration 180, Epoch 4, Loss: 4596370.0\n",
      "Iteration 190, Epoch 4, Loss: 4577820.5\n",
      "Iteration 200, Epoch 5, Loss: 4854783.0\n",
      "Iteration 210, Epoch 5, Loss: 4553606.0\n",
      "Iteration 220, Epoch 5, Loss: 4573682.5\n",
      "Iteration 230, Epoch 5, Loss: 4586367.0\n",
      "Iteration 240, Epoch 5, Loss: 4567557.5\n",
      "Iteration 250, Epoch 6, Loss: 4845719.5\n",
      "Iteration 260, Epoch 6, Loss: 4543062.5\n",
      "Iteration 270, Epoch 6, Loss: 4563452.0\n",
      "Iteration 280, Epoch 6, Loss: 4576103.0\n",
      "Iteration 290, Epoch 6, Loss: 4557012.5\n",
      "Iteration 300, Epoch 7, Loss: 4835905.5\n",
      "Iteration 310, Epoch 7, Loss: 4534116.5\n",
      "Iteration 320, Epoch 7, Loss: 4554633.0\n",
      "Iteration 330, Epoch 7, Loss: 4567306.5\n",
      "Iteration 340, Epoch 7, Loss: 4548858.0\n",
      "Iteration 350, Epoch 8, Loss: 4826849.5\n",
      "Iteration 360, Epoch 8, Loss: 4524528.5\n",
      "Iteration 370, Epoch 8, Loss: 4545255.0\n",
      "Iteration 380, Epoch 8, Loss: 4558553.5\n",
      "Iteration 390, Epoch 8, Loss: 4539613.0\n",
      "Iteration 400, Epoch 9, Loss: 4817155.0\n",
      "Iteration 410, Epoch 9, Loss: 4514622.0\n",
      "Iteration 420, Epoch 9, Loss: 4535223.5\n",
      "Iteration 430, Epoch 9, Loss: 4548402.0\n",
      "Iteration 440, Epoch 9, Loss: 4529824.5\n",
      "Iteration 450, Epoch 10, Loss: 4809286.5\n",
      "Iteration 460, Epoch 10, Loss: 4505363.0\n",
      "Iteration 470, Epoch 10, Loss: 4525853.0\n",
      "Iteration 480, Epoch 10, Loss: 4538994.5\n",
      "Iteration 490, Epoch 10, Loss: 4520738.5\n"
     ]
    }
   ],
   "source": [
    "Train(model, optimizer=optimizer, x=X_clean_train, num_epochs=10, batch_size = batch_size, is_training=True)"
   ]
  },
  {
   "cell_type": "code",
   "execution_count": 17,
   "metadata": {
    "colab": {
     "base_uri": "https://localhost:8080/",
     "height": 867
    },
    "colab_type": "code",
    "id": "0Dq3i6g4BY9Q",
    "outputId": "483e241c-416a-4f5b-c796-2748bf6ffce3"
   },
   "outputs": [
    {
     "name": "stdout",
     "output_type": "stream",
     "text": [
      "Iteration 0, Epoch 1, Loss: 4795487.5\n",
      "Iteration 10, Epoch 1, Loss: 4516942.0\n",
      "Iteration 20, Epoch 1, Loss: 4525826.5\n",
      "Iteration 30, Epoch 1, Loss: 4532755.0\n",
      "Iteration 40, Epoch 1, Loss: 4511228.0\n",
      "Iteration 50, Epoch 2, Loss: 4771861.0\n",
      "Iteration 60, Epoch 2, Loss: 4475030.0\n",
      "Iteration 70, Epoch 2, Loss: 4496811.0\n",
      "Iteration 80, Epoch 2, Loss: 4510669.5\n",
      "Iteration 90, Epoch 2, Loss: 4493101.0\n",
      "Iteration 100, Epoch 3, Loss: 4768635.5\n",
      "Iteration 110, Epoch 3, Loss: 4471935.5\n",
      "Iteration 120, Epoch 3, Loss: 4493577.5\n",
      "Iteration 130, Epoch 3, Loss: 4507244.0\n",
      "Iteration 140, Epoch 3, Loss: 4489442.5\n",
      "Iteration 150, Epoch 4, Loss: 4765326.5\n",
      "Iteration 160, Epoch 4, Loss: 4467712.0\n",
      "Iteration 170, Epoch 4, Loss: 4489090.5\n",
      "Iteration 180, Epoch 4, Loss: 4502918.0\n",
      "Iteration 190, Epoch 4, Loss: 4485296.5\n",
      "Iteration 200, Epoch 5, Loss: 4762504.5\n",
      "Iteration 210, Epoch 5, Loss: 4463289.5\n",
      "Iteration 220, Epoch 5, Loss: 4485148.0\n",
      "Iteration 230, Epoch 5, Loss: 4499182.5\n",
      "Iteration 240, Epoch 5, Loss: 4481353.0\n",
      "Iteration 250, Epoch 6, Loss: 4760703.0\n",
      "Iteration 260, Epoch 6, Loss: 4459586.0\n",
      "Iteration 270, Epoch 6, Loss: 4481394.5\n",
      "Iteration 280, Epoch 6, Loss: 4495015.0\n",
      "Iteration 290, Epoch 6, Loss: 4477042.5\n",
      "Iteration 300, Epoch 7, Loss: 4756482.0\n",
      "Iteration 310, Epoch 7, Loss: 4454562.0\n",
      "Iteration 320, Epoch 7, Loss: 4476345.0\n",
      "Iteration 330, Epoch 7, Loss: 4490021.0\n",
      "Iteration 340, Epoch 7, Loss: 4472383.5\n",
      "Iteration 350, Epoch 8, Loss: 4750200.5\n",
      "Iteration 360, Epoch 8, Loss: 4451003.5\n",
      "Iteration 370, Epoch 8, Loss: 4472324.0\n",
      "Iteration 380, Epoch 8, Loss: 4486188.5\n",
      "Iteration 390, Epoch 8, Loss: 4468532.0\n",
      "Iteration 400, Epoch 9, Loss: 4749000.5\n",
      "Iteration 410, Epoch 9, Loss: 4446986.5\n",
      "Iteration 420, Epoch 9, Loss: 4468365.0\n",
      "Iteration 430, Epoch 9, Loss: 4482448.0\n",
      "Iteration 440, Epoch 9, Loss: 4464576.5\n",
      "Iteration 450, Epoch 10, Loss: 4743346.5\n",
      "Iteration 460, Epoch 10, Loss: 4442492.0\n",
      "Iteration 470, Epoch 10, Loss: 4463273.0\n",
      "Iteration 480, Epoch 10, Loss: 4476924.5\n",
      "Iteration 490, Epoch 10, Loss: 4459463.5\n"
     ]
    }
   ],
   "source": [
    "Train(model, optimizer=optimizer, x=X_clean_train, num_epochs=10, batch_size = batch_size, is_training=True)"
   ]
  },
  {
   "cell_type": "code",
   "execution_count": 19,
   "metadata": {
    "colab": {
     "base_uri": "https://localhost:8080/",
     "height": 867
    },
    "colab_type": "code",
    "id": "Ov-rHDuo6fHw",
    "outputId": "95a254c0-4c5c-4cc8-cb4e-6ff2e7fc6a48"
   },
   "outputs": [
    {
     "name": "stdout",
     "output_type": "stream",
     "text": [
      "Iteration 0, Epoch 1, Loss: 4738730.0\n",
      "Iteration 10, Epoch 1, Loss: 4432672.5\n",
      "Iteration 20, Epoch 1, Loss: 4451177.5\n",
      "Iteration 30, Epoch 1, Loss: 4462854.5\n",
      "Iteration 40, Epoch 1, Loss: 4443687.0\n",
      "Iteration 50, Epoch 2, Loss: 4718017.5\n",
      "Iteration 60, Epoch 2, Loss: 4421271.5\n",
      "Iteration 70, Epoch 2, Loss: 4442033.0\n",
      "Iteration 80, Epoch 2, Loss: 4455782.5\n",
      "Iteration 90, Epoch 2, Loss: 4438396.5\n",
      "Iteration 100, Epoch 3, Loss: 4719292.5\n",
      "Iteration 110, Epoch 3, Loss: 4419661.5\n",
      "Iteration 120, Epoch 3, Loss: 4440582.0\n",
      "Iteration 130, Epoch 3, Loss: 4454466.0\n",
      "Iteration 140, Epoch 3, Loss: 4436898.5\n",
      "Iteration 150, Epoch 4, Loss: 4716809.0\n",
      "Iteration 160, Epoch 4, Loss: 4417225.5\n",
      "Iteration 170, Epoch 4, Loss: 4438447.0\n",
      "Iteration 180, Epoch 4, Loss: 4452729.0\n",
      "Iteration 190, Epoch 4, Loss: 4435500.0\n",
      "Iteration 200, Epoch 5, Loss: 4714538.5\n",
      "Iteration 210, Epoch 5, Loss: 4414987.5\n",
      "Iteration 220, Epoch 5, Loss: 4436769.5\n",
      "Iteration 230, Epoch 5, Loss: 4451037.0\n",
      "Iteration 240, Epoch 5, Loss: 4434036.5\n",
      "Iteration 250, Epoch 6, Loss: 4714663.0\n",
      "Iteration 260, Epoch 6, Loss: 4414280.0\n",
      "Iteration 270, Epoch 6, Loss: 4435581.0\n",
      "Iteration 280, Epoch 6, Loss: 4450071.5\n",
      "Iteration 290, Epoch 6, Loss: 4432965.5\n",
      "Iteration 300, Epoch 7, Loss: 4712904.0\n",
      "Iteration 310, Epoch 7, Loss: 4413100.5\n",
      "Iteration 320, Epoch 7, Loss: 4434499.5\n",
      "Iteration 330, Epoch 7, Loss: 4449012.0\n",
      "Iteration 340, Epoch 7, Loss: 4431804.5\n",
      "Iteration 350, Epoch 8, Loss: 4712543.5\n",
      "Iteration 360, Epoch 8, Loss: 4412450.0\n",
      "Iteration 370, Epoch 8, Loss: 4433617.0\n",
      "Iteration 380, Epoch 8, Loss: 4447828.0\n",
      "Iteration 390, Epoch 8, Loss: 4430418.5\n",
      "Iteration 400, Epoch 9, Loss: 4709683.0\n",
      "Iteration 410, Epoch 9, Loss: 4410214.5\n",
      "Iteration 420, Epoch 9, Loss: 4431517.5\n",
      "Iteration 430, Epoch 9, Loss: 4445970.5\n",
      "Iteration 440, Epoch 9, Loss: 4429066.5\n",
      "Iteration 450, Epoch 10, Loss: 4711240.5\n",
      "Iteration 460, Epoch 10, Loss: 4409556.5\n",
      "Iteration 470, Epoch 10, Loss: 4430818.5\n",
      "Iteration 480, Epoch 10, Loss: 4445263.0\n",
      "Iteration 490, Epoch 10, Loss: 4427995.0\n"
     ]
    }
   ],
   "source": [
    "Train(model, optimizer=optimizer, x=X_clean_train, num_epochs=10, batch_size = batch_size, is_training=True)"
   ]
  },
  {
   "cell_type": "code",
   "execution_count": 30,
   "metadata": {
    "colab": {
     "base_uri": "https://localhost:8080/",
     "height": 867
    },
    "colab_type": "code",
    "id": "ZWrrfgHFVyw4",
    "outputId": "7a8baf3d-476b-4449-e0e9-fd2becb68ef9"
   },
   "outputs": [
    {
     "name": "stdout",
     "output_type": "stream",
     "text": [
      "Iteration 0, Epoch 1, Loss: 4706355.0\n",
      "Iteration 10, Epoch 1, Loss: 4408084.5\n",
      "Iteration 20, Epoch 1, Loss: 4429587.0\n",
      "Iteration 30, Epoch 1, Loss: 4444014.5\n",
      "Iteration 40, Epoch 1, Loss: 4426845.0\n",
      "Iteration 50, Epoch 2, Loss: 4706973.0\n",
      "Iteration 60, Epoch 2, Loss: 4407222.5\n",
      "Iteration 70, Epoch 2, Loss: 4428185.0\n",
      "Iteration 80, Epoch 2, Loss: 4442463.5\n",
      "Iteration 90, Epoch 2, Loss: 4425146.0\n",
      "Iteration 100, Epoch 3, Loss: 4706651.5\n",
      "Iteration 110, Epoch 3, Loss: 4406599.5\n",
      "Iteration 120, Epoch 3, Loss: 4427624.0\n",
      "Iteration 130, Epoch 3, Loss: 4441759.0\n",
      "Iteration 140, Epoch 3, Loss: 4424533.5\n",
      "Iteration 150, Epoch 4, Loss: 4704949.5\n",
      "Iteration 160, Epoch 4, Loss: 4404856.5\n",
      "Iteration 170, Epoch 4, Loss: 4425956.0\n",
      "Iteration 180, Epoch 4, Loss: 4440194.0\n",
      "Iteration 190, Epoch 4, Loss: 4422988.5\n",
      "Iteration 200, Epoch 5, Loss: 4705428.0\n",
      "Iteration 210, Epoch 5, Loss: 4402840.0\n",
      "Iteration 220, Epoch 5, Loss: 4424338.5\n",
      "Iteration 230, Epoch 5, Loss: 4438575.5\n",
      "Iteration 240, Epoch 5, Loss: 4421324.5\n",
      "Iteration 250, Epoch 6, Loss: 4704075.5\n",
      "Iteration 260, Epoch 6, Loss: 4402398.0\n",
      "Iteration 270, Epoch 6, Loss: 4423549.5\n",
      "Iteration 280, Epoch 6, Loss: 4437516.5\n",
      "Iteration 290, Epoch 6, Loss: 4420292.5\n",
      "Iteration 300, Epoch 7, Loss: 4699650.5\n",
      "Iteration 310, Epoch 7, Loss: 4401503.5\n",
      "Iteration 320, Epoch 7, Loss: 4422696.0\n",
      "Iteration 330, Epoch 7, Loss: 4437004.5\n",
      "Iteration 340, Epoch 7, Loss: 4419693.5\n",
      "Iteration 350, Epoch 8, Loss: 4700834.5\n",
      "Iteration 360, Epoch 8, Loss: 4399529.0\n",
      "Iteration 370, Epoch 8, Loss: 4420367.0\n",
      "Iteration 380, Epoch 8, Loss: 4434918.0\n",
      "Iteration 390, Epoch 8, Loss: 4418058.5\n",
      "Iteration 400, Epoch 9, Loss: 4699184.0\n",
      "Iteration 410, Epoch 9, Loss: 4398184.0\n",
      "Iteration 420, Epoch 9, Loss: 4419359.0\n",
      "Iteration 430, Epoch 9, Loss: 4433872.0\n",
      "Iteration 440, Epoch 9, Loss: 4416845.5\n",
      "Iteration 450, Epoch 10, Loss: 4697110.0\n",
      "Iteration 460, Epoch 10, Loss: 4397051.5\n",
      "Iteration 470, Epoch 10, Loss: 4418432.5\n",
      "Iteration 480, Epoch 10, Loss: 4432822.0\n",
      "Iteration 490, Epoch 10, Loss: 4415872.5\n"
     ]
    }
   ],
   "source": [
    "Train(model, optimizer=optimizer, x=X_clean_train, num_epochs=10, batch_size = batch_size, is_training=True)"
   ]
  },
  {
   "cell_type": "code",
   "execution_count": 32,
   "metadata": {
    "colab": {
     "base_uri": "https://localhost:8080/",
     "height": 1292
    },
    "colab_type": "code",
    "id": "7rHKTz4SWxZa",
    "outputId": "b3fca03d-facc-45dd-af58-a870f232005e"
   },
   "outputs": [
    {
     "name": "stdout",
     "output_type": "stream",
     "text": [
      "Iteration 0, Epoch 1, Loss: 4697745.5\n",
      "Iteration 10, Epoch 1, Loss: 4395869.0\n",
      "Iteration 20, Epoch 1, Loss: 4416639.0\n",
      "Iteration 30, Epoch 1, Loss: 4430612.0\n",
      "Iteration 40, Epoch 1, Loss: 4413318.0\n",
      "Iteration 50, Epoch 2, Loss: 4690193.5\n",
      "Iteration 60, Epoch 2, Loss: 4391524.5\n",
      "Iteration 70, Epoch 2, Loss: 4413672.5\n",
      "Iteration 80, Epoch 2, Loss: 4428306.0\n",
      "Iteration 90, Epoch 2, Loss: 4411500.0\n",
      "Iteration 100, Epoch 3, Loss: 4693664.5\n",
      "Iteration 110, Epoch 3, Loss: 4391505.5\n",
      "Iteration 120, Epoch 3, Loss: 4413021.0\n",
      "Iteration 130, Epoch 3, Loss: 4427709.0\n",
      "Iteration 140, Epoch 3, Loss: 4410805.5\n",
      "Iteration 150, Epoch 4, Loss: 4689900.0\n",
      "Iteration 160, Epoch 4, Loss: 4392024.5\n",
      "Iteration 170, Epoch 4, Loss: 4413300.0\n",
      "Iteration 180, Epoch 4, Loss: 4427620.5\n",
      "Iteration 190, Epoch 4, Loss: 4410627.0\n",
      "Iteration 200, Epoch 5, Loss: 4691763.0\n",
      "Iteration 210, Epoch 5, Loss: 4391096.0\n",
      "Iteration 220, Epoch 5, Loss: 4412045.5\n",
      "Iteration 230, Epoch 5, Loss: 4426632.5\n",
      "Iteration 240, Epoch 5, Loss: 4409722.0\n",
      "Iteration 250, Epoch 6, Loss: 4689225.5\n",
      "Iteration 260, Epoch 6, Loss: 4389470.0\n",
      "Iteration 270, Epoch 6, Loss: 4411552.5\n",
      "Iteration 280, Epoch 6, Loss: 4426140.0\n",
      "Iteration 290, Epoch 6, Loss: 4409359.0\n",
      "Iteration 300, Epoch 7, Loss: 4689393.0\n",
      "Iteration 310, Epoch 7, Loss: 4390407.5\n",
      "Iteration 320, Epoch 7, Loss: 4411613.0\n",
      "Iteration 330, Epoch 7, Loss: 4426080.5\n",
      "Iteration 340, Epoch 7, Loss: 4409007.0\n",
      "Iteration 350, Epoch 8, Loss: 4689557.0\n",
      "Iteration 360, Epoch 8, Loss: 4389042.0\n",
      "Iteration 370, Epoch 8, Loss: 4410479.0\n",
      "Iteration 380, Epoch 8, Loss: 4424942.5\n",
      "Iteration 390, Epoch 8, Loss: 4407988.5\n",
      "Iteration 400, Epoch 9, Loss: 4691098.0\n",
      "Iteration 410, Epoch 9, Loss: 4388800.0\n",
      "Iteration 420, Epoch 9, Loss: 4409996.0\n",
      "Iteration 430, Epoch 9, Loss: 4424464.0\n",
      "Iteration 440, Epoch 9, Loss: 4407387.5\n",
      "Iteration 450, Epoch 10, Loss: 4687649.5\n",
      "Iteration 460, Epoch 10, Loss: 4387464.0\n",
      "Iteration 470, Epoch 10, Loss: 4409431.0\n",
      "Iteration 480, Epoch 10, Loss: 4424017.5\n",
      "Iteration 490, Epoch 10, Loss: 4407047.5\n",
      "Iteration 500, Epoch 11, Loss: 4690437.0\n",
      "Iteration 510, Epoch 11, Loss: 4388184.5\n",
      "Iteration 520, Epoch 11, Loss: 4408920.5\n",
      "Iteration 530, Epoch 11, Loss: 4423508.0\n",
      "Iteration 540, Epoch 11, Loss: 4406511.5\n",
      "Iteration 550, Epoch 12, Loss: 4688061.0\n",
      "Iteration 560, Epoch 12, Loss: 4387927.5\n",
      "Iteration 570, Epoch 12, Loss: 4408717.0\n",
      "Iteration 580, Epoch 12, Loss: 4423221.5\n",
      "Iteration 590, Epoch 12, Loss: 4406059.5\n",
      "Iteration 600, Epoch 13, Loss: 4688768.5\n",
      "Iteration 610, Epoch 13, Loss: 4387394.0\n",
      "Iteration 620, Epoch 13, Loss: 4408002.0\n",
      "Iteration 630, Epoch 13, Loss: 4422374.5\n",
      "Iteration 640, Epoch 13, Loss: 4405352.0\n",
      "Iteration 650, Epoch 14, Loss: 4687211.5\n",
      "Iteration 660, Epoch 14, Loss: 4385815.5\n",
      "Iteration 670, Epoch 14, Loss: 4407276.0\n",
      "Iteration 680, Epoch 14, Loss: 4421826.0\n",
      "Iteration 690, Epoch 14, Loss: 4404732.0\n",
      "Iteration 700, Epoch 15, Loss: 4684817.5\n",
      "Iteration 710, Epoch 15, Loss: 4385237.0\n",
      "Iteration 720, Epoch 15, Loss: 4406564.0\n",
      "Iteration 730, Epoch 15, Loss: 4421417.5\n",
      "Iteration 740, Epoch 15, Loss: 4404543.5\n"
     ]
    }
   ],
   "source": [
    "Train(model, optimizer=optimizer, x=X_clean_train, num_epochs=15, batch_size = batch_size, is_training=True)"
   ]
  },
  {
   "cell_type": "code",
   "execution_count": 0,
   "metadata": {
    "colab": {},
    "colab_type": "code",
    "id": "s4489NfZ58wm"
   },
   "outputs": [],
   "source": [
    "# model.load_weights('vae.h5') "
   ]
  },
  {
   "cell_type": "code",
   "execution_count": 0,
   "metadata": {
    "colab": {},
    "colab_type": "code",
    "id": "Vkk7DRLDSHMU"
   },
   "outputs": [],
   "source": [
    "x_reco, mean, sigma  = model(X_clean_test[0:batch_size]/255, training=False)"
   ]
  },
  {
   "cell_type": "code",
   "execution_count": 49,
   "metadata": {
    "colab": {
     "base_uri": "https://localhost:8080/",
     "height": 286
    },
    "colab_type": "code",
    "id": "GDIUvSVKSHwv",
    "outputId": "d166e97f-d05a-4e0d-d94f-32b49495d3a4"
   },
   "outputs": [
    {
     "data": {
      "text/plain": [
       "<matplotlib.image.AxesImage at 0x7efc83e92dd8>"
      ]
     },
     "execution_count": 49,
     "metadata": {
      "tags": []
     },
     "output_type": "execute_result"
    },
    {
     "data": {
      "image/png": "[encoded data removed]",
      "text/plain": [
       "<Figure size 432x288 with 1 Axes>"
      ]
     },
     "metadata": {
      "tags": []
     },
     "output_type": "display_data"
    }
   ],
   "source": [
    "plt.imshow(X_clean_test[13])"
   ]
  },
  {
   "cell_type": "code",
   "execution_count": 50,
   "metadata": {
    "colab": {
     "base_uri": "https://localhost:8080/",
     "height": 286
    },
    "colab_type": "code",
    "id": "vCIfXG6CSH4a",
    "outputId": "d7d6033b-0cb0-4705-d374-f14ba938235e"
   },
   "outputs": [
    {
     "data": {
      "text/plain": [
       "<matplotlib.image.AxesImage at 0x7efc83e77588>"
      ]
     },
     "execution_count": 50,
     "metadata": {
      "tags": []
     },
     "output_type": "execute_result"
    },
    {
     "data": {
      "image/png": "[encoded data removed]",
      "text/plain": [
       "<Figure size 432x288 with 1 Axes>"
      ]
     },
     "metadata": {
      "tags": []
     },
     "output_type": "display_data"
    }
   ],
   "source": [
    "plt.imshow(np.clip(x_reco[13]*255, 0, 255).astype(int))"
   ]
  },
  {
   "cell_type": "markdown",
   "metadata": {
    "colab_type": "text",
    "id": "2BJxFkFJUrRY"
   },
   "source": []
  },
  {
   "cell_type": "code",
   "execution_count": 51,
   "metadata": {
    "colab": {
     "base_uri": "https://localhost:8080/",
     "height": 561
    },
    "colab_type": "code",
    "id": "XXqBN6VoM5tE",
    "outputId": "3b1165dd-5bc0-49f4-b51e-5d1c11b6556a"
   },
   "outputs": [
    {
     "name": "stdout",
     "output_type": "stream",
     "text": [
      "Model: \"vae_conv_net\"\n",
      "_________________________________________________________________\n",
      "Layer (type)                 Output Shape              Param #   \n",
      "=================================================================\n",
      "e-conv1 (Conv2D)             multiple                  39        \n",
      "_________________________________________________________________\n",
      "e-conv2 (Conv2D)             multiple                  416       \n",
      "_________________________________________________________________\n",
      "e-conv3 (Conv2D)             multiple                  4128      \n",
      "_________________________________________________________________\n",
      "e-conv4 (Conv2D)             multiple                  4128      \n",
      "_________________________________________________________________\n",
      "e-sdnse (Dense)              multiple                  1048704   \n",
      "_________________________________________________________________\n",
      "e-mean (Dense)               multiple                  2064      \n",
      "_________________________________________________________________\n",
      "e-sigma (Dense)              multiple                  2064      \n",
      "_________________________________________________________________\n",
      "d-dense (Dense)              multiple                  2176      \n",
      "_________________________________________________________________\n",
      "d-dense2 (Dense)             multiple                  1056768   \n",
      "_________________________________________________________________\n",
      "d-convT1 (Conv2DTranspose)   multiple                  4128      \n",
      "_________________________________________________________________\n",
      "d-convT2 (Conv2DTranspose)   multiple                  4128      \n",
      "_________________________________________________________________\n",
      "d-convT3 (Conv2DTranspose)   multiple                  387       \n",
      "=================================================================\n",
      "Total params: 2,129,130\n",
      "Trainable params: 2,129,130\n",
      "Non-trainable params: 0\n",
      "_________________________________________________________________\n"
     ]
    }
   ],
   "source": [
    "model.summary()"
   ]
  },
  {
   "cell_type": "code",
   "execution_count": null,
   "metadata": {
    "colab": {
     "base_uri": "https://localhost:8080/",
     "height": 561
    },
    "colab_type": "code",
    "id": "goGQAxqecYKU",
    "outputId": "9ca508dd-ca20-485b-e02a-46c7e117fff8"
   },
   "outputs": [],
   "source": [
    "!pip install -U -q PyDrive\n",
    "from pydrive.auth import GoogleAuth\n",
    "from pydrive.drive import GoogleDrive\n",
    "from google.colab import auth\n",
    "from oauth2client.client import GoogleCredentials\n",
    "\n",
    "# 1. Authenticate and create the PyDrive client.\n",
    "auth.authenticate_user()\n",
    "gauth = GoogleAuth()\n",
    "gauth.credentials = GoogleCredentials.get_application_default()\n",
    "drive = GoogleDrive(gauth)\n",
    "\n",
    "# 2. Save Keras Model or weights on google drive\n",
    "\n",
    "# create on Colab directory\n",
    "model.save_weights('vae.h5')    \n",
    "model_file = drive.CreateFile({'title' : 'vae.h5'})\n",
    "model_file.SetContentFile('vae.h5')\n",
    "model_file.Upload()\n",
    "\n",
    "# download to google drive\n",
    "drive.CreateFile({'id': model_file.get('id')})"
   ]
  },
  {
   "cell_type": "code",
   "execution_count": null,
   "metadata": {},
   "outputs": [],
   "source": [
    "class VaeDetectorNet(tf.keras.Model):\n",
    "    def __init__(self, input_shape = (32,32,3)):\n",
    "        super(VaeDecodervNet, self).__init__() \n",
    "        self.dense1 = tf.keras.layers.Dense(256, name=\"d-dense1\", activation=tf.nn.leaky_relu,kernel_initializer=initializer)\n",
    "        self.dense2 = tf.keras.layers.Dense(64, name=\"d-dense2\", activation=tf.nn.leaky_relu,kernel_initializer=initializer)\n",
    "        self.sigmoid = tf.keras.layers.Dense(1, name=\"d-sigmoid\", activation='sigmoid',kernel_initializer=tf.initializers.GlorotNormal())\n",
    "        \n",
    "    def call(self, x):\n",
    "        x = self.dense1(x)\n",
    "        x = self.dense2(x)\n",
    "        return self.sigmoid(x)   "
   ]
  },
  {
   "cell_type": "code",
   "execution_count": null,
   "metadata": {
    "colab": {},
    "colab_type": "code",
    "id": "ed4eAp9aM5um"
   },
   "outputs": [],
   "source": [
    "# CNN based detector model\n",
    "def encode_model_init_fn():\n",
    "    input_shape = (32, 32, 3)\n",
    "    channel_1, channel_2, channel_3, channel_4, num_classes = 32, 64, 96, 128, 10\n",
    "    BN_decay        = 0.99\n",
    "    BN_epsilon      = 1.e-5\n",
    "    L2_weight_decay = 2e-5\n",
    "    droput_rate     = 0.11\n",
    "    \n",
    "    initializer = tf.initializers.VarianceScaling(scale=2.0)\n",
    "    layers = [\n",
    "        tf.keras.layers.Conv2D(input_shape=input_shape, kernel_size=(3,3), filters=channel_1, activation='relu', padding='same', kernel_initializer=initializer, \n",
    "                             kernel_regularizer=tf.keras.regularizers.l2(L2_weight_decay),\n",
    "                             bias_regularizer=tf.keras.regularizers.l2(L2_weight_decay)),\n",
    "        tf.keras.layers.BatchNormalization(axis=-1, momentum=BN_decay, epsilon=BN_epsilon),\n",
    "        #tf.keras.layers.Dropout(droput_rate),\n",
    "        tf.keras.layers.Conv2D(kernel_size=(3,3), filters=channel_2, activation='relu', padding='same', kernel_initializer=initializer,\n",
    "                             kernel_regularizer=tf.keras.regularizers.l2(L2_weight_decay),\n",
    "                             bias_regularizer=tf.keras.regularizers.l2(L2_weight_decay)),\n",
    "        tf.keras.layers.BatchNormalization(axis=-1, momentum=BN_decay, epsilon=BN_epsilon),\n",
    "        tf.keras.layers.Dropout(droput_rate),\n",
    "        tf.keras.layers.Conv2D(kernel_size=(3,3), filters=channel_3, activation='relu', padding='same', kernel_initializer=initializer,\n",
    "                             kernel_regularizer=tf.keras.regularizers.l2(L2_weight_decay),\n",
    "                             bias_regularizer=tf.keras.regularizers.l2(L2_weight_decay)),\n",
    "        tf.keras.layers.BatchNormalization(axis=-1, momentum=BN_decay, epsilon=BN_epsilon),\n",
    "        tf.keras.layers.Dropout(droput_rate),\n",
    "        tf.keras.layers.Conv2D(kernel_size=(3,3), filters=channel_4, activation='relu', padding='same', kernel_initializer=initializer,\n",
    "                             kernel_regularizer=tf.keras.regularizers.l2(L2_weight_decay),\n",
    "                             bias_regularizer=tf.keras.regularizers.l2(L2_weight_decay)),\n",
    "        tf.keras.layers.GlobalMaxPooling2D(),\n",
    "        tf.keras.layers.Dense(1, activation='sigmoid', kernel_initializer=initializer),\n",
    "    ]\n",
    "    model = tf.keras.Sequential(layers)\n",
    "    return model\n"
   ]
  },
  {
   "cell_type": "code",
   "execution_count": 0,
   "metadata": {
    "colab": {},
    "colab_type": "code",
    "id": "0PEXRuo8M5uq"
   },
   "outputs": [],
   "source": [
    "learning_rate = 5e-3\n",
    "optimizer = tf.keras.optimizers.SGD(learning_rate=learning_rate, momentum = 0.9, nesterov=True)"
   ]
  },
  {
   "cell_type": "code",
   "execution_count": 0,
   "metadata": {
    "colab": {},
    "colab_type": "code",
    "id": "OOdPcIm9M5uu"
   },
   "outputs": [],
   "source": [
    "model = model_init_fn()\n",
    "model.compile(optimizer=optimizer,\n",
    "              loss=tf.keras.losses.binary_crossentropy,\n",
    "              metrics=[tf.keras.metrics.binary_accuracy])\n",
    "\n"
   ]
  },
  {
   "cell_type": "code",
   "execution_count": 0,
   "metadata": {
    "colab": {},
    "colab_type": "code",
    "id": "nf4iLO3XM5ux",
    "outputId": "6298c135-4d27-4fca-963e-74b7d4bf172a"
   },
   "outputs": [
    {
     "name": "stdout",
     "output_type": "stream",
     "text": [
      "tf.Tensor([47460    32    32     3], shape=(4,), dtype=int32)\n",
      "tf.Tensor([8256   32   32    3], shape=(4,), dtype=int32)\n",
      "tf.Tensor([55716    32    32     3], shape=(4,), dtype=int32)\n"
     ]
    }
   ],
   "source": [
    "print(tf.shape(X_clean_train_correct))\n",
    "print(tf.shape(X_clean_test_correct))\n",
    "X_d_trian = tf.concat( [X_clean_train_correct, X_clean_test_correct], axis = 0)\n",
    "print(tf.shape(X_d_trian))\n",
    "#Y_d_trian = tf.concat(Y_clean_train_correct, Y_clean_test_correct)\n",
    "Y_d_train = tf.ones(tf.shape(X_d_trian)[0])"
   ]
  },
  {
   "cell_type": "code",
   "execution_count": null,
   "metadata": {
    "colab": {},
    "colab_type": "code",
    "id": "j3wuItDNM5u5",
    "outputId": "93997e37-5b41-499d-85ee-a250367b3f15"
   },
   "outputs": [],
   "source": [
    "model.fit(X_d_trian, Y_d_train, batch_size=64, epochs=1) #, validation_data=(X_val, y_val))"
   ]
  },
  {
   "cell_type": "code",
   "execution_count": 0,
   "metadata": {
    "colab": {},
    "colab_type": "code",
    "id": "cb53MZEhM5vI"
   },
   "outputs": [],
   "source": [
    "model.evaluate(X_test, y_test)"
   ]
  },
  {
   "cell_type": "code",
   "execution_count": 0,
   "metadata": {
    "colab": {},
    "colab_type": "code",
    "id": "qC6MntyMM5vQ"
   },
   "outputs": [],
   "source": []
  },
  {
   "cell_type": "code",
   "execution_count": 0,
   "metadata": {
    "colab": {},
    "colab_type": "code",
    "id": "-oyeI6-dM5vo"
   },
   "outputs": [],
   "source": []
  }
 ],
 "metadata": {
  "accelerator": "GPU",
  "colab": {
   "collapsed_sections": [],
   "name": "vae_detector_ldim_2.ipynb",
   "provenance": [],
   "version": "0.3.2"
  },
  "kernelspec": {
   "display_name": "TensorFlow-2.0",
   "language": "python",
   "name": "tensorflow"
  },
  "language_info": {
   "codemirror_mode": {
    "name": "ipython",
    "version": 3
   },
   "file_extension": ".py",
   "mimetype": "text/x-python",
   "name": "python",
   "nbconvert_exporter": "python",
   "pygments_lexer": "ipython3",
   "version": "3.6.8"
  }
 },
 "nbformat": 4,
 "nbformat_minor": 1
}
