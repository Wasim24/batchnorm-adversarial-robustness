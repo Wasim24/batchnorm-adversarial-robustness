{
 "cells": [
  {
   "cell_type": "code",
   "execution_count": 1,
   "metadata": {},
   "outputs": [],
   "source": [
    "# !ls adversarial-robustness-toolbox/\n",
    "import os\n",
    "os.chdir('/home/surthi/adversarial-robustness-toolbox/')"
   ]
  },
  {
   "cell_type": "code",
   "execution_count": 2,
   "metadata": {},
   "outputs": [
    {
     "name": "stderr",
     "output_type": "stream",
     "text": [
      "Using TensorFlow backend.\n"
     ]
    }
   ],
   "source": [
    "from __future__ import absolute_import, division, print_function, unicode_literals\n",
    "\n",
    "import logging\n",
    "import tensorflow as tf\n",
    "import keras.backend as k\n",
    "from keras.models import Sequential\n",
    "from keras.layers import Dense, Flatten, Conv2D, MaxPooling2D, Activation, Dropout, BatchNormalization\n",
    "from keras.regularizers import l2\n",
    "import numpy as np\n",
    "from art.attacks import DeepFool\n",
    "from art.classifiers import KerasClassifier\n",
    "from art.utils import load_dataset"
   ]
  },
  {
   "cell_type": "code",
   "execution_count": 3,
   "metadata": {},
   "outputs": [],
   "source": [
    "def evaluate(clf, x_train, y_train, x_test, y_test):\n",
    "    # train acc\n",
    "    train_preds = np.argmax(clf.predict(x_train), axis=1)\n",
    "    train_acc = np.sum(train_preds == np.argmax(y_train, axis=1)) / y_train.shape[0]\n",
    "    # test acc\n",
    "    test_preds = np.argmax(clf.predict(x_test), axis=1)\n",
    "    test_acc = np.sum(test_preds == np.argmax(y_test, axis=1)) / y_test.shape[0]\n",
    "    print(\"\\nTraining and Test accuracies: %.2f %.2f%%\" % (train_acc*100, test_acc*100))\n",
    "    return train_acc, test_acc\n",
    "\n",
    "def plot_curves(model, title='model accuracy and loss'):\n",
    "    import matplotlib.pyplot as plt\n",
    "    plt.plot(model.history.history['acc'])\n",
    "    plt.plot(model.history.history['loss'])\n",
    "    plt.title(title)\n",
    "    plt.xlabel('Epoch')\n",
    "    plt.legend(['Accuracy', 'Loss'], loc='upper left')\n",
    "    return plt\n",
    "\n",
    "def save_clf(c, folder, clf_filename, model_filename):\n",
    "    cwd = os.getcwd()\n",
    "    os.chdir(folder)\n",
    "    import pickle\n",
    "    with open(clf_filename, \"wb\") as f:\n",
    "        pickle.dump(c.__getstate__, f)\n",
    "    c._model.save(model_filename)\n",
    "    os.chdir(cwd)\n",
    "\n",
    "DUMP_FOLDER = '/home/surthi/models/'\n",
    "def pickle_dump(data, filename, folder=DUMP_FOLDER):\n",
    "    cwd = os.getcwd()\n",
    "    os.chdir(folder)\n",
    "    print(os.getcwd())\n",
    "    import pickle\n",
    "    with open(filename, \"wb\") as f:\n",
    "        pickle.dump(data, f)\n",
    "    os.chdir(cwd)\n",
    "\n",
    "def pickle_load(filename):\n",
    "    import pickle\n",
    "    with open(filename, \"rb\") as f:\n",
    "        data = pickle.load(f)\n",
    "    return data\n",
    "\n",
    "def load_clf(folder, clf_filename, model_filename):\n",
    "    cwd = os.getcwd()\n",
    "    os.chdir(folder)\n",
    "    import pickle\n",
    "    with open(clf_filename, \"rb\") as f:\n",
    "        clf_state = pickle.load(f)\n",
    "    model = tf.keras.models.load_model(model_filename)\n",
    "    os.chdir(cwd)\n",
    "    clf = KerasClassifier(model=model)\n",
    "    clf.__setstate__(clf_state())\n",
    "    return clf, model"
   ]
  },
  {
   "cell_type": "code",
   "execution_count": 4,
   "metadata": {},
   "outputs": [],
   "source": [
    "(x_train, y_train), (x_test, y_test), min_, max_ = load_dataset('mnist')"
   ]
  },
  {
   "cell_type": "code",
   "execution_count": 5,
   "metadata": {},
   "outputs": [
    {
     "name": "stdout",
     "output_type": "stream",
     "text": [
      "WARNING:tensorflow:From /usr/local/lib/python3.5/dist-packages/tensorflow/python/framework/op_def_library.py:263: colocate_with (from tensorflow.python.framework.ops) is deprecated and will be removed in a future version.\n",
      "Instructions for updating:\n",
      "Colocations handled automatically by placer.\n",
      "WARNING:tensorflow:From /usr/local/lib/python3.5/dist-packages/keras/backend/tensorflow_backend.py:3445: calling dropout (from tensorflow.python.ops.nn_ops) with keep_prob is deprecated and will be removed in a future version.\n",
      "Instructions for updating:\n",
      "Please use `rate` instead of `keep_prob`. Rate should be set to `rate = 1 - keep_prob`.\n",
      "WARNING:tensorflow:From /usr/local/lib/python3.5/dist-packages/tensorflow/python/ops/math_ops.py:3066: to_int32 (from tensorflow.python.ops.math_ops) is deprecated and will be removed in a future version.\n",
      "Instructions for updating:\n",
      "Use tf.cast instead.\n",
      "WARNING:tensorflow:From /usr/local/lib/python3.5/dist-packages/keras/backend/tensorflow_backend.py:3298: softmax_cross_entropy_with_logits (from tensorflow.python.ops.nn_ops) is deprecated and will be removed in a future version.\n",
      "Instructions for updating:\n",
      "\n",
      "Future major versions of TensorFlow will allow gradients to flow\n",
      "into the labels input on backprop by default.\n",
      "\n",
      "See `tf.nn.softmax_cross_entropy_with_logits_v2`.\n",
      "\n"
     ]
    }
   ],
   "source": [
    "vanilla_clf, vanilla_model = load_clf('/home/surthi/models/mnist/', 'vanilla_clf.h5', 'vanilla_clf_model.h5')\n",
    "vanilla_clf_with_bn, vanilla_model_with_bn = load_clf('/home/surthi/models/mnist/', 'vanilla_clf_with_bn.h5', 'vanilla_clf_with_bn_model.h5')"
   ]
  },
  {
   "cell_type": "code",
   "execution_count": 11,
   "metadata": {},
   "outputs": [],
   "source": [
    "def get_vanilla_model(x_train, y_train, batch_norm=False):\n",
    "    m = Sequential()\n",
    "\n",
    "    m.add(Conv2D(64, (3, 3), padding='valid', input_shape=(28, 28, 1)))\n",
    "    m.add(Activation('relu'))\n",
    "    if(batch_norm):\n",
    "        m.add(BatchNormalization())\n",
    "    m.add(Conv2D(64, (3, 3)))\n",
    "    m.add(Activation('relu'))\n",
    "    if(batch_norm):\n",
    "        m.add(BatchNormalization())\n",
    "    m.add(MaxPooling2D(pool_size=(2, 2)))\n",
    "    m.add(Dropout(0.5))\n",
    "    m.add(Flatten())\n",
    "    m.add(Dense(128))         \n",
    "    m.add(Activation('relu'))\n",
    "    if(batch_norm):\n",
    "        m.add(BatchNormalization())\n",
    "    m.add(Dropout(0.5))\n",
    "    m.add(Dense(10))\n",
    "    m.add(Activation('softmax'))\n",
    "    m.compile(\n",
    "        loss='categorical_crossentropy',\n",
    "        optimizer='adam',\n",
    "        metrics=['accuracy']\n",
    "    )\n",
    "    c = KerasClassifier(model=m)\n",
    "    c.fit(x_train, y_train, nb_epochs=50, batch_size=128)\n",
    "    return c\n"
   ]
  },
  {
   "cell_type": "code",
   "execution_count": 7,
   "metadata": {},
   "outputs": [
    {
     "name": "stdout",
     "output_type": "stream",
     "text": [
      "WARNING:tensorflow:From /usr/local/lib/python3.5/dist-packages/tensorflow/python/framework/op_def_library.py:263: colocate_with (from tensorflow.python.framework.ops) is deprecated and will be removed in a future version.\n",
      "Instructions for updating:\n",
      "Colocations handled automatically by placer.\n",
      "WARNING:tensorflow:From /usr/local/lib/python3.5/dist-packages/keras/backend/tensorflow_backend.py:3445: calling dropout (from tensorflow.python.ops.nn_ops) with keep_prob is deprecated and will be removed in a future version.\n",
      "Instructions for updating:\n",
      "Please use `rate` instead of `keep_prob`. Rate should be set to `rate = 1 - keep_prob`.\n",
      "WARNING:tensorflow:From /usr/local/lib/python3.5/dist-packages/keras/backend/tensorflow_backend.py:3298: softmax_cross_entropy_with_logits (from tensorflow.python.ops.nn_ops) is deprecated and will be removed in a future version.\n",
      "Instructions for updating:\n",
      "\n",
      "Future major versions of TensorFlow will allow gradients to flow\n",
      "into the labels input on backprop by default.\n",
      "\n",
      "See `tf.nn.softmax_cross_entropy_with_logits_v2`.\n",
      "\n",
      "WARNING:tensorflow:From /usr/local/lib/python3.5/dist-packages/tensorflow/python/ops/math_ops.py:3066: to_int32 (from tensorflow.python.ops.math_ops) is deprecated and will be removed in a future version.\n",
      "Instructions for updating:\n",
      "Use tf.cast instead.\n",
      "Epoch 1/50\n",
      "469/469 [==============================] - 17s 36ms/step - loss: 0.1788 - acc: 0.9471\n",
      "Epoch 2/50\n",
      "469/469 [==============================] - 13s 28ms/step - loss: 0.0651 - acc: 0.9798\n",
      "Epoch 3/50\n",
      "469/469 [==============================] - 14s 29ms/step - loss: 0.0531 - acc: 0.9839\n",
      "Epoch 4/50\n",
      "469/469 [==============================] - 13s 29ms/step - loss: 0.0447 - acc: 0.9865\n",
      "Epoch 5/50\n",
      "469/469 [==============================] - 13s 29ms/step - loss: 0.0410 - acc: 0.9870\n",
      "Epoch 6/50\n",
      "469/469 [==============================] - 14s 29ms/step - loss: 0.0357 - acc: 0.9888\n",
      "Epoch 7/50\n",
      "469/469 [==============================] - 13s 28ms/step - loss: 0.0325 - acc: 0.9900\n",
      "Epoch 8/50\n",
      "469/469 [==============================] - 13s 28ms/step - loss: 0.0319 - acc: 0.9896\n",
      "Epoch 9/50\n",
      "469/469 [==============================] - 13s 29ms/step - loss: 0.0297 - acc: 0.9906\n",
      "Epoch 10/50\n",
      "469/469 [==============================] - 14s 29ms/step - loss: 0.0269 - acc: 0.9919\n",
      "Epoch 11/50\n",
      "469/469 [==============================] - 13s 28ms/step - loss: 0.0227 - acc: 0.9924\n",
      "Epoch 12/50\n",
      "469/469 [==============================] - 13s 28ms/step - loss: 0.0226 - acc: 0.9927\n",
      "Epoch 13/50\n",
      "469/469 [==============================] - 13s 28ms/step - loss: 0.0209 - acc: 0.9933\n",
      "Epoch 14/50\n",
      "469/469 [==============================] - 13s 28ms/step - loss: 0.0198 - acc: 0.9934\n",
      "Epoch 15/50\n",
      "469/469 [==============================] - 13s 29ms/step - loss: 0.0183 - acc: 0.9938\n",
      "Epoch 16/50\n",
      "469/469 [==============================] - 13s 28ms/step - loss: 0.0181 - acc: 0.9935\n",
      "Epoch 17/50\n",
      "469/469 [==============================] - 13s 28ms/step - loss: 0.0174 - acc: 0.9947\n",
      "Epoch 18/50\n",
      "469/469 [==============================] - 13s 28ms/step - loss: 0.0155 - acc: 0.9949\n",
      "Epoch 19/50\n",
      "469/469 [==============================] - 14s 29ms/step - loss: 0.0166 - acc: 0.9947\n",
      "Epoch 20/50\n",
      "469/469 [==============================] - 14s 30ms/step - loss: 0.0150 - acc: 0.9948\n",
      "Epoch 21/50\n",
      "469/469 [==============================] - 14s 29ms/step - loss: 0.0151 - acc: 0.9950\n",
      "Epoch 22/50\n",
      "469/469 [==============================] - 13s 29ms/step - loss: 0.0131 - acc: 0.9956\n",
      "Epoch 23/50\n",
      "469/469 [==============================] - 13s 28ms/step - loss: 0.0137 - acc: 0.9955\n",
      "Epoch 24/50\n",
      "469/469 [==============================] - 13s 28ms/step - loss: 0.0126 - acc: 0.9960\n",
      "Epoch 25/50\n",
      "469/469 [==============================] - 13s 29ms/step - loss: 0.0124 - acc: 0.9960\n",
      "Epoch 26/50\n",
      "469/469 [==============================] - 13s 28ms/step - loss: 0.0130 - acc: 0.9956\n",
      "Epoch 27/50\n",
      "469/469 [==============================] - 13s 28ms/step - loss: 0.0118 - acc: 0.9959\n",
      "Epoch 28/50\n",
      "469/469 [==============================] - 13s 28ms/step - loss: 0.0122 - acc: 0.9960\n",
      "Epoch 29/50\n",
      "469/469 [==============================] - 13s 28ms/step - loss: 0.0109 - acc: 0.9961\n",
      "Epoch 30/50\n",
      "469/469 [==============================] - 13s 28ms/step - loss: 0.0113 - acc: 0.9965\n",
      "Epoch 31/50\n",
      "469/469 [==============================] - 13s 28ms/step - loss: 0.0082 - acc: 0.9975\n",
      "Epoch 32/50\n",
      "469/469 [==============================] - 13s 28ms/step - loss: 0.0102 - acc: 0.9966\n",
      "Epoch 33/50\n",
      "469/469 [==============================] - 13s 28ms/step - loss: 0.0108 - acc: 0.9967\n",
      "Epoch 34/50\n",
      "469/469 [==============================] - 13s 28ms/step - loss: 0.0086 - acc: 0.9973\n",
      "Epoch 35/50\n",
      "469/469 [==============================] - 13s 28ms/step - loss: 0.0088 - acc: 0.9969\n",
      "Epoch 36/50\n",
      "469/469 [==============================] - 13s 28ms/step - loss: 0.0096 - acc: 0.9967\n",
      "Epoch 37/50\n",
      "469/469 [==============================] - 13s 28ms/step - loss: 0.0089 - acc: 0.9969\n",
      "Epoch 38/50\n",
      "469/469 [==============================] - 13s 28ms/step - loss: 0.0079 - acc: 0.9973\n",
      "Epoch 39/50\n",
      "469/469 [==============================] - 13s 28ms/step - loss: 0.0086 - acc: 0.9970\n",
      "Epoch 40/50\n",
      "469/469 [==============================] - 13s 28ms/step - loss: 0.0075 - acc: 0.9974\n",
      "Epoch 41/50\n",
      "469/469 [==============================] - 13s 28ms/step - loss: 0.0079 - acc: 0.9975\n",
      "Epoch 42/50\n",
      "469/469 [==============================] - 13s 29ms/step - loss: 0.0085 - acc: 0.9970\n",
      "Epoch 43/50\n",
      "469/469 [==============================] - 13s 28ms/step - loss: 0.0086 - acc: 0.9970\n",
      "Epoch 44/50\n",
      "469/469 [==============================] - 13s 28ms/step - loss: 0.0079 - acc: 0.9970\n",
      "Epoch 45/50\n",
      "469/469 [==============================] - 13s 28ms/step - loss: 0.0083 - acc: 0.9971\n",
      "Epoch 46/50\n",
      "469/469 [==============================] - 13s 28ms/step - loss: 0.0069 - acc: 0.9975\n",
      "Epoch 47/50\n",
      "469/469 [==============================] - 13s 28ms/step - loss: 0.0082 - acc: 0.9972\n",
      "Epoch 48/50\n",
      "469/469 [==============================] - 13s 28ms/step - loss: 0.0070 - acc: 0.9979\n",
      "Epoch 49/50\n",
      "469/469 [==============================] - 14s 29ms/step - loss: 0.0063 - acc: 0.9977\n",
      "Epoch 50/50\n",
      "469/469 [==============================] - 13s 28ms/step - loss: 0.0078 - acc: 0.9973\n"
     ]
    }
   ],
   "source": [
    "vanilla_clf_with_bn = get_vanilla_model(x_train, y_train, batch_norm=True)"
   ]
  },
  {
   "cell_type": "code",
   "execution_count": 9,
   "metadata": {},
   "outputs": [],
   "source": [
    "save_clf(vanilla_clf_with_bn, '/home/surthi/models/mnist/', 'vanilla_clf_with_bn.h5', 'vanilla_clf_with_bn_model.h5')"
   ]
  },
  {
   "cell_type": "code",
   "execution_count": 10,
   "metadata": {},
   "outputs": [
    {
     "name": "stdout",
     "output_type": "stream",
     "text": [
      "\n",
      "Training and Test accuracies: 100.00 99.32%\n"
     ]
    },
    {
     "data": {
      "text/plain": [
       "(0.99995, 0.9932)"
      ]
     },
     "execution_count": 10,
     "metadata": {},
     "output_type": "execute_result"
    }
   ],
   "source": [
    "evaluate(vanilla_clf_with_bn, x_train, y_train, x_test, y_test)"
   ]
  },
  {
   "cell_type": "code",
   "execution_count": 13,
   "metadata": {},
   "outputs": [
    {
     "data": {
      "text/plain": [
       "<module 'matplotlib.pyplot' from '/usr/local/lib/python3.5/dist-packages/matplotlib/pyplot.py'>"
      ]
     },
     "execution_count": 13,
     "metadata": {},
     "output_type": "execute_result"
    },
    {
     "data": {
      "image/png": "[encoded data removed]",
      "text/plain": [
       "<Figure size 432x288 with 1 Axes>"
      ]
     },
     "metadata": {
      "needs_background": "light"
     },
     "output_type": "display_data"
    }
   ],
   "source": [
    "plot_curves(vanilla_clf_with_bn._model)"
   ]
  },
  {
   "cell_type": "code",
   "execution_count": 12,
   "metadata": {},
   "outputs": [
    {
     "name": "stdout",
     "output_type": "stream",
     "text": [
      "[0.9470615671641791, 0.9798274253731343, 0.9838752665245203, 0.9864738805970149, 0.9869569562899787, 0.9888392857142857, 0.9900053304904051, 0.9896388592750534, 0.9905883528784648, 0.9918876599147122, 0.9924373667377399, 0.9927372068230277, 0.9932702558635395, 0.9933535447761194, 0.9938033049040512, 0.9935367803837953, 0.9946528518123667, 0.9948694029850746, 0.9946861673773987, 0.9947861140724946, 0.9949693496801706, 0.9955523720682303, 0.9955357142857143, 0.9960021321961621, 0.99596881663113, 0.9956190031982942, 0.9959021855010661, 0.995985474413646, 0.996068763326226, 0.9964518923240938, 0.9974680170575693, 0.9966184701492538, 0.9966517857142857, 0.9972847814498934, 0.9969016524520256, 0.9966851012793176, 0.9969016524520256, 0.9972847814498934, 0.9969516257995735, 0.9973514125799574, 0.9975179904051172, 0.9969849413646056, 0.9970349147121536, 0.9970182569296375, 0.9970682302771855, 0.9974846748400853, 0.9972348081023454, 0.9978844616204691, 0.9977012260127932, 0.9973014392324094]\n",
      "[0.17879931617583802, 0.06510292157244835, 0.05305530907197008, 0.04465456768425543, 0.04095516235196292, 0.035686698168821966, 0.03246649506408523, 0.03187506042444693, 0.02969339288456409, 0.02688482559860936, 0.022680633018530016, 0.022633540268584308, 0.02094882543954347, 0.019762927854085153, 0.01833346364798763, 0.018111565296274067, 0.017449623491587258, 0.015518361826237144, 0.01659209574028519, 0.015044793289632343, 0.015067296203854842, 0.013101909521140351, 0.013663651822138575, 0.012587211846655953, 0.012437350869677446, 0.012962119922209194, 0.011835834141658085, 0.01222078301451742, 0.010899786284984723, 0.011309559853877306, 0.008159592543496068, 0.010212633250490216, 0.010795954370504813, 0.008579049872838631, 0.008781245785226339, 0.009630499544480482, 0.00887376679496508, 0.00794204235541883, 0.008634129374802521, 0.0075175914053053315, 0.007932562196244627, 0.008461461609778571, 0.008624332326420358, 0.007940978866067034, 0.008339568415457117, 0.006935876334889798, 0.008174488858250565, 0.007041013497223066, 0.006299754133544066, 0.0078081758663694715]\n"
     ]
    }
   ],
   "source": [
    "print(vanilla_clf_with_bn._model.history.history['acc'])\n",
    "print(vanilla_clf_with_bn._model.history.history['loss'])"
   ]
  },
  {
   "cell_type": "code",
   "execution_count": 14,
   "metadata": {},
   "outputs": [
    {
     "name": "stdout",
     "output_type": "stream",
     "text": [
      "Epoch 1/50\n",
      "469/469 [==============================] - 10s 22ms/step - loss: 0.2383 - acc: 0.9272\n",
      "Epoch 2/50\n",
      "469/469 [==============================] - 10s 20ms/step - loss: 0.0891 - acc: 0.9730\n",
      "Epoch 3/50\n",
      "469/469 [==============================] - 9s 20ms/step - loss: 0.0701 - acc: 0.9786\n",
      "Epoch 4/50\n",
      "469/469 [==============================] - 10s 20ms/step - loss: 0.0563 - acc: 0.9828\n",
      "Epoch 5/50\n",
      "469/469 [==============================] - 9s 20ms/step - loss: 0.0531 - acc: 0.9835\n",
      "Epoch 6/50\n",
      "469/469 [==============================] - 10s 20ms/step - loss: 0.0448 - acc: 0.9857\n",
      "Epoch 7/50\n",
      "469/469 [==============================] - 10s 21ms/step - loss: 0.0440 - acc: 0.9863\n",
      "Epoch 8/50\n",
      "469/469 [==============================] - 10s 20ms/step - loss: 0.0400 - acc: 0.9869\n",
      "Epoch 9/50\n",
      "469/469 [==============================] - 10s 20ms/step - loss: 0.0363 - acc: 0.9878\n",
      "Epoch 10/50\n",
      "469/469 [==============================] - 10s 20ms/step - loss: 0.0355 - acc: 0.9888\n",
      "Epoch 11/50\n",
      "469/469 [==============================] - 10s 20ms/step - loss: 0.0314 - acc: 0.9897\n",
      "Epoch 12/50\n",
      "469/469 [==============================] - 9s 20ms/step - loss: 0.0295 - acc: 0.9906\n",
      "Epoch 13/50\n",
      "469/469 [==============================] - 10s 20ms/step - loss: 0.0280 - acc: 0.9908\n",
      "Epoch 14/50\n",
      "469/469 [==============================] - 10s 20ms/step - loss: 0.0265 - acc: 0.9915\n",
      "Epoch 15/50\n",
      "469/469 [==============================] - 10s 20ms/step - loss: 0.0245 - acc: 0.9921\n",
      "Epoch 16/50\n",
      "469/469 [==============================] - 10s 20ms/step - loss: 0.0248 - acc: 0.9923\n",
      "Epoch 17/50\n",
      "469/469 [==============================] - 10s 20ms/step - loss: 0.0239 - acc: 0.9921\n",
      "Epoch 18/50\n",
      "469/469 [==============================] - 10s 20ms/step - loss: 0.0236 - acc: 0.9925\n",
      "Epoch 19/50\n",
      "469/469 [==============================] - 10s 21ms/step - loss: 0.0225 - acc: 0.9926\n",
      "Epoch 20/50\n",
      "469/469 [==============================] - 10s 20ms/step - loss: 0.0214 - acc: 0.9928\n",
      "Epoch 21/50\n",
      "469/469 [==============================] - 10s 21ms/step - loss: 0.0213 - acc: 0.9932\n",
      "Epoch 22/50\n",
      "469/469 [==============================] - 9s 20ms/step - loss: 0.0195 - acc: 0.9938\n",
      "Epoch 23/50\n",
      "469/469 [==============================] - 9s 20ms/step - loss: 0.0197 - acc: 0.9938\n",
      "Epoch 24/50\n",
      "469/469 [==============================] - 9s 20ms/step - loss: 0.0198 - acc: 0.9933\n",
      "Epoch 25/50\n",
      "469/469 [==============================] - 9s 20ms/step - loss: 0.0182 - acc: 0.9943\n",
      "Epoch 26/50\n",
      "469/469 [==============================] - 10s 21ms/step - loss: 0.0170 - acc: 0.9942\n",
      "Epoch 27/50\n",
      "469/469 [==============================] - 10s 20ms/step - loss: 0.0181 - acc: 0.9937\n",
      "Epoch 28/50\n",
      "469/469 [==============================] - 10s 20ms/step - loss: 0.0169 - acc: 0.9946\n",
      "Epoch 29/50\n",
      "469/469 [==============================] - 9s 20ms/step - loss: 0.0166 - acc: 0.9943\n",
      "Epoch 30/50\n",
      "469/469 [==============================] - 10s 20ms/step - loss: 0.0165 - acc: 0.9943\n",
      "Epoch 31/50\n",
      "469/469 [==============================] - 9s 20ms/step - loss: 0.0155 - acc: 0.9949\n",
      "Epoch 32/50\n",
      "469/469 [==============================] - 10s 20ms/step - loss: 0.0163 - acc: 0.9945\n",
      "Epoch 33/50\n",
      "469/469 [==============================] - 9s 20ms/step - loss: 0.0156 - acc: 0.9952\n",
      "Epoch 34/50\n",
      "469/469 [==============================] - 10s 21ms/step - loss: 0.0156 - acc: 0.9952\n",
      "Epoch 35/50\n",
      "469/469 [==============================] - 10s 22ms/step - loss: 0.0148 - acc: 0.9952\n",
      "Epoch 36/50\n",
      "469/469 [==============================] - 10s 20ms/step - loss: 0.0157 - acc: 0.9948\n",
      "Epoch 37/50\n",
      "469/469 [==============================] - 9s 20ms/step - loss: 0.0139 - acc: 0.9950\n",
      "Epoch 38/50\n",
      "469/469 [==============================] - 9s 20ms/step - loss: 0.0150 - acc: 0.9954\n",
      "Epoch 39/50\n",
      "469/469 [==============================] - 10s 20ms/step - loss: 0.0137 - acc: 0.9955\n",
      "Epoch 40/50\n",
      "469/469 [==============================] - 9s 20ms/step - loss: 0.0140 - acc: 0.9952\n",
      "Epoch 41/50\n",
      "469/469 [==============================] - 9s 20ms/step - loss: 0.0125 - acc: 0.9957\n",
      "Epoch 42/50\n",
      "469/469 [==============================] - 9s 20ms/step - loss: 0.0130 - acc: 0.9958\n",
      "Epoch 43/50\n",
      "469/469 [==============================] - 9s 20ms/step - loss: 0.0124 - acc: 0.9956\n",
      "Epoch 44/50\n",
      "469/469 [==============================] - 9s 20ms/step - loss: 0.0136 - acc: 0.9957\n",
      "Epoch 45/50\n",
      "469/469 [==============================] - 10s 20ms/step - loss: 0.0114 - acc: 0.9963\n",
      "Epoch 46/50\n",
      "469/469 [==============================] - 9s 20ms/step - loss: 0.0126 - acc: 0.9959\n",
      "Epoch 47/50\n",
      "469/469 [==============================] - 10s 21ms/step - loss: 0.0117 - acc: 0.9961\n",
      "Epoch 48/50\n",
      "469/469 [==============================] - 9s 20ms/step - loss: 0.0131 - acc: 0.9960\n",
      "Epoch 49/50\n",
      "469/469 [==============================] - 9s 20ms/step - loss: 0.0126 - acc: 0.9959\n",
      "Epoch 50/50\n",
      "469/469 [==============================] - 9s 20ms/step - loss: 0.0114 - acc: 0.9962\n"
     ]
    }
   ],
   "source": [
    "vanilla_clf = get_vanilla_model(x_train, y_train)\n",
    "save_clf(vanilla_clf, '/home/surthi/models/mnist/', 'vanilla_clf.h5', 'vanilla_clf_model.h5')"
   ]
  },
  {
   "cell_type": "code",
   "execution_count": 7,
   "metadata": {},
   "outputs": [],
   "source": [
    "def deepfool(clf, x_train, x_test):\n",
    "    from art.attacks import DeepFool\n",
    "    deep_adv_crafter = DeepFool(clf)\n",
    "    x_train_deepfool_adv = deep_adv_crafter.generate(x_train)\n",
    "    x_test_deepfool_adv = deep_adv_crafter.generate(x_test)\n",
    "    return x_train_deepfool_adv, x_test_deepfool_adv\n",
    "\n",
    "def carlinil2(clf, x_train, x_test):\n",
    "    from art.attacks import CarliniL2Method\n",
    "    cl2_adv_crafter = CarliniL2Method(classifier=clf, targeted=False, max_iter=5)\n",
    "    x_train_cl2_adv = cl2_adv_crafter.generate(x_train)\n",
    "    x_test_cl2_adv = cl2_adv_crafter.generate(x_test)\n",
    "    return x_train_cl2_adv, x_test_cl2_adv"
   ]
  },
  {
   "cell_type": "code",
   "execution_count": 10,
   "metadata": {},
   "outputs": [
    {
     "name": "stdout",
     "output_type": "stream",
     "text": [
      "\n",
      "Training and Test accuracies: 17.06 14.40%\n"
     ]
    },
    {
     "data": {
      "text/plain": [
       "(0.1706, 0.144)"
      ]
     },
     "execution_count": 10,
     "metadata": {},
     "output_type": "execute_result"
    }
   ],
   "source": [
    "x_train_cl2_adv, x_test_cl2_adv = carlinil2(vanilla_clf, x_train[:5000], x_test[:1000])\n",
    "evaluate(vanilla_clf, x_train_cl2_adv, y_train[:5000], x_test_cl2_adv, y_test[:1000])"
   ]
  },
  {
   "cell_type": "code",
   "execution_count": 11,
   "metadata": {},
   "outputs": [],
   "source": [
    "pickle_dump((x_train_cl2_adv, x_test_cl2_adv), 'mnist-cl2-data.pkl')"
   ]
  },
  {
   "cell_type": "code",
   "execution_count": 12,
   "metadata": {},
   "outputs": [
    {
     "name": "stdout",
     "output_type": "stream",
     "text": [
      "\n",
      "Training and Test accuracies: 11.34 11.20%\n"
     ]
    },
    {
     "data": {
      "text/plain": [
       "(0.1134, 0.112)"
      ]
     },
     "execution_count": 12,
     "metadata": {},
     "output_type": "execute_result"
    }
   ],
   "source": [
    "x_train_deepfool_adv, x_test_deepfool_adv = deepfool(vanilla_clf, x_train[:5000], x_test[:1000])\n",
    "evaluate(vanilla_clf, x_train_deepfool_adv, y_train[:5000], x_test_deepfool_adv, y_test[:1000])"
   ]
  },
  {
   "cell_type": "code",
   "execution_count": 13,
   "metadata": {},
   "outputs": [],
   "source": [
    "pickle_dump((x_train_deepfool_adv, x_test_deepfool_adv), 'mnist-deepfool-data.pkl')"
   ]
  },
  {
   "cell_type": "code",
   "execution_count": 7,
   "metadata": {},
   "outputs": [
    {
     "name": "stdout",
     "output_type": "stream",
     "text": [
      "\n",
      "Training and Test accuracies: 28.83 30.52%\n",
      "/home/surthi/models\n"
     ]
    }
   ],
   "source": [
    "def fgsm(clf, x_train, x_test, epsilon=0.1):\n",
    "    from art.attacks.fast_gradient import FastGradientMethod\n",
    "    epsilon = .1  # Maximum perturbation\n",
    "#     fgsm_adv_crafter = FastGradientMethod(clf, eps=epsilon)\n",
    "#     fgsm_adv_crafter = FastGradientMethod(clf, eps=0.4, batch_size=2)\n",
    "    fgsm_adv_crafter = FastGradientMethod(clf, eps=0.4, eps_step=0.01, batch_size=2)\n",
    "    x_test_fgsm_adv = fgsm_adv_crafter.generate(x=x_test)\n",
    "    x_train_fgsm_adv = fgsm_adv_crafter.generate(x=x_train)\n",
    "    return x_train_fgsm_adv, x_test_fgsm_adv\n",
    "\n",
    "def ifgsm(clf, x_train, x_test, epsilon=0.1, max_iter=10):\n",
    "    from art.attacks.iterative_method import BasicIterativeMethod\n",
    "    ifgsm_adv_crafter = BasicIterativeMethod(clf, eps=epsilon, eps_step=0.1, max_iter=max_iter)\n",
    "    x_test_ifgsm_adv = ifgsm_adv_crafter.generate(x=x_test)\n",
    "    x_train_ifgsm_adv = ifgsm_adv_crafter.generate(x=x_train)\n",
    "    return x_train_ifgsm_adv, x_test_ifgsm_adv\n",
    "\n",
    "x_train_fgsm_adv, x_test_fgsm_adv = fgsm(vanilla_clf, x_train, x_test, epsilon=1.0)\n",
    "evaluate(vanilla_clf, x_train_fgsm_adv, y_train, x_test_fgsm_adv, y_test)\n",
    "pickle_dump((x_train_fgsm_adv, x_test_fgsm_adv), 'mnist-fgsm-data.pkl')"
   ]
  },
  {
   "cell_type": "code",
   "execution_count": null,
   "metadata": {},
   "outputs": [],
   "source": [
    "from art.attacks.iterative_method import BasicIterativeMethod\n",
    "ifgsm_adv_crafter = BasicIterativeMethod(vanilla_clf, eps=0.1, eps_step=0.1, max_iter=20)\n",
    "x_test_ifgsm_adv = ifgsm_adv_crafter.generate(x=x_test)\n",
    "x_train_ifgsm_adv = ifgsm_adv_crafter.generate(x=x_train)\n",
    "evaluate(vanilla_clf, x_train_ifgsm_adv, y_train, x_test_ifgsm_adv, y_test)"
   ]
  },
  {
   "cell_type": "code",
   "execution_count": 22,
   "metadata": {},
   "outputs": [
    {
     "name": "stdout",
     "output_type": "stream",
     "text": [
      "\n",
      "Training and Test accuracies: 0.02 0.51%\n"
     ]
    }
   ],
   "source": [
    "x_train_ifgsm_adv, x_test_ifgsm_adv = ifgsm(vanilla_clf, x_train, x_test)\n",
    "evaluate(vanilla_clf, x_train_ifgsm_adv, y_train, x_test_ifgsm_adv, y_test)\n",
    "pickle_dump((x_train_ifgsm_adv, x_test_ifgsm_adv), 'mnist-ifgsm-data.pkl')"
   ]
  },
  {
   "cell_type": "code",
   "execution_count": 27,
   "metadata": {},
   "outputs": [
    {
     "name": "stdout",
     "output_type": "stream",
     "text": [
      "/home/surthi/models\n"
     ]
    }
   ],
   "source": [
    "pickle_dump((x_train_ifgsm_adv, x_test_ifgsm_adv), 'mnist-ifgsm-data.pkl')"
   ]
  },
  {
   "cell_type": "code",
   "execution_count": 5,
   "metadata": {},
   "outputs": [],
   "source": [
    "x_train_cl2_adv, x_test_cl2_adv = pickle_load('/home/surthi/models/mnist-cl2-data.pkl')\n",
    "x_train_deepfool_adv, x_test_deepfool_adv = pickle_load('/home/surthi/models/mnist-deepfool-data.pkl')\n",
    "x_train_fgsm_adv, x_test_fgsm_adv = pickle_load('/home/surthi/models/mnist-fgsm-data.pkl')\n",
    "x_train_ifgsm_adv1, x_test_ifgsm_adv1 = pickle_load('/home/surthi/models/mnist-ifgsm-data.pkl')"
   ]
  },
  {
   "cell_type": "code",
   "execution_count": 6,
   "metadata": {},
   "outputs": [
    {
     "name": "stdout",
     "output_type": "stream",
     "text": [
      "/home/surthi/models\n"
     ]
    }
   ],
   "source": [
    "pickle_dump([x_train[5], x_train_ifgsm_adv1[5],x_train_fgsm_adv[5], x_train_deepfool_adv[5], x_train_cl2_adv[5]], \"mnist-5images.pkl\")"
   ]
  },
  {
   "cell_type": "code",
   "execution_count": 36,
   "metadata": {},
   "outputs": [
    {
     "name": "stdout",
     "output_type": "stream",
     "text": [
      "\n",
      "Training and Test accuracies: 99.98 99.40%\n",
      "\n",
      "Training and Test accuracies: 28.83 30.52%\n",
      "\n",
      "Training and Test accuracies: 0.02 0.51%\n",
      "\n",
      "Training and Test accuracies: 11.34 11.20%\n",
      "\n",
      "Training and Test accuracies: 17.06 14.40%\n"
     ]
    }
   ],
   "source": [
    "train_acc, test_acc = evaluate(vanilla_clf, x_train, y_train, x_test, y_test)\n",
    "fgsm_train_acc, fgsm_test_acc = evaluate(vanilla_clf, x_train_fgsm_adv, y_train, x_test_fgsm_adv, y_test)\n",
    "ifgsm_train_acc, ifgsm_test_acc = evaluate(vanilla_clf, x_train_ifgsm_adv1, y_train, x_test_ifgsm_adv1, y_test)\n",
    "df_train_acc, df_test_acc = evaluate(vanilla_clf, x_train_deepfool_adv, y_train[:5000], x_test_deepfool_adv, y_test[:1000])\n",
    "cl2_train_acc, cl2_test_acc = evaluate(vanilla_clf, x_train_cl2_adv, y_train[:5000], x_test_cl2_adv, y_test[:1000])"
   ]
  },
  {
   "cell_type": "code",
   "execution_count": 38,
   "metadata": {},
   "outputs": [
    {
     "name": "stdout",
     "output_type": "stream",
     "text": [
      "\n",
      "Training and Test accuracies: 100.00 99.32%\n",
      "\n",
      "Training and Test accuracies: 24.70 24.66%\n",
      "\n",
      "Training and Test accuracies: 2.05 2.43%\n",
      "\n",
      "Training and Test accuracies: 88.98 91.00%\n",
      "\n",
      "Training and Test accuracies: 70.30 68.70%\n"
     ]
    }
   ],
   "source": [
    "train_acc, test_acc = evaluate(vanilla_clf_with_bn, x_train, y_train, x_test, y_test)\n",
    "fgsm_train_acc, fgsm_test_acc = evaluate(vanilla_clf_with_bn, x_train_fgsm_adv, y_train, x_test_fgsm_adv, y_test)\n",
    "ifgsm_train_acc, ifgsm_test_acc = evaluate(vanilla_clf_with_bn, x_train_ifgsm_adv1, y_train, x_test_ifgsm_adv1, y_test)\n",
    "df_train_acc, df_test_acc = evaluate(vanilla_clf_with_bn, x_train_deepfool_adv, y_train[:5000], x_test_deepfool_adv, y_test[:1000])\n",
    "cl2_train_acc, cl2_test_acc = evaluate(vanilla_clf_with_bn, x_train_cl2_adv, y_train[:5000], x_test_cl2_adv, y_test[:1000])"
   ]
  },
  {
   "cell_type": "markdown",
   "metadata": {},
   "source": [
    "# Adversarial Training"
   ]
  },
  {
   "cell_type": "code",
   "execution_count": 39,
   "metadata": {},
   "outputs": [],
   "source": [
    "def adv_training_1(clf, x_train, y_train, x_train_adv, x_test_adv, x_test, y_test, epochs=5, batch_size=128):\n",
    "    print(\"Before training:\")\n",
    "    evaluate(clf, x_train, y_train, x_test, y_test)    \n",
    "    evaluate(clf, x_train_adv, y_train, x_test_adv, y_test)\n",
    "    \n",
    "    for i in range(epochs):\n",
    "        clf.fit(x_train_adv, y_train, nb_epochs=1, batch_size=128)\n",
    "        clf.fit(x_train, y_train, nb_epochs=1, batch_size=128)\n",
    "    \n",
    "    print(\"After training:\")\n",
    "    evaluate(clf, x_train, y_train, x_test, y_test)    \n",
    "    evaluate(clf, x_train_adv, y_train, x_test_adv, y_test)\n",
    "    return clf"
   ]
  },
  {
   "cell_type": "code",
   "execution_count": 40,
   "metadata": {},
   "outputs": [
    {
     "name": "stdout",
     "output_type": "stream",
     "text": [
      "Before training:\n",
      "\n",
      "Training and Test accuracies: 99.98 99.40%\n",
      "\n",
      "Training and Test accuracies: 0.02 0.51%\n",
      "Epoch 1/1\n",
      "469/469 [==============================] - 11s 23ms/step - loss: 16.1141 - acc: 2.4987e-04\n",
      "Epoch 1/1\n",
      "469/469 [==============================] - 10s 21ms/step - loss: 0.0136 - acc: 0.9957\n",
      "Epoch 1/1\n",
      "469/469 [==============================] - 10s 21ms/step - loss: 16.1159 - acc: 1.3326e-04\n",
      "Epoch 1/1\n",
      "469/469 [==============================] - 10s 21ms/step - loss: 0.0142 - acc: 0.9957\n",
      "Epoch 1/1\n",
      "469/469 [==============================] - 10s 21ms/step - loss: 16.1146 - acc: 2.1655e-04\n",
      "Epoch 1/1\n",
      "469/469 [==============================] - 10s 21ms/step - loss: 0.0159 - acc: 0.9950\n",
      "Epoch 1/1\n",
      "469/469 [==============================] - 10s 21ms/step - loss: 16.1157 - acc: 1.4992e-04\n",
      "Epoch 1/1\n",
      "469/469 [==============================] - 10s 22ms/step - loss: 0.0142 - acc: 0.9953\n",
      "Epoch 1/1\n",
      "469/469 [==============================] - 10s 21ms/step - loss: 16.1130 - acc: 3.1650e-04\n",
      "Epoch 1/1\n",
      "469/469 [==============================] - 10s 21ms/step - loss: 0.0139 - acc: 0.9956\n",
      "After training:\n",
      "\n",
      "Training and Test accuracies: 99.98 99.34%\n",
      "\n",
      "Training and Test accuracies: 0.02 0.51%\n"
     ]
    }
   ],
   "source": [
    "vanilla_clf_adv_trained_1 = adv_training_1(vanilla_clf, x_train, y_train, x_train_ifgsm_adv, x_test_ifgsm_adv, x_test, y_test, epochs=5)"
   ]
  },
  {
   "cell_type": "code",
   "execution_count": 41,
   "metadata": {},
   "outputs": [
    {
     "name": "stdout",
     "output_type": "stream",
     "text": [
      "Before training:\n",
      "\n",
      "Training and Test accuracies: 99.98 99.34%\n",
      "\n",
      "Training and Test accuracies: 0.02 0.51%\n",
      "Epoch 1/1\n",
      "469/469 [==============================] - 10s 21ms/step - loss: 16.1154 - acc: 1.6658e-04\n",
      "Epoch 1/1\n",
      "469/469 [==============================] - 10s 21ms/step - loss: 0.0150 - acc: 0.9951\n",
      "Epoch 1/1\n",
      "469/469 [==============================] - 10s 21ms/step - loss: 16.1141 - acc: 2.4987e-04\n",
      "Epoch 1/1\n",
      "469/469 [==============================] - 10s 21ms/step - loss: 0.0137 - acc: 0.9958\n",
      "Epoch 1/1\n",
      "469/469 [==============================] - 10s 21ms/step - loss: 16.1146 - acc: 2.1655e-04\n",
      "Epoch 1/1\n",
      "469/469 [==============================] - 10s 21ms/step - loss: 0.0138 - acc: 0.9955\n",
      "Epoch 1/1\n",
      "469/469 [==============================] - 10s 21ms/step - loss: 16.1141 - acc: 2.4987e-04\n",
      "Epoch 1/1\n",
      "469/469 [==============================] - 10s 21ms/step - loss: 0.0140 - acc: 0.9953\n",
      "Epoch 1/1\n",
      "469/469 [==============================] - 10s 21ms/step - loss: 16.1130 - acc: 3.1650e-04\n",
      "Epoch 1/1\n",
      "469/469 [==============================] - 10s 22ms/step - loss: 0.0125 - acc: 0.9959\n",
      "After training:\n",
      "\n",
      "Training and Test accuracies: 99.98 99.32%\n",
      "\n",
      "Training and Test accuracies: 0.02 0.51%\n",
      "Before training:\n",
      "\n",
      "Training and Test accuracies: 99.98 99.32%\n",
      "\n",
      "Training and Test accuracies: 0.02 0.51%\n",
      "Epoch 1/1\n",
      "469/469 [==============================] - 10s 21ms/step - loss: 16.1159 - acc: 1.3326e-04\n",
      "Epoch 1/1\n",
      "469/469 [==============================] - 10s 21ms/step - loss: 0.0140 - acc: 0.9957\n",
      "Epoch 1/1\n",
      "469/469 [==============================] - 10s 21ms/step - loss: 16.0707 - acc: 0.0029\n",
      "Epoch 1/1\n",
      "469/469 [==============================] - 10s 21ms/step - loss: 0.0659 - acc: 0.9886\n",
      "Epoch 1/1\n",
      "469/469 [==============================] - 10s 21ms/step - loss: 14.4199 - acc: 0.1053\n",
      "Epoch 1/1\n",
      "469/469 [==============================] - 10s 21ms/step - loss: 0.0669 - acc: 0.9881\n",
      "Epoch 1/1\n",
      "469/469 [==============================] - 10s 21ms/step - loss: 14.3230 - acc: 0.1113\n",
      "Epoch 1/1\n",
      "469/469 [==============================] - 10s 21ms/step - loss: 0.0182 - acc: 0.9942\n",
      "Epoch 1/1\n",
      "469/469 [==============================] - 10s 21ms/step - loss: 14.2925 - acc: 0.1132\n",
      "Epoch 1/1\n",
      "469/469 [==============================] - 10s 21ms/step - loss: 0.0130 - acc: 0.9956\n",
      "After training:\n",
      "\n",
      "Training and Test accuracies: 99.98 99.35%\n",
      "\n",
      "Training and Test accuracies: 11.24 11.35%\n",
      "Before training:\n",
      "\n",
      "Training and Test accuracies: 99.98 99.35%\n",
      "\n",
      "Training and Test accuracies: 11.24 11.35%\n",
      "Epoch 1/1\n",
      "469/469 [==============================] - 10s 21ms/step - loss: 14.3144 - acc: 0.1119\n",
      "Epoch 1/1\n",
      "469/469 [==============================] - 10s 21ms/step - loss: 0.0124 - acc: 0.9957\n",
      "Epoch 1/1\n",
      "469/469 [==============================] - 10s 21ms/step - loss: 14.3181 - acc: 0.1117\n",
      "Epoch 1/1\n",
      "469/469 [==============================] - 10s 21ms/step - loss: 0.0135 - acc: 0.9959\n",
      "Epoch 1/1\n",
      "469/469 [==============================] - 10s 21ms/step - loss: 14.3058 - acc: 0.1124\n",
      "Epoch 1/1\n",
      "469/469 [==============================] - 10s 21ms/step - loss: 0.0142 - acc: 0.9954\n",
      "Epoch 1/1\n",
      "469/469 [==============================] - 10s 21ms/step - loss: 14.3117 - acc: 0.1121\n",
      "Epoch 1/1\n",
      "469/469 [==============================] - 10s 21ms/step - loss: 0.0135 - acc: 0.9959\n",
      "Epoch 1/1\n",
      "469/469 [==============================] - 10s 21ms/step - loss: 14.3418 - acc: 0.1102\n",
      "Epoch 1/1\n",
      "469/469 [==============================] - 10s 21ms/step - loss: 0.0142 - acc: 0.9954\n",
      "After training:\n",
      "\n",
      "Training and Test accuracies: 99.98 99.31%\n",
      "\n",
      "Training and Test accuracies: 11.24 11.35%\n"
     ]
    }
   ],
   "source": [
    "vanilla_clf_adv_trained_1 = adv_training_1(vanilla_clf, x_train, y_train, x_train_ifgsm_adv, x_test_ifgsm_adv, x_test, y_test, epochs=5)\n",
    "vanilla_clf_adv_trained_1 = adv_training_1(vanilla_clf, x_train, y_train, x_train_ifgsm_adv, x_test_ifgsm_adv, x_test, y_test, epochs=5)\n",
    "vanilla_clf_adv_trained_1 = adv_training_1(vanilla_clf, x_train, y_train, x_train_ifgsm_adv, x_test_ifgsm_adv, x_test, y_test, epochs=5)\n"
   ]
  },
  {
   "cell_type": "code",
   "execution_count": 42,
   "metadata": {},
   "outputs": [
    {
     "name": "stdout",
     "output_type": "stream",
     "text": [
      "Before training:\n",
      "\n",
      "Training and Test accuracies: 99.98 99.31%\n",
      "\n",
      "Training and Test accuracies: 11.24 11.35%\n",
      "Epoch 1/1\n",
      "469/469 [==============================] - 10s 21ms/step - loss: 14.3162 - acc: 0.1118\n",
      "Epoch 1/1\n",
      "469/469 [==============================] - 10s 21ms/step - loss: 0.0127 - acc: 0.9958\n",
      "Epoch 1/1\n",
      "469/469 [==============================] - 10s 21ms/step - loss: 14.3141 - acc: 0.1119\n",
      "Epoch 1/1\n",
      "469/469 [==============================] - 10s 21ms/step - loss: 0.0132 - acc: 0.9957\n",
      "Epoch 1/1\n",
      "469/469 [==============================] - 10s 21ms/step - loss: 14.3592 - acc: 0.1091\n",
      "Epoch 1/1\n",
      "469/469 [==============================] - 10s 21ms/step - loss: 0.0157 - acc: 0.9954\n",
      "Epoch 1/1\n",
      "469/469 [==============================] - 10s 21ms/step - loss: 14.2803 - acc: 0.1140\n",
      "Epoch 1/1\n",
      "469/469 [==============================] - 10s 21ms/step - loss: 0.0128 - acc: 0.9963\n",
      "Epoch 1/1\n",
      "469/469 [==============================] - 10s 21ms/step - loss: 14.2988 - acc: 0.1129\n",
      "Epoch 1/1\n",
      "469/469 [==============================] - 10s 21ms/step - loss: 0.0125 - acc: 0.9961\n",
      "After training:\n",
      "\n",
      "Training and Test accuracies: 99.98 99.23%\n",
      "\n",
      "Training and Test accuracies: 11.24 11.35%\n",
      "Before training:\n",
      "\n",
      "Training and Test accuracies: 99.98 99.23%\n",
      "\n",
      "Training and Test accuracies: 11.24 11.35%\n",
      "Epoch 1/1\n",
      "469/469 [==============================] - 10s 21ms/step - loss: 14.3350 - acc: 0.1106\n",
      "Epoch 1/1\n",
      "469/469 [==============================] - 10s 21ms/step - loss: 0.0130 - acc: 0.9961\n",
      "Epoch 1/1\n",
      "469/469 [==============================] - 10s 21ms/step - loss: 14.3106 - acc: 0.1121\n",
      "Epoch 1/1\n",
      "469/469 [==============================] - 10s 22ms/step - loss: 0.0142 - acc: 0.9957\n",
      "Epoch 1/1\n",
      "469/469 [==============================] - 10s 21ms/step - loss: 14.2841 - acc: 0.1138\n",
      "Epoch 1/1\n",
      "469/469 [==============================] - 10s 21ms/step - loss: 0.0121 - acc: 0.9962\n",
      "Epoch 1/1\n",
      "469/469 [==============================] - 10s 21ms/step - loss: 14.2988 - acc: 0.1129\n",
      "Epoch 1/1\n",
      "469/469 [==============================] - 10s 21ms/step - loss: 0.0126 - acc: 0.9961\n",
      "Epoch 1/1\n",
      "469/469 [==============================] - 10s 21ms/step - loss: 14.2913 - acc: 0.1133\n",
      "Epoch 1/1\n",
      "469/469 [==============================] - 10s 21ms/step - loss: 0.0120 - acc: 0.9962\n",
      "After training:\n",
      "\n",
      "Training and Test accuracies: 99.99 99.32%\n",
      "\n",
      "Training and Test accuracies: 11.24 11.35%\n",
      "Before training:\n",
      "\n",
      "Training and Test accuracies: 99.99 99.32%\n",
      "\n",
      "Training and Test accuracies: 11.24 11.35%\n",
      "Epoch 1/1\n",
      "469/469 [==============================] - 10s 21ms/step - loss: 14.3367 - acc: 0.1105\n",
      "Epoch 1/1\n",
      "469/469 [==============================] - 10s 21ms/step - loss: 0.0113 - acc: 0.9963\n",
      "Epoch 1/1\n",
      "469/469 [==============================] - 10s 21ms/step - loss: 14.3305 - acc: 0.1109\n",
      "Epoch 1/1\n",
      "469/469 [==============================] - 10s 21ms/step - loss: 0.0115 - acc: 0.9963\n",
      "Epoch 1/1\n",
      "469/469 [==============================] - 10s 21ms/step - loss: 14.3138 - acc: 0.1119\n",
      "Epoch 1/1\n",
      "469/469 [==============================] - 10s 21ms/step - loss: 0.0131 - acc: 0.9964\n",
      "Epoch 1/1\n",
      "469/469 [==============================] - 10s 21ms/step - loss: 14.2894 - acc: 0.1135\n",
      "Epoch 1/1\n",
      "469/469 [==============================] - 10s 21ms/step - loss: 0.0111 - acc: 0.9966\n",
      "Epoch 1/1\n",
      "469/469 [==============================] - 10s 21ms/step - loss: 14.3106 - acc: 0.1121\n",
      "Epoch 1/1\n",
      "469/469 [==============================] - 10s 21ms/step - loss: 0.0125 - acc: 0.9961\n",
      "After training:\n",
      "\n",
      "Training and Test accuracies: 100.00 99.25%\n",
      "\n",
      "Training and Test accuracies: 11.24 11.35%\n",
      "Before training:\n",
      "\n",
      "Training and Test accuracies: 100.00 99.25%\n",
      "\n",
      "Training and Test accuracies: 11.24 11.35%\n",
      "Epoch 1/1\n",
      "469/469 [==============================] - 10s 21ms/step - loss: 14.2881 - acc: 0.1135\n",
      "Epoch 1/1\n",
      "469/469 [==============================] - 10s 21ms/step - loss: 0.0112 - acc: 0.9964\n",
      "Epoch 1/1\n",
      "469/469 [==============================] - 10s 21ms/step - loss: 14.2768 - acc: 0.1142\n",
      "Epoch 1/1\n",
      "469/469 [==============================] - 10s 21ms/step - loss: 0.0117 - acc: 0.9964\n",
      "Epoch 1/1\n",
      "469/469 [==============================] - 10s 21ms/step - loss: 14.3007 - acc: 0.1128\n",
      "Epoch 1/1\n",
      "469/469 [==============================] - 10s 21ms/step - loss: 0.0124 - acc: 0.9962\n",
      "Epoch 1/1\n",
      "469/469 [==============================] - 10s 21ms/step - loss: 14.3139 - acc: 0.1119\n",
      "Epoch 1/1\n",
      "469/469 [==============================] - 10s 21ms/step - loss: 0.0108 - acc: 0.9962\n",
      "Epoch 1/1\n",
      "469/469 [==============================] - 10s 21ms/step - loss: 14.3071 - acc: 0.1124\n",
      "Epoch 1/1\n",
      "469/469 [==============================] - 10s 21ms/step - loss: 0.0107 - acc: 0.9966\n",
      "After training:\n",
      "\n",
      "Training and Test accuracies: 99.99 99.35%\n",
      "\n",
      "Training and Test accuracies: 11.24 11.35%\n",
      "Before training:\n",
      "\n",
      "Training and Test accuracies: 99.99 99.35%\n",
      "\n",
      "Training and Test accuracies: 11.24 11.35%\n",
      "Epoch 1/1\n",
      "469/469 [==============================] - 10s 21ms/step - loss: 14.2958 - acc: 0.1131\n",
      "Epoch 1/1\n",
      "469/469 [==============================] - 10s 21ms/step - loss: 0.0104 - acc: 0.9966\n",
      "Epoch 1/1\n",
      "469/469 [==============================] - 10s 21ms/step - loss: 14.3077 - acc: 0.1123\n",
      "Epoch 1/1\n",
      "469/469 [==============================] - 10s 21ms/step - loss: 0.0126 - acc: 0.9959\n",
      "Epoch 1/1\n",
      "469/469 [==============================] - 10s 21ms/step - loss: 14.3318 - acc: 0.1108\n",
      "Epoch 1/1\n",
      "469/469 [==============================] - 10s 21ms/step - loss: 0.0112 - acc: 0.9965\n",
      "Epoch 1/1\n",
      "469/469 [==============================] - 10s 21ms/step - loss: 14.3455 - acc: 0.1100\n",
      "Epoch 1/1\n",
      "469/469 [==============================] - 10s 21ms/step - loss: 0.0113 - acc: 0.9964\n",
      "Epoch 1/1\n",
      "469/469 [==============================] - 10s 21ms/step - loss: 14.2870 - acc: 0.1136\n",
      "Epoch 1/1\n",
      "469/469 [==============================] - 10s 21ms/step - loss: 0.0106 - acc: 0.9965\n",
      "After training:\n",
      "\n",
      "Training and Test accuracies: 99.99 99.31%\n",
      "\n",
      "Training and Test accuracies: 11.24 11.35%\n"
     ]
    }
   ],
   "source": [
    "vanilla_clf_adv_trained_1 = adv_training_1(vanilla_clf, x_train, y_train, x_train_ifgsm_adv, x_test_ifgsm_adv, x_test, y_test, epochs=5)\n",
    "vanilla_clf_adv_trained_1 = adv_training_1(vanilla_clf, x_train, y_train, x_train_ifgsm_adv, x_test_ifgsm_adv, x_test, y_test, epochs=5)\n",
    "vanilla_clf_adv_trained_1 = adv_training_1(vanilla_clf, x_train, y_train, x_train_ifgsm_adv, x_test_ifgsm_adv, x_test, y_test, epochs=5)\n",
    "vanilla_clf_adv_trained_1 = adv_training_1(vanilla_clf, x_train, y_train, x_train_ifgsm_adv, x_test_ifgsm_adv, x_test, y_test, epochs=5)\n",
    "vanilla_clf_adv_trained_1 = adv_training_1(vanilla_clf, x_train, y_train, x_train_ifgsm_adv, x_test_ifgsm_adv, x_test, y_test, epochs=5)"
   ]
  },
  {
   "cell_type": "code",
   "execution_count": 44,
   "metadata": {},
   "outputs": [],
   "source": [
    "save_clf(vanilla_clf, '/home/surthi/models/mnist/', 'vanilla_clf_adv.h5', 'vanilla_clf_model_adv.h5')"
   ]
  },
  {
   "cell_type": "code",
   "execution_count": 45,
   "metadata": {},
   "outputs": [
    {
     "name": "stdout",
     "output_type": "stream",
     "text": [
      "Before training:\n",
      "\n",
      "Training and Test accuracies: 99.99 99.31%\n",
      "\n",
      "Training and Test accuracies: 11.24 11.35%\n",
      "Epoch 1/1\n",
      "469/469 [==============================] - 10s 21ms/step - loss: 14.3275 - acc: 0.1111\n",
      "Epoch 1/1\n",
      "469/469 [==============================] - 10s 21ms/step - loss: 0.0101 - acc: 0.9966\n",
      "Epoch 1/1\n",
      "469/469 [==============================] - 10s 21ms/step - loss: 14.2803 - acc: 0.1140\n",
      "Epoch 1/1\n",
      "469/469 [==============================] - 10s 21ms/step - loss: 0.0112 - acc: 0.9966\n",
      "Epoch 1/1\n",
      "469/469 [==============================] - 10s 21ms/step - loss: 14.3246 - acc: 0.1113\n",
      "Epoch 1/1\n",
      "469/469 [==============================] - 10s 21ms/step - loss: 0.0118 - acc: 0.9967\n",
      "Epoch 1/1\n",
      "469/469 [==============================] - 10s 21ms/step - loss: 14.3154 - acc: 0.1118\n",
      "Epoch 1/1\n",
      "469/469 [==============================] - 10s 21ms/step - loss: 0.0110 - acc: 0.9964\n",
      "Epoch 1/1\n",
      "469/469 [==============================] - 10s 21ms/step - loss: 14.3112 - acc: 0.1121\n",
      "Epoch 1/1\n",
      "469/469 [==============================] - 10s 22ms/step - loss: 0.0123 - acc: 0.9963\n",
      "After training:\n",
      "\n",
      "Training and Test accuracies: 99.99 99.32%\n",
      "\n",
      "Training and Test accuracies: 11.24 11.35%\n",
      "Before training:\n",
      "\n",
      "Training and Test accuracies: 99.99 99.32%\n",
      "\n",
      "Training and Test accuracies: 11.24 11.35%\n",
      "Epoch 1/1\n",
      "469/469 [==============================] - 10s 21ms/step - loss: 14.2929 - acc: 0.1132\n",
      "Epoch 1/1\n",
      "469/469 [==============================] - 10s 21ms/step - loss: 0.0106 - acc: 0.9966\n",
      "Epoch 1/1\n",
      "469/469 [==============================] - 10s 21ms/step - loss: 14.2996 - acc: 0.1128\n",
      "Epoch 1/1\n",
      "469/469 [==============================] - 10s 21ms/step - loss: 0.0098 - acc: 0.9972\n",
      "Epoch 1/1\n",
      "469/469 [==============================] - 10s 21ms/step - loss: 14.3181 - acc: 0.1117\n",
      "Epoch 1/1\n",
      "469/469 [==============================] - 10s 21ms/step - loss: 0.0104 - acc: 0.9965\n",
      "Epoch 1/1\n",
      "469/469 [==============================] - 10s 21ms/step - loss: 14.3015 - acc: 0.1127\n",
      "Epoch 1/1\n",
      "469/469 [==============================] - 10s 21ms/step - loss: 0.0119 - acc: 0.9961\n",
      "Epoch 1/1\n",
      "469/469 [==============================] - 10s 21ms/step - loss: 14.3235 - acc: 0.1113\n",
      "Epoch 1/1\n",
      "469/469 [==============================] - 10s 21ms/step - loss: 0.0096 - acc: 0.9970\n",
      "After training:\n",
      "\n",
      "Training and Test accuracies: 99.99 99.38%\n",
      "\n",
      "Training and Test accuracies: 11.24 11.35%\n",
      "Before training:\n",
      "\n",
      "Training and Test accuracies: 99.99 99.38%\n",
      "\n",
      "Training and Test accuracies: 11.24 11.35%\n",
      "Epoch 1/1\n",
      "469/469 [==============================] - 10s 21ms/step - loss: 14.3302 - acc: 0.1109\n",
      "Epoch 1/1\n",
      "469/469 [==============================] - 10s 21ms/step - loss: 0.0098 - acc: 0.9971\n",
      "Epoch 1/1\n",
      "469/469 [==============================] - 10s 21ms/step - loss: 14.3004 - acc: 0.1128\n",
      "Epoch 1/1\n",
      "469/469 [==============================] - 10s 21ms/step - loss: 0.0105 - acc: 0.9967\n",
      "Epoch 1/1\n",
      "469/469 [==============================] - 10s 21ms/step - loss: 14.3098 - acc: 0.1122\n",
      "Epoch 1/1\n",
      "469/469 [==============================] - 10s 21ms/step - loss: 0.0120 - acc: 0.9965\n",
      "Epoch 1/1\n",
      "469/469 [==============================] - 10s 21ms/step - loss: 14.3514 - acc: 0.1096\n",
      "Epoch 1/1\n",
      "469/469 [==============================] - 10s 21ms/step - loss: 0.0109 - acc: 0.9967\n",
      "Epoch 1/1\n",
      "469/469 [==============================] - 10s 21ms/step - loss: 14.3345 - acc: 0.1107\n",
      "Epoch 1/1\n",
      "469/469 [==============================] - 10s 21ms/step - loss: 0.0076 - acc: 0.9973\n",
      "After training:\n",
      "\n",
      "Training and Test accuracies: 100.00 99.44%\n",
      "\n",
      "Training and Test accuracies: 11.24 11.35%\n",
      "Before training:\n",
      "\n",
      "Training and Test accuracies: 100.00 99.44%\n",
      "\n",
      "Training and Test accuracies: 11.24 11.35%\n",
      "Epoch 1/1\n",
      "469/469 [==============================] - 10s 21ms/step - loss: 14.2848 - acc: 0.1137\n",
      "Epoch 1/1\n",
      "469/469 [==============================] - 10s 21ms/step - loss: 0.0091 - acc: 0.9973\n",
      "Epoch 1/1\n",
      "469/469 [==============================] - 10s 21ms/step - loss: 14.3050 - acc: 0.1125\n",
      "Epoch 1/1\n",
      "469/469 [==============================] - 10s 21ms/step - loss: 0.0116 - acc: 0.9965\n",
      "Epoch 1/1\n",
      "469/469 [==============================] - 10s 21ms/step - loss: 14.3447 - acc: 0.1100\n",
      "Epoch 1/1\n",
      "469/469 [==============================] - 10s 21ms/step - loss: 0.0097 - acc: 0.9970\n",
      "Epoch 1/1\n",
      "469/469 [==============================] - 10s 21ms/step - loss: 14.2797 - acc: 0.11410s - loss: 14.2769 - acc\n",
      "Epoch 1/1\n",
      "469/469 [==============================] - 10s 21ms/step - loss: 0.0095 - acc: 0.9971\n",
      "Epoch 1/1\n",
      "469/469 [==============================] - 10s 21ms/step - loss: 14.3001 - acc: 0.1128\n",
      "Epoch 1/1\n",
      "469/469 [==============================] - 10s 21ms/step - loss: 0.0105 - acc: 0.9968\n",
      "After training:\n",
      "\n",
      "Training and Test accuracies: 100.00 99.33%\n",
      "\n",
      "Training and Test accuracies: 11.24 11.35%\n",
      "Before training:\n",
      "\n",
      "Training and Test accuracies: 100.00 99.33%\n",
      "\n",
      "Training and Test accuracies: 11.24 11.35%\n",
      "Epoch 1/1\n",
      "469/469 [==============================] - 10s 21ms/step - loss: 14.2980 - acc: 0.1129\n",
      "Epoch 1/1\n",
      "469/469 [==============================] - 10s 21ms/step - loss: 0.0112 - acc: 0.9967\n",
      "Epoch 1/1\n",
      "469/469 [==============================] - 10s 21ms/step - loss: 14.3095 - acc: 0.1122\n",
      "Epoch 1/1\n",
      "469/469 [==============================] - 10s 21ms/step - loss: 0.0093 - acc: 0.9971\n",
      "Epoch 1/1\n",
      "469/469 [==============================] - 10s 21ms/step - loss: 14.3098 - acc: 0.1122\n",
      "Epoch 1/1\n",
      "469/469 [==============================] - 10s 21ms/step - loss: 0.0107 - acc: 0.9968\n",
      "Epoch 1/1\n",
      "469/469 [==============================] - 10s 21ms/step - loss: 14.3205 - acc: 0.1115\n",
      "Epoch 1/1\n",
      "469/469 [==============================] - 10s 21ms/step - loss: 0.0103 - acc: 0.9968\n",
      "Epoch 1/1\n",
      "469/469 [==============================] - 10s 21ms/step - loss: 14.2996 - acc: 0.1128\n",
      "Epoch 1/1\n",
      "469/469 [==============================] - 10s 21ms/step - loss: 0.0118 - acc: 0.9966\n",
      "After training:\n",
      "\n",
      "Training and Test accuracies: 100.00 99.35%\n",
      "\n",
      "Training and Test accuracies: 11.24 11.35%\n"
     ]
    }
   ],
   "source": [
    "vanilla_clf_adv_trained_1 = adv_training_1(vanilla_clf, x_train, y_train, x_train_ifgsm_adv, x_test_ifgsm_adv, x_test, y_test, epochs=5)\n",
    "vanilla_clf_adv_trained_1 = adv_training_1(vanilla_clf, x_train, y_train, x_train_ifgsm_adv, x_test_ifgsm_adv, x_test, y_test, epochs=5)\n",
    "vanilla_clf_adv_trained_1 = adv_training_1(vanilla_clf, x_train, y_train, x_train_ifgsm_adv, x_test_ifgsm_adv, x_test, y_test, epochs=5)\n",
    "vanilla_clf_adv_trained_1 = adv_training_1(vanilla_clf, x_train, y_train, x_train_ifgsm_adv, x_test_ifgsm_adv, x_test, y_test, epochs=5)\n",
    "vanilla_clf_adv_trained_1 = adv_training_1(vanilla_clf, x_train, y_train, x_train_ifgsm_adv, x_test_ifgsm_adv, x_test, y_test, epochs=5)"
   ]
  },
  {
   "cell_type": "code",
   "execution_count": 46,
   "metadata": {},
   "outputs": [],
   "source": [
    "save_clf(vanilla_clf, '/home/surthi/models/mnist/', 'vanilla_clf_adv.h5', 'vanilla_clf_model_adv.h5')"
   ]
  },
  {
   "cell_type": "code",
   "execution_count": 47,
   "metadata": {
    "scrolled": false
   },
   "outputs": [
    {
     "name": "stdout",
     "output_type": "stream",
     "text": [
      "Before training:\n",
      "\n",
      "Training and Test accuracies: 100.00 99.35%\n",
      "\n",
      "Training and Test accuracies: 11.24 11.35%\n",
      "Epoch 1/1\n",
      "469/469 [==============================] - 10s 21ms/step - loss: 14.3077 - acc: 0.1123\n",
      "Epoch 1/1\n",
      "469/469 [==============================] - 10s 22ms/step - loss: 0.0100 - acc: 0.9972\n",
      "Epoch 1/1\n",
      "469/469 [==============================] - 10s 21ms/step - loss: 14.2953 - acc: 0.1131\n",
      "Epoch 1/1\n",
      "469/469 [==============================] - 10s 21ms/step - loss: 0.0105 - acc: 0.9968\n",
      "Epoch 1/1\n",
      "469/469 [==============================] - 10s 21ms/step - loss: 14.2795 - acc: 0.1141\n",
      "Epoch 1/1\n",
      "469/469 [==============================] - 10s 21ms/step - loss: 0.0089 - acc: 0.9970\n",
      "Epoch 1/1\n",
      "469/469 [==============================] - 10s 21ms/step - loss: 14.3136 - acc: 0.1120\n",
      "Epoch 1/1\n",
      "469/469 [==============================] - 10s 21ms/step - loss: 0.0104 - acc: 0.9968\n",
      "Epoch 1/1\n",
      "469/469 [==============================] - 10s 21ms/step - loss: 14.3165 - acc: 0.1118\n",
      "Epoch 1/1\n",
      "469/469 [==============================] - 10s 21ms/step - loss: 0.0112 - acc: 0.9966\n",
      "After training:\n",
      "\n",
      "Training and Test accuracies: 100.00 99.32%\n",
      "\n",
      "Training and Test accuracies: 11.24 11.35%\n",
      "Before training:\n",
      "\n",
      "Training and Test accuracies: 100.00 99.32%\n",
      "\n",
      "Training and Test accuracies: 11.24 11.35%\n",
      "Epoch 1/1\n",
      "469/469 [==============================] - 10s 21ms/step - loss: 14.3235 - acc: 0.1113\n",
      "Epoch 1/1\n",
      "469/469 [==============================] - 10s 21ms/step - loss: 0.0086 - acc: 0.9975\n",
      "Epoch 1/1\n",
      "469/469 [==============================] - 10s 21ms/step - loss: 14.3385 - acc: 0.1104\n",
      "Epoch 1/1\n",
      "469/469 [==============================] - 10s 22ms/step - loss: 0.0097 - acc: 0.9970\n",
      "Epoch 1/1\n",
      "469/469 [==============================] - 10s 21ms/step - loss: 14.3224 - acc: 0.1114\n",
      "Epoch 1/1\n",
      "469/469 [==============================] - 10s 21ms/step - loss: 0.0113 - acc: 0.9968\n",
      "Epoch 1/1\n",
      "469/469 [==============================] - 10s 21ms/step - loss: 14.3369 - acc: 0.1105\n",
      "Epoch 1/1\n",
      "469/469 [==============================] - 10s 21ms/step - loss: 0.0095 - acc: 0.9970\n",
      "Epoch 1/1\n",
      "469/469 [==============================] - 10s 21ms/step - loss: 14.3243 - acc: 0.1113\n",
      "Epoch 1/1\n",
      "469/469 [==============================] - 10s 21ms/step - loss: 0.0080 - acc: 0.9976\n",
      "After training:\n",
      "\n",
      "Training and Test accuracies: 100.00 99.41%\n",
      "\n",
      "Training and Test accuracies: 11.24 11.35%\n",
      "Before training:\n",
      "\n",
      "Training and Test accuracies: 100.00 99.41%\n",
      "\n",
      "Training and Test accuracies: 11.24 11.35%\n",
      "Epoch 1/1\n",
      "469/469 [==============================] - 10s 21ms/step - loss: 14.3162 - acc: 0.1118\n",
      "Epoch 1/1\n",
      "469/469 [==============================] - 10s 21ms/step - loss: 0.0093 - acc: 0.9974\n",
      "Epoch 1/1\n",
      "469/469 [==============================] - 10s 21ms/step - loss: 14.2855 - acc: 0.1137\n",
      "Epoch 1/1\n",
      "469/469 [==============================] - 10s 21ms/step - loss: 0.0098 - acc: 0.9972\n",
      "Epoch 1/1\n",
      "469/469 [==============================] - 10s 21ms/step - loss: 14.2921 - acc: 0.1133\n",
      "Epoch 1/1\n",
      "469/469 [==============================] - 10s 21ms/step - loss: 0.0103 - acc: 0.9970\n",
      "Epoch 1/1\n",
      "469/469 [==============================] - 10s 21ms/step - loss: 14.3189 - acc: 0.1116\n",
      "Epoch 1/1\n",
      "469/469 [==============================] - 10s 21ms/step - loss: 0.0091 - acc: 0.9974\n",
      "Epoch 1/1\n",
      "469/469 [==============================] - 10s 21ms/step - loss: 14.2660 - acc: 0.1149\n",
      "Epoch 1/1\n",
      "469/469 [==============================] - 10s 21ms/step - loss: 0.0104 - acc: 0.9971\n",
      "After training:\n",
      "\n",
      "Training and Test accuracies: 100.00 99.37%\n",
      "\n",
      "Training and Test accuracies: 11.24 11.35%\n",
      "Before training:\n",
      "\n",
      "Training and Test accuracies: 100.00 99.37%\n",
      "\n",
      "Training and Test accuracies: 11.24 11.35%\n",
      "Epoch 1/1\n",
      "469/469 [==============================] - 10s 21ms/step - loss: 14.3047 - acc: 0.1125\n",
      "Epoch 1/1\n",
      "469/469 [==============================] - 10s 21ms/step - loss: 0.0086 - acc: 0.9976\n",
      "Epoch 1/1\n",
      "469/469 [==============================] - 10s 21ms/step - loss: 14.2870 - acc: 0.1136\n",
      "Epoch 1/1\n",
      "469/469 [==============================] - 10s 21ms/step - loss: 0.0106 - acc: 0.9970\n",
      "Epoch 1/1\n",
      "469/469 [==============================] - 10s 21ms/step - loss: 14.2593 - acc: 0.1153\n",
      "Epoch 1/1\n",
      "469/469 [==============================] - 10s 21ms/step - loss: 0.0103 - acc: 0.9969\n",
      "Epoch 1/1\n",
      "469/469 [==============================] - 10s 21ms/step - loss: 14.3254 - acc: 0.1112\n",
      "Epoch 1/1\n",
      "469/469 [==============================] - 10s 21ms/step - loss: 0.0088 - acc: 0.9974\n",
      "Epoch 1/1\n",
      "469/469 [==============================] - 10s 21ms/step - loss: 14.3148 - acc: 0.1119\n",
      "Epoch 1/1\n",
      "469/469 [==============================] - 10s 21ms/step - loss: 0.0099 - acc: 0.9969\n",
      "After training:\n",
      "\n",
      "Training and Test accuracies: 99.99 99.41%\n",
      "\n",
      "Training and Test accuracies: 11.24 11.35%\n",
      "Before training:\n",
      "\n",
      "Training and Test accuracies: 99.99 99.41%\n",
      "\n",
      "Training and Test accuracies: 11.24 11.35%\n",
      "Epoch 1/1\n",
      "469/469 [==============================] - 10s 21ms/step - loss: 14.2601 - acc: 0.1153\n",
      "Epoch 1/1\n",
      "469/469 [==============================] - 10s 21ms/step - loss: 0.0086 - acc: 0.9972\n",
      "Epoch 1/1\n",
      "469/469 [==============================] - 10s 21ms/step - loss: 14.2950 - acc: 0.1131\n",
      "Epoch 1/1\n",
      "469/469 [==============================] - 10s 21ms/step - loss: 0.0095 - acc: 0.9969\n",
      "Epoch 1/1\n",
      "469/469 [==============================] - 10s 21ms/step - loss: 14.2977 - acc: 0.1129\n",
      "Epoch 1/1\n",
      "469/469 [==============================] - 10s 21ms/step - loss: 0.0096 - acc: 0.9973\n",
      "Epoch 1/1\n",
      "469/469 [==============================] - 10s 21ms/step - loss: 14.2905 - acc: 0.1134\n",
      "Epoch 1/1\n",
      "469/469 [==============================] - 10s 21ms/step - loss: 0.0087 - acc: 0.9972\n",
      "Epoch 1/1\n",
      "469/469 [==============================] - 10s 21ms/step - loss: 14.2905 - acc: 0.1134\n",
      "Epoch 1/1\n",
      "469/469 [==============================] - 10s 21ms/step - loss: 0.0097 - acc: 0.9972\n",
      "After training:\n",
      "\n",
      "Training and Test accuracies: 100.00 99.35%\n",
      "\n",
      "Training and Test accuracies: 11.24 11.35%\n"
     ]
    }
   ],
   "source": [
    "vanilla_clf_adv_trained_1 = adv_training_1(vanilla_clf, x_train, y_train, x_train_ifgsm_adv, x_test_ifgsm_adv, x_test, y_test, epochs=5)\n",
    "vanilla_clf_adv_trained_1 = adv_training_1(vanilla_clf, x_train, y_train, x_train_ifgsm_adv, x_test_ifgsm_adv, x_test, y_test, epochs=5)\n",
    "vanilla_clf_adv_trained_1 = adv_training_1(vanilla_clf, x_train, y_train, x_train_ifgsm_adv, x_test_ifgsm_adv, x_test, y_test, epochs=5)\n",
    "vanilla_clf_adv_trained_1 = adv_training_1(vanilla_clf, x_train, y_train, x_train_ifgsm_adv, x_test_ifgsm_adv, x_test, y_test, epochs=5)\n",
    "vanilla_clf_adv_trained_1 = adv_training_1(vanilla_clf, x_train, y_train, x_train_ifgsm_adv, x_test_ifgsm_adv, x_test, y_test, epochs=5)"
   ]
  },
  {
   "cell_type": "code",
   "execution_count": 48,
   "metadata": {},
   "outputs": [],
   "source": [
    "save_clf(vanilla_clf, '/home/surthi/models/mnist/', 'vanilla_clf_adv.h5', 'vanilla_clf_model_adv.h5')"
   ]
  },
  {
   "cell_type": "markdown",
   "metadata": {},
   "source": [
    "# BN Adversarial Training"
   ]
  },
  {
   "cell_type": "code",
   "execution_count": 49,
   "metadata": {},
   "outputs": [
    {
     "name": "stdout",
     "output_type": "stream",
     "text": [
      "Before training:\n",
      "\n",
      "Training and Test accuracies: 100.00 99.32%\n",
      "\n",
      "Training and Test accuracies: 2.05 2.43%\n",
      "Epoch 1/1\n",
      "469/469 [==============================] - 15s 32ms/step - loss: 0.5868 - acc: 0.8998\n",
      "Epoch 1/1\n",
      "469/469 [==============================] - 14s 29ms/step - loss: 0.0727 - acc: 0.9781\n",
      "Epoch 1/1\n",
      "469/469 [==============================] - 14s 29ms/step - loss: 0.0863 - acc: 0.9738\n",
      "Epoch 1/1\n",
      "469/469 [==============================] - 14s 29ms/step - loss: 0.0316 - acc: 0.9895\n",
      "Epoch 1/1\n",
      "469/469 [==============================] - 14s 29ms/step - loss: 0.0552 - acc: 0.9830\n",
      "Epoch 1/1\n",
      "469/469 [==============================] - 14s 30ms/step - loss: 0.0254 - acc: 0.9919\n",
      "Epoch 1/1\n",
      "469/469 [==============================] - 14s 29ms/step - loss: 0.0434 - acc: 0.9865\n",
      "Epoch 1/1\n",
      "469/469 [==============================] - 14s 30ms/step - loss: 0.0248 - acc: 0.9921\n",
      "Epoch 1/1\n",
      "469/469 [==============================] - 14s 29ms/step - loss: 0.0366 - acc: 0.9889\n",
      "Epoch 1/1\n",
      "469/469 [==============================] - 14s 29ms/step - loss: 0.0224 - acc: 0.9925\n",
      "After training:\n",
      "\n",
      "Training and Test accuracies: 99.91 99.24%\n",
      "\n",
      "Training and Test accuracies: 54.52 55.45%\n",
      "Before training:\n",
      "\n",
      "Training and Test accuracies: 99.91 99.24%\n",
      "\n",
      "Training and Test accuracies: 54.52 55.45%\n",
      "Epoch 1/1\n",
      "469/469 [==============================] - 14s 29ms/step - loss: 0.0280 - acc: 0.9919\n",
      "Epoch 1/1\n",
      "469/469 [==============================] - 14s 29ms/step - loss: 0.0182 - acc: 0.9940\n",
      "Epoch 1/1\n",
      "469/469 [==============================] - 14s 29ms/step - loss: 0.0221 - acc: 0.9934\n",
      "Epoch 1/1\n",
      "469/469 [==============================] - 14s 30ms/step - loss: 0.0168 - acc: 0.9945\n",
      "Epoch 1/1\n",
      "469/469 [==============================] - 14s 30ms/step - loss: 0.0207 - acc: 0.9938\n",
      "Epoch 1/1\n",
      "469/469 [==============================] - 14s 29ms/step - loss: 0.0144 - acc: 0.9951\n",
      "Epoch 1/1\n",
      "469/469 [==============================] - 14s 29ms/step - loss: 0.0200 - acc: 0.9938\n",
      "Epoch 1/1\n",
      "469/469 [==============================] - 14s 30ms/step - loss: 0.0170 - acc: 0.9943\n",
      "Epoch 1/1\n",
      "469/469 [==============================] - 14s 29ms/step - loss: 0.0173 - acc: 0.9947\n",
      "Epoch 1/1\n",
      "469/469 [==============================] - 14s 30ms/step - loss: 0.0152 - acc: 0.9948\n",
      "After training:\n",
      "\n",
      "Training and Test accuracies: 99.96 99.27%\n",
      "\n",
      "Training and Test accuracies: 66.60 66.97%\n",
      "Before training:\n",
      "\n",
      "Training and Test accuracies: 99.96 99.27%\n",
      "\n",
      "Training and Test accuracies: 66.60 66.97%\n",
      "Epoch 1/1\n",
      "469/469 [==============================] - 14s 29ms/step - loss: 0.0132 - acc: 0.9958\n",
      "Epoch 1/1\n",
      "469/469 [==============================] - 14s 30ms/step - loss: 0.0141 - acc: 0.9953\n",
      "Epoch 1/1\n",
      "469/469 [==============================] - 14s 29ms/step - loss: 0.0127 - acc: 0.9963\n",
      "Epoch 1/1\n",
      "469/469 [==============================] - 14s 30ms/step - loss: 0.0142 - acc: 0.9953\n",
      "Epoch 1/1\n",
      "469/469 [==============================] - 14s 29ms/step - loss: 0.0135 - acc: 0.9959\n",
      "Epoch 1/1\n",
      "469/469 [==============================] - 14s 29ms/step - loss: 0.0138 - acc: 0.9955\n",
      "Epoch 1/1\n",
      "469/469 [==============================] - 14s 29ms/step - loss: 0.0130 - acc: 0.9963\n",
      "Epoch 1/1\n",
      "469/469 [==============================] - 14s 30ms/step - loss: 0.0133 - acc: 0.9956\n",
      "Epoch 1/1\n",
      "469/469 [==============================] - 14s 30ms/step - loss: 0.0137 - acc: 0.9961\n",
      "Epoch 1/1\n",
      "469/469 [==============================] - 14s 30ms/step - loss: 0.0149 - acc: 0.9951\n",
      "After training:\n",
      "\n",
      "Training and Test accuracies: 99.97 99.24%\n",
      "\n",
      "Training and Test accuracies: 66.02 66.33%\n",
      "Before training:\n",
      "\n",
      "Training and Test accuracies: 99.97 99.24%\n",
      "\n",
      "Training and Test accuracies: 66.02 66.33%\n",
      "Epoch 1/1\n",
      "469/469 [==============================] - 14s 30ms/step - loss: 0.0124 - acc: 0.9961\n",
      "Epoch 1/1\n",
      "469/469 [==============================] - 14s 30ms/step - loss: 0.0121 - acc: 0.9956\n",
      "Epoch 1/1\n",
      "469/469 [==============================] - 14s 29ms/step - loss: 0.0103 - acc: 0.9969\n",
      "Epoch 1/1\n",
      "469/469 [==============================] - 14s 29ms/step - loss: 0.0121 - acc: 0.9959\n",
      "Epoch 1/1\n",
      "469/469 [==============================] - 14s 29ms/step - loss: 0.0103 - acc: 0.9973\n",
      "Epoch 1/1\n",
      "469/469 [==============================] - 14s 30ms/step - loss: 0.0114 - acc: 0.9962\n",
      "Epoch 1/1\n",
      "469/469 [==============================] - 14s 30ms/step - loss: 0.0119 - acc: 0.9969\n",
      "Epoch 1/1\n",
      "469/469 [==============================] - 14s 30ms/step - loss: 0.0125 - acc: 0.9958\n",
      "Epoch 1/1\n",
      "469/469 [==============================] - 14s 29ms/step - loss: 0.0106 - acc: 0.9969\n",
      "Epoch 1/1\n",
      "469/469 [==============================] - 14s 30ms/step - loss: 0.0115 - acc: 0.9960\n",
      "After training:\n",
      "\n",
      "Training and Test accuracies: 99.97 99.31%\n",
      "\n",
      "Training and Test accuracies: 78.30 78.01%\n",
      "Before training:\n",
      "\n",
      "Training and Test accuracies: 99.97 99.31%\n",
      "\n",
      "Training and Test accuracies: 78.30 78.01%\n",
      "Epoch 1/1\n",
      "469/469 [==============================] - 14s 29ms/step - loss: 0.0083 - acc: 0.9975\n",
      "Epoch 1/1\n",
      "469/469 [==============================] - 14s 30ms/step - loss: 0.0108 - acc: 0.9964\n",
      "Epoch 1/1\n",
      "469/469 [==============================] - 14s 29ms/step - loss: 0.0083 - acc: 0.9975\n",
      "Epoch 1/1\n",
      "469/469 [==============================] - 14s 29ms/step - loss: 0.0097 - acc: 0.9967\n",
      "Epoch 1/1\n",
      "469/469 [==============================] - 14s 29ms/step - loss: 0.0096 - acc: 0.9973\n",
      "Epoch 1/1\n",
      "469/469 [==============================] - 14s 30ms/step - loss: 0.0129 - acc: 0.9954\n",
      "Epoch 1/1\n",
      "469/469 [==============================] - 14s 29ms/step - loss: 0.0074 - acc: 0.9978\n",
      "Epoch 1/1\n",
      "469/469 [==============================] - 14s 29ms/step - loss: 0.0109 - acc: 0.9963\n",
      "Epoch 1/1\n",
      "469/469 [==============================] - 14s 29ms/step - loss: 0.0070 - acc: 0.9981\n",
      "Epoch 1/1\n",
      "469/469 [==============================] - 14s 29ms/step - loss: 0.0104 - acc: 0.9964\n",
      "After training:\n",
      "\n",
      "Training and Test accuracies: 99.98 99.28%\n",
      "\n",
      "Training and Test accuracies: 72.16 72.29%\n"
     ]
    }
   ],
   "source": [
    "vanilla_clf_adv_trained_1bn = adv_training_1(vanilla_clf_with_bn, x_train, y_train, x_train_ifgsm_adv, x_test_ifgsm_adv, x_test, y_test, epochs=5)\n",
    "vanilla_clf_adv_trained_1bn = adv_training_1(vanilla_clf_with_bn, x_train, y_train, x_train_ifgsm_adv, x_test_ifgsm_adv, x_test, y_test, epochs=5)\n",
    "vanilla_clf_adv_trained_1bn = adv_training_1(vanilla_clf_with_bn, x_train, y_train, x_train_ifgsm_adv, x_test_ifgsm_adv, x_test, y_test, epochs=5)\n",
    "vanilla_clf_adv_trained_1bn = adv_training_1(vanilla_clf_with_bn, x_train, y_train, x_train_ifgsm_adv, x_test_ifgsm_adv, x_test, y_test, epochs=5)\n",
    "vanilla_clf_adv_trained_1bn = adv_training_1(vanilla_clf_with_bn, x_train, y_train, x_train_ifgsm_adv, x_test_ifgsm_adv, x_test, y_test, epochs=5)"
   ]
  },
  {
   "cell_type": "code",
   "execution_count": 50,
   "metadata": {},
   "outputs": [
    {
     "name": "stdout",
     "output_type": "stream",
     "text": [
      "_________________________________________________________________\n",
      "Layer (type)                 Output Shape              Param #   \n",
      "=================================================================\n",
      "conv2d_1 (Conv2D)            (None, 26, 26, 64)        640       \n",
      "_________________________________________________________________\n",
      "activation_1 (Activation)    (None, 26, 26, 64)        0         \n",
      "_________________________________________________________________\n",
      "batch_normalization_1 (Batch (None, 26, 26, 64)        256       \n",
      "_________________________________________________________________\n",
      "conv2d_2 (Conv2D)            (None, 24, 24, 64)        36928     \n",
      "_________________________________________________________________\n",
      "activation_2 (Activation)    (None, 24, 24, 64)        0         \n",
      "_________________________________________________________________\n",
      "batch_normalization_2 (Batch (None, 24, 24, 64)        256       \n",
      "_________________________________________________________________\n",
      "max_pooling2d_1 (MaxPooling2 (None, 12, 12, 64)        0         \n",
      "_________________________________________________________________\n",
      "dropout_1 (Dropout)          (None, 12, 12, 64)        0         \n",
      "_________________________________________________________________\n",
      "flatten_1 (Flatten)          (None, 9216)              0         \n",
      "_________________________________________________________________\n",
      "dense_1 (Dense)              (None, 128)               1179776   \n",
      "_________________________________________________________________\n",
      "activation_3 (Activation)    (None, 128)               0         \n",
      "_________________________________________________________________\n",
      "batch_normalization_3 (Batch (None, 128)               512       \n",
      "_________________________________________________________________\n",
      "dropout_2 (Dropout)          (None, 128)               0         \n",
      "_________________________________________________________________\n",
      "dense_2 (Dense)              (None, 10)                1290      \n",
      "_________________________________________________________________\n",
      "activation_4 (Activation)    (None, 10)                0         \n",
      "=================================================================\n",
      "Total params: 1,219,658\n",
      "Trainable params: 1,219,146\n",
      "Non-trainable params: 512\n",
      "_________________________________________________________________\n"
     ]
    }
   ],
   "source": [
    "vanilla_clf_with_bn._model.summary()"
   ]
  },
  {
   "cell_type": "code",
   "execution_count": 51,
   "metadata": {},
   "outputs": [
    {
     "name": "stdout",
     "output_type": "stream",
     "text": [
      "_________________________________________________________________\n",
      "Layer (type)                 Output Shape              Param #   \n",
      "=================================================================\n",
      "conv2d_3 (Conv2D)            (None, 26, 26, 64)        640       \n",
      "_________________________________________________________________\n",
      "activation_5 (Activation)    (None, 26, 26, 64)        0         \n",
      "_________________________________________________________________\n",
      "conv2d_4 (Conv2D)            (None, 24, 24, 64)        36928     \n",
      "_________________________________________________________________\n",
      "activation_6 (Activation)    (None, 24, 24, 64)        0         \n",
      "_________________________________________________________________\n",
      "max_pooling2d_2 (MaxPooling2 (None, 12, 12, 64)        0         \n",
      "_________________________________________________________________\n",
      "dropout_3 (Dropout)          (None, 12, 12, 64)        0         \n",
      "_________________________________________________________________\n",
      "flatten_2 (Flatten)          (None, 9216)              0         \n",
      "_________________________________________________________________\n",
      "dense_3 (Dense)              (None, 128)               1179776   \n",
      "_________________________________________________________________\n",
      "activation_7 (Activation)    (None, 128)               0         \n",
      "_________________________________________________________________\n",
      "dropout_4 (Dropout)          (None, 128)               0         \n",
      "_________________________________________________________________\n",
      "dense_4 (Dense)              (None, 10)                1290      \n",
      "_________________________________________________________________\n",
      "activation_8 (Activation)    (None, 10)                0         \n",
      "=================================================================\n",
      "Total params: 1,218,634\n",
      "Trainable params: 1,218,634\n",
      "Non-trainable params: 0\n",
      "_________________________________________________________________\n"
     ]
    }
   ],
   "source": [
    "vanilla_clf._model.summary()"
   ]
  },
  {
   "cell_type": "code",
   "execution_count": 53,
   "metadata": {},
   "outputs": [],
   "source": [
    "save_clf(vanilla_clf_with_bn, '/home/surthi/models/mnist/', 'vanilla_clf_bn_adv.h5', 'vanilla_clf_bn_model_adv.h5')"
   ]
  },
  {
   "cell_type": "code",
   "execution_count": 54,
   "metadata": {},
   "outputs": [
    {
     "name": "stdout",
     "output_type": "stream",
     "text": [
      "Before training:\n",
      "\n",
      "Training and Test accuracies: 99.98 99.28%\n",
      "\n",
      "Training and Test accuracies: 72.16 72.29%\n",
      "Epoch 1/1\n",
      "469/469 [==============================] - 14s 29ms/step - loss: 0.0121 - acc: 0.9966\n",
      "Epoch 1/1\n",
      "469/469 [==============================] - 14s 29ms/step - loss: 0.0137 - acc: 0.9957\n",
      "Epoch 1/1\n",
      "469/469 [==============================] - 14s 29ms/step - loss: 0.0080 - acc: 0.9974\n",
      "Epoch 1/1\n",
      "469/469 [==============================] - 14s 29ms/step - loss: 0.0096 - acc: 0.9966\n",
      "Epoch 1/1\n",
      "469/469 [==============================] - 14s 29ms/step - loss: 0.0065 - acc: 0.9982\n",
      "Epoch 1/1\n",
      "469/469 [==============================] - 14s 30ms/step - loss: 0.0103 - acc: 0.9965\n",
      "Epoch 1/1\n",
      "469/469 [==============================] - 14s 29ms/step - loss: 0.0055 - acc: 0.9984\n",
      "Epoch 1/1\n",
      "469/469 [==============================] - 14s 30ms/step - loss: 0.0098 - acc: 0.9966\n",
      "Epoch 1/1\n",
      "469/469 [==============================] - 14s 29ms/step - loss: 0.0074 - acc: 0.9980\n",
      "Epoch 1/1\n",
      "469/469 [==============================] - 14s 29ms/step - loss: 0.0085 - acc: 0.9972\n",
      "After training:\n",
      "\n",
      "Training and Test accuracies: 99.99 99.31%\n",
      "\n",
      "Training and Test accuracies: 73.23 73.34%\n",
      "Before training:\n",
      "\n",
      "Training and Test accuracies: 99.99 99.31%\n",
      "\n",
      "Training and Test accuracies: 73.23 73.34%\n",
      "Epoch 1/1\n",
      "469/469 [==============================] - 14s 29ms/step - loss: 0.0049 - acc: 0.9984\n",
      "Epoch 1/1\n",
      "469/469 [==============================] - 14s 29ms/step - loss: 0.0094 - acc: 0.9968\n",
      "Epoch 1/1\n",
      "469/469 [==============================] - 14s 29ms/step - loss: 0.0062 - acc: 0.9981\n",
      "Epoch 1/1\n",
      "469/469 [==============================] - 14s 30ms/step - loss: 0.0104 - acc: 0.9964\n",
      "Epoch 1/1\n",
      "469/469 [==============================] - 14s 29ms/step - loss: 0.0073 - acc: 0.9981\n",
      "Epoch 1/1\n",
      "469/469 [==============================] - 14s 30ms/step - loss: 0.0094 - acc: 0.9971\n",
      "Epoch 1/1\n",
      "469/469 [==============================] - 14s 29ms/step - loss: 0.0068 - acc: 0.9980\n",
      "Epoch 1/1\n",
      "469/469 [==============================] - 14s 29ms/step - loss: 0.0113 - acc: 0.9964\n",
      "Epoch 1/1\n",
      "469/469 [==============================] - 14s 29ms/step - loss: 0.0061 - acc: 0.9981\n",
      "Epoch 1/1\n",
      "469/469 [==============================] - 14s 30ms/step - loss: 0.0097 - acc: 0.9967\n",
      "After training:\n",
      "\n",
      "Training and Test accuracies: 99.98 99.24%\n",
      "\n",
      "Training and Test accuracies: 70.29 70.45%\n",
      "Before training:\n",
      "\n",
      "Training and Test accuracies: 99.98 99.24%\n",
      "\n",
      "Training and Test accuracies: 70.29 70.45%\n",
      "Epoch 1/1\n",
      "469/469 [==============================] - 14s 29ms/step - loss: 0.0070 - acc: 0.9981\n",
      "Epoch 1/1\n",
      "469/469 [==============================] - 14s 29ms/step - loss: 0.0099 - acc: 0.9968\n",
      "Epoch 1/1\n",
      "469/469 [==============================] - 14s 29ms/step - loss: 0.0069 - acc: 0.9979\n",
      "Epoch 1/1\n",
      "469/469 [==============================] - 14s 30ms/step - loss: 0.0096 - acc: 0.9967\n",
      "Epoch 1/1\n",
      "469/469 [==============================] - 14s 29ms/step - loss: 0.0065 - acc: 0.9982\n",
      "Epoch 1/1\n",
      "469/469 [==============================] - 14s 30ms/step - loss: 0.0095 - acc: 0.9970\n",
      "Epoch 1/1\n",
      "469/469 [==============================] - 14s 29ms/step - loss: 0.0061 - acc: 0.9980\n",
      "Epoch 1/1\n",
      "469/469 [==============================] - 14s 30ms/step - loss: 0.0094 - acc: 0.9968\n",
      "Epoch 1/1\n",
      "469/469 [==============================] - 14s 29ms/step - loss: 0.0080 - acc: 0.9979\n",
      "Epoch 1/1\n",
      "469/469 [==============================] - 14s 30ms/step - loss: 0.0088 - acc: 0.9969\n",
      "After training:\n",
      "\n",
      "Training and Test accuracies: 99.98 99.24%\n",
      "\n",
      "Training and Test accuracies: 75.56 75.40%\n",
      "Before training:\n",
      "\n",
      "Training and Test accuracies: 99.98 99.24%\n",
      "\n",
      "Training and Test accuracies: 75.56 75.40%\n",
      "Epoch 1/1\n",
      "469/469 [==============================] - 14s 29ms/step - loss: 0.0055 - acc: 0.9984\n",
      "Epoch 1/1\n",
      "469/469 [==============================] - 14s 30ms/step - loss: 0.0089 - acc: 0.9969\n",
      "Epoch 1/1\n",
      "469/469 [==============================] - 14s 29ms/step - loss: 0.0049 - acc: 0.9987\n",
      "Epoch 1/1\n",
      "469/469 [==============================] - 14s 29ms/step - loss: 0.0079 - acc: 0.9973\n",
      "Epoch 1/1\n",
      "469/469 [==============================] - 14s 30ms/step - loss: 0.0063 - acc: 0.9984\n",
      "Epoch 1/1\n",
      "469/469 [==============================] - 14s 29ms/step - loss: 0.0086 - acc: 0.9973\n",
      "Epoch 1/1\n",
      "469/469 [==============================] - 14s 29ms/step - loss: 0.0056 - acc: 0.9985\n",
      "Epoch 1/1\n",
      "469/469 [==============================] - 14s 30ms/step - loss: 0.0090 - acc: 0.9971\n",
      "Epoch 1/1\n",
      "469/469 [==============================] - 14s 29ms/step - loss: 0.0039 - acc: 0.9989\n",
      "Epoch 1/1\n",
      "469/469 [==============================] - 14s 29ms/step - loss: 0.0079 - acc: 0.9972\n",
      "After training:\n",
      "\n",
      "Training and Test accuracies: 99.99 99.37%\n",
      "\n",
      "Training and Test accuracies: 68.46 68.46%\n",
      "Before training:\n",
      "\n",
      "Training and Test accuracies: 99.99 99.37%\n",
      "\n",
      "Training and Test accuracies: 68.46 68.46%\n",
      "Epoch 1/1\n",
      "469/469 [==============================] - 14s 29ms/step - loss: 0.0056 - acc: 0.9984\n",
      "Epoch 1/1\n",
      "469/469 [==============================] - 14s 30ms/step - loss: 0.0081 - acc: 0.9972\n",
      "Epoch 1/1\n",
      "469/469 [==============================] - 14s 29ms/step - loss: 0.0056 - acc: 0.9987\n",
      "Epoch 1/1\n",
      "469/469 [==============================] - 14s 30ms/step - loss: 0.0082 - acc: 0.9974\n",
      "Epoch 1/1\n",
      "469/469 [==============================] - 14s 29ms/step - loss: 0.0040 - acc: 0.9988\n",
      "Epoch 1/1\n",
      "469/469 [==============================] - 14s 30ms/step - loss: 0.0084 - acc: 0.9972\n",
      "Epoch 1/1\n",
      "469/469 [==============================] - 14s 29ms/step - loss: 0.0058 - acc: 0.9984\n",
      "Epoch 1/1\n",
      "469/469 [==============================] - 14s 30ms/step - loss: 0.0086 - acc: 0.9969\n",
      "Epoch 1/1\n",
      "469/469 [==============================] - 14s 29ms/step - loss: 0.0055 - acc: 0.9985\n",
      "Epoch 1/1\n",
      "469/469 [==============================] - 14s 29ms/step - loss: 0.0081 - acc: 0.9971\n",
      "After training:\n",
      "\n",
      "Training and Test accuracies: 99.99 99.33%\n",
      "\n",
      "Training and Test accuracies: 74.12 74.16%\n"
     ]
    }
   ],
   "source": [
    "vanilla_clf_adv_trained_1bn = adv_training_1(vanilla_clf_with_bn, x_train, y_train, x_train_ifgsm_adv, x_test_ifgsm_adv, x_test, y_test, epochs=5)\n",
    "vanilla_clf_adv_trained_1bn = adv_training_1(vanilla_clf_with_bn, x_train, y_train, x_train_ifgsm_adv, x_test_ifgsm_adv, x_test, y_test, epochs=5)\n",
    "vanilla_clf_adv_trained_1bn = adv_training_1(vanilla_clf_with_bn, x_train, y_train, x_train_ifgsm_adv, x_test_ifgsm_adv, x_test, y_test, epochs=5)\n",
    "vanilla_clf_adv_trained_1bn = adv_training_1(vanilla_clf_with_bn, x_train, y_train, x_train_ifgsm_adv, x_test_ifgsm_adv, x_test, y_test, epochs=5)\n",
    "vanilla_clf_adv_trained_1bn = adv_training_1(vanilla_clf_with_bn, x_train, y_train, x_train_ifgsm_adv, x_test_ifgsm_adv, x_test, y_test, epochs=5)"
   ]
  },
  {
   "cell_type": "code",
   "execution_count": 56,
   "metadata": {},
   "outputs": [],
   "source": [
    "save_clf(vanilla_clf_with_bn, '/home/surthi/models/mnist/', 'vanilla_clf_bn_adv.h5', 'vanilla_clf_bn_model_adv.h5')"
   ]
  },
  {
   "cell_type": "code",
   "execution_count": 57,
   "metadata": {},
   "outputs": [
    {
     "name": "stdout",
     "output_type": "stream",
     "text": [
      "Before training:\n",
      "\n",
      "Training and Test accuracies: 99.99 99.33%\n",
      "\n",
      "Training and Test accuracies: 74.12 74.16%\n",
      "Epoch 1/1\n",
      "469/469 [==============================] - 14s 29ms/step - loss: 0.0050 - acc: 0.9986\n",
      "Epoch 1/1\n",
      "469/469 [==============================] - 14s 30ms/step - loss: 0.0073 - acc: 0.9977\n",
      "Epoch 1/1\n",
      "469/469 [==============================] - 14s 29ms/step - loss: 0.0048 - acc: 0.9987\n",
      "Epoch 1/1\n",
      "469/469 [==============================] - 14s 29ms/step - loss: 0.0092 - acc: 0.9972\n",
      "Epoch 1/1\n",
      "469/469 [==============================] - 14s 30ms/step - loss: 0.0056 - acc: 0.9984\n",
      "Epoch 1/1\n",
      "469/469 [==============================] - 14s 30ms/step - loss: 0.0079 - acc: 0.9974\n",
      "Epoch 1/1\n",
      "469/469 [==============================] - 14s 29ms/step - loss: 0.0061 - acc: 0.9983\n",
      "Epoch 1/1\n",
      "469/469 [==============================] - 14s 29ms/step - loss: 0.0073 - acc: 0.9973\n",
      "Epoch 1/1\n",
      "469/469 [==============================] - 14s 29ms/step - loss: 0.0062 - acc: 0.9986\n",
      "Epoch 1/1\n",
      "469/469 [==============================] - 14s 29ms/step - loss: 0.0083 - acc: 0.9972\n",
      "After training:\n",
      "\n",
      "Training and Test accuracies: 99.97 99.22%\n",
      "\n",
      "Training and Test accuracies: 72.43 72.80%\n",
      "Before training:\n",
      "\n",
      "Training and Test accuracies: 99.97 99.22%\n",
      "\n",
      "Training and Test accuracies: 72.43 72.80%\n",
      "Epoch 1/1\n",
      "469/469 [==============================] - 14s 29ms/step - loss: 0.0048 - acc: 0.9988\n",
      "Epoch 1/1\n",
      "469/469 [==============================] - 14s 29ms/step - loss: 0.0069 - acc: 0.9978\n",
      "Epoch 1/1\n",
      "469/469 [==============================] - 14s 29ms/step - loss: 0.0036 - acc: 0.9988\n",
      "Epoch 1/1\n",
      "469/469 [==============================] - 14s 30ms/step - loss: 0.0080 - acc: 0.9973\n",
      "Epoch 1/1\n",
      "469/469 [==============================] - 14s 29ms/step - loss: 0.0042 - acc: 0.9989\n",
      "Epoch 1/1\n",
      "469/469 [==============================] - 14s 29ms/step - loss: 0.0077 - acc: 0.9976\n",
      "Epoch 1/1\n",
      "469/469 [==============================] - 14s 29ms/step - loss: 0.0041 - acc: 0.9992\n",
      "Epoch 1/1\n",
      "469/469 [==============================] - 14s 29ms/step - loss: 0.0089 - acc: 0.9971\n",
      "Epoch 1/1\n",
      "469/469 [==============================] - 14s 29ms/step - loss: 0.0046 - acc: 0.9989\n",
      "Epoch 1/1\n",
      "469/469 [==============================] - 14s 30ms/step - loss: 0.0072 - acc: 0.9977\n",
      "After training:\n",
      "\n",
      "Training and Test accuracies: 99.99 99.33%\n",
      "\n",
      "Training and Test accuracies: 69.83 69.83%\n",
      "Before training:\n",
      "\n",
      "Training and Test accuracies: 99.99 99.33%\n",
      "\n",
      "Training and Test accuracies: 69.83 69.83%\n",
      "Epoch 1/1\n",
      "469/469 [==============================] - 14s 29ms/step - loss: 0.0037 - acc: 0.9989\n",
      "Epoch 1/1\n",
      "469/469 [==============================] - 14s 29ms/step - loss: 0.0071 - acc: 0.9978\n",
      "Epoch 1/1\n",
      "469/469 [==============================] - 14s 29ms/step - loss: 0.0063 - acc: 0.9986\n",
      "Epoch 1/1\n",
      "469/469 [==============================] - 14s 30ms/step - loss: 0.0079 - acc: 0.9974\n",
      "Epoch 1/1\n",
      "469/469 [==============================] - 14s 29ms/step - loss: 0.0046 - acc: 0.9988\n",
      "Epoch 1/1\n",
      "469/469 [==============================] - 14s 29ms/step - loss: 0.0069 - acc: 0.9976\n",
      "Epoch 1/1\n",
      "469/469 [==============================] - 14s 29ms/step - loss: 0.0059 - acc: 0.9986\n",
      "Epoch 1/1\n",
      "469/469 [==============================] - 14s 29ms/step - loss: 0.0074 - acc: 0.9975\n",
      "Epoch 1/1\n",
      "469/469 [==============================] - 14s 29ms/step - loss: 0.0040 - acc: 0.9988\n",
      "Epoch 1/1\n",
      "469/469 [==============================] - 14s 30ms/step - loss: 0.0064 - acc: 0.9979\n",
      "After training:\n",
      "\n",
      "Training and Test accuracies: 100.00 99.35%\n",
      "\n",
      "Training and Test accuracies: 68.67 68.61%\n",
      "Before training:\n",
      "\n",
      "Training and Test accuracies: 100.00 99.35%\n",
      "\n",
      "Training and Test accuracies: 68.67 68.61%\n",
      "Epoch 1/1\n",
      "469/469 [==============================] - 14s 29ms/step - loss: 0.0047 - acc: 0.9987\n",
      "Epoch 1/1\n",
      "469/469 [==============================] - 14s 30ms/step - loss: 0.0072 - acc: 0.9975\n",
      "Epoch 1/1\n",
      "469/469 [==============================] - 14s 29ms/step - loss: 0.0050 - acc: 0.9990\n",
      "Epoch 1/1\n",
      "469/469 [==============================] - 14s 30ms/step - loss: 0.0072 - acc: 0.9977\n",
      "Epoch 1/1\n",
      "469/469 [==============================] - 14s 29ms/step - loss: 0.0046 - acc: 0.9991\n",
      "Epoch 1/1\n",
      "469/469 [==============================] - 14s 29ms/step - loss: 0.0068 - acc: 0.9975\n",
      "Epoch 1/1\n",
      "469/469 [==============================] - 14s 29ms/step - loss: 0.0038 - acc: 0.9990\n",
      "Epoch 1/1\n",
      "469/469 [==============================] - 14s 30ms/step - loss: 0.0065 - acc: 0.9979\n",
      "Epoch 1/1\n",
      "469/469 [==============================] - 14s 29ms/step - loss: 0.0041 - acc: 0.9988\n",
      "Epoch 1/1\n",
      "469/469 [==============================] - 14s 30ms/step - loss: 0.0072 - acc: 0.9977\n",
      "After training:\n",
      "\n",
      "Training and Test accuracies: 100.00 99.31%\n",
      "\n",
      "Training and Test accuracies: 71.12 71.31%\n",
      "Before training:\n",
      "\n",
      "Training and Test accuracies: 100.00 99.31%\n",
      "\n",
      "Training and Test accuracies: 71.12 71.31%\n",
      "Epoch 1/1\n",
      "469/469 [==============================] - 14s 29ms/step - loss: 0.0030 - acc: 0.9991\n",
      "Epoch 1/1\n",
      "469/469 [==============================] - 14s 29ms/step - loss: 0.0065 - acc: 0.9980\n",
      "Epoch 1/1\n",
      "469/469 [==============================] - 14s 29ms/step - loss: 0.0049 - acc: 0.9991\n",
      "Epoch 1/1\n",
      "469/469 [==============================] - 14s 29ms/step - loss: 0.0064 - acc: 0.9977\n",
      "Epoch 1/1\n",
      "469/469 [==============================] - 14s 29ms/step - loss: 0.0041 - acc: 0.9990\n",
      "Epoch 1/1\n",
      "469/469 [==============================] - 14s 30ms/step - loss: 0.0072 - acc: 0.9977\n",
      "Epoch 1/1\n",
      "469/469 [==============================] - 14s 29ms/step - loss: 0.0035 - acc: 0.9990\n",
      "Epoch 1/1\n",
      "469/469 [==============================] - 14s 30ms/step - loss: 0.0070 - acc: 0.9977\n",
      "Epoch 1/1\n",
      "469/469 [==============================] - 14s 29ms/step - loss: 0.0042 - acc: 0.9989\n",
      "Epoch 1/1\n",
      "469/469 [==============================] - 14s 29ms/step - loss: 0.0068 - acc: 0.9977\n",
      "After training:\n",
      "\n",
      "Training and Test accuracies: 99.99 99.30%\n",
      "\n",
      "Training and Test accuracies: 76.78 76.39%\n"
     ]
    }
   ],
   "source": [
    "vanilla_clf_adv_trained_1bn = adv_training_1(vanilla_clf_with_bn, x_train, y_train, x_train_ifgsm_adv, x_test_ifgsm_adv, x_test, y_test, epochs=5)\n",
    "vanilla_clf_adv_trained_1bn = adv_training_1(vanilla_clf_with_bn, x_train, y_train, x_train_ifgsm_adv, x_test_ifgsm_adv, x_test, y_test, epochs=5)\n",
    "vanilla_clf_adv_trained_1bn = adv_training_1(vanilla_clf_with_bn, x_train, y_train, x_train_ifgsm_adv, x_test_ifgsm_adv, x_test, y_test, epochs=5)\n",
    "vanilla_clf_adv_trained_1bn = adv_training_1(vanilla_clf_with_bn, x_train, y_train, x_train_ifgsm_adv, x_test_ifgsm_adv, x_test, y_test, epochs=5)\n",
    "vanilla_clf_adv_trained_1bn = adv_training_1(vanilla_clf_with_bn, x_train, y_train, x_train_ifgsm_adv, x_test_ifgsm_adv, x_test, y_test, epochs=5)"
   ]
  },
  {
   "cell_type": "code",
   "execution_count": 58,
   "metadata": {},
   "outputs": [],
   "source": [
    "save_clf(vanilla_clf_with_bn, '/home/surthi/models/mnist/', 'vanilla_clf_bn_adv.h5', 'vanilla_clf_bn_model_adv.h5')"
   ]
  },
  {
   "cell_type": "code",
   "execution_count": 59,
   "metadata": {},
   "outputs": [],
   "source": [
    "loaded_vanilla_clf_with_bn_adv = load_clf('/home/surthi/models/mnist/', 'vanilla_clf_bn_adv.h5', 'vanilla_clf_bn_model_adv.h5')\n",
    "loaded_vanilla_clf_adv = load_clf('/home/surthi/models/mnist/', 'vanilla_clf_adv.h5', 'vanilla_clf_model_adv.h5')\n",
    "loaded_vanilla_clf = load_clf('/home/surthi/models/mnist/', 'vanilla_clf.h5', 'vanilla_clf_model.h5')\n",
    "loaded_vanilla_clf_with_bn = load_clf('/home/surthi/models/mnist/', 'vanilla_clf_with_bn.h5', 'vanilla_clf_with_bn_model.h5')"
   ]
  },
  {
   "cell_type": "code",
   "execution_count": 65,
   "metadata": {},
   "outputs": [
    {
     "name": "stdout",
     "output_type": "stream",
     "text": [
      "              precision    recall  f1-score   support\n",
      "\n",
      "           0       0.00      0.00      0.00         0\n",
      "           1       1.00      0.99      1.00     10000\n",
      "\n",
      "    accuracy                           0.99     10000\n",
      "   macro avg       0.50      0.50      0.50     10000\n",
      "weighted avg       1.00      0.99      1.00     10000\n",
      "\n"
     ]
    },
    {
     "name": "stderr",
     "output_type": "stream",
     "text": [
      "/usr/local/lib/python3.5/dist-packages/sklearn/metrics/classification.py:1439: UndefinedMetricWarning: Recall and F-score are ill-defined and being set to 0.0 in labels with no true samples.\n",
      "  'recall', 'true', average, warn_for)\n"
     ]
    }
   ],
   "source": [
    "preds1 = np.argmax(loaded_vanilla_clf[0].predict(x_test), axis=1)\n",
    "preds2 = np.argmax(loaded_vanilla_clf_with_bn_adv[0].predict(x_test), axis=1)\n",
    "clean_adv_detection = preds1 == preds2\n",
    "np.ones(clean_adv_detection.shape, dtype=int)\n",
    "from sklearn.metrics import classification_report\n",
    "print(classification_report(np.ones(clean_adv_detection.shape, dtype=int), clean_adv_detection))"
   ]
  },
  {
   "cell_type": "code",
   "execution_count": 71,
   "metadata": {},
   "outputs": [
    {
     "name": "stdout",
     "output_type": "stream",
     "text": [
      "              precision    recall  f1-score   support\n",
      "\n",
      "           0       0.00      0.00      0.00         0\n",
      "           1       1.00      1.00      1.00     10000\n",
      "\n",
      "    accuracy                           1.00     10000\n",
      "   macro avg       0.50      0.50      0.50     10000\n",
      "weighted avg       1.00      1.00      1.00     10000\n",
      "\n"
     ]
    }
   ],
   "source": [
    "preds1 = np.argmax(loaded_vanilla_clf[0].predict(x_test_ifgsm_adv1), axis=1)\n",
    "preds2 = np.argmax(loaded_vanilla_clf_with_bn_adv[0].predict(x_test_ifgsm_adv1), axis=1)\n",
    "clean_adv_detection = preds1 != preds2\n",
    "np.ones(clean_adv_detection.shape, dtype=int)\n",
    "from sklearn.metrics import classification_report\n",
    "print(classification_report(np.ones(clean_adv_detection.shape, dtype=int), clean_adv_detection))"
   ]
  },
  {
   "cell_type": "code",
   "execution_count": 72,
   "metadata": {},
   "outputs": [
    {
     "name": "stdout",
     "output_type": "stream",
     "text": [
      "              precision    recall  f1-score   support\n",
      "\n",
      "           0       0.00      0.00      0.00         0\n",
      "           1       1.00      0.86      0.93     10000\n",
      "\n",
      "    accuracy                           0.86     10000\n",
      "   macro avg       0.50      0.43      0.46     10000\n",
      "weighted avg       1.00      0.86      0.93     10000\n",
      "\n"
     ]
    }
   ],
   "source": [
    "preds1 = np.argmax(loaded_vanilla_clf[0].predict(x_test_fgsm_adv), axis=1)\n",
    "preds2 = np.argmax(loaded_vanilla_clf_with_bn_adv[0].predict(x_test_fgsm_adv), axis=1)\n",
    "clean_adv_detection = preds1 != preds2\n",
    "np.ones(clean_adv_detection.shape, dtype=int)\n",
    "from sklearn.metrics import classification_report\n",
    "print(classification_report(np.ones(clean_adv_detection.shape, dtype=int), clean_adv_detection))"
   ]
  },
  {
   "cell_type": "code",
   "execution_count": 74,
   "metadata": {},
   "outputs": [
    {
     "name": "stdout",
     "output_type": "stream",
     "text": [
      "              precision    recall  f1-score   support\n",
      "\n",
      "           0       0.00      0.00      0.00         0\n",
      "           1       1.00      0.77      0.87      1000\n",
      "\n",
      "    accuracy                           0.77      1000\n",
      "   macro avg       0.50      0.38      0.43      1000\n",
      "weighted avg       1.00      0.77      0.87      1000\n",
      "\n"
     ]
    }
   ],
   "source": [
    "preds1 = np.argmax(loaded_vanilla_clf[0].predict(x_test_cl2_adv), axis=1)\n",
    "preds2 = np.argmax(loaded_vanilla_clf_with_bn_adv[0].predict(x_test_cl2_adv), axis=1)\n",
    "clean_adv_detection = preds1 != preds2\n",
    "np.ones(clean_adv_detection.shape, dtype=int)\n",
    "from sklearn.metrics import classification_report\n",
    "print(classification_report(np.ones(clean_adv_detection.shape, dtype=int), clean_adv_detection))"
   ]
  },
  {
   "cell_type": "code",
   "execution_count": 75,
   "metadata": {},
   "outputs": [
    {
     "name": "stdout",
     "output_type": "stream",
     "text": [
      "              precision    recall  f1-score   support\n",
      "\n",
      "           0       0.00      0.00      0.00         0\n",
      "           1       1.00      0.88      0.93      1000\n",
      "\n",
      "    accuracy                           0.88      1000\n",
      "   macro avg       0.50      0.44      0.47      1000\n",
      "weighted avg       1.00      0.88      0.93      1000\n",
      "\n"
     ]
    }
   ],
   "source": [
    "preds1 = np.argmax(loaded_vanilla_clf[0].predict(x_test_deepfool_adv), axis=1)\n",
    "preds2 = np.argmax(loaded_vanilla_clf_with_bn_adv[0].predict(x_test_deepfool_adv), axis=1)\n",
    "clean_adv_detection = preds1 != preds2\n",
    "np.ones(clean_adv_detection.shape, dtype=int)\n",
    "from sklearn.metrics import classification_report\n",
    "print(classification_report(np.ones(clean_adv_detection.shape, dtype=int), clean_adv_detection))"
   ]
  },
  {
   "cell_type": "markdown",
   "metadata": {},
   "source": [
    "# Average Perturbations"
   ]
  },
  {
   "cell_type": "code",
   "execution_count": 79,
   "metadata": {},
   "outputs": [],
   "source": [
    "import numpy.linalg as la\n",
    "N = 3000\n",
    "bim_perturbation = np.mean(la.norm((x_train[:N]-x_test_ifgsm_adv1[:N]).reshape(N, -1), 2, axis=1))\n",
    "fgsm_perturbation = np.mean(la.norm((x_train[:N]-x_train_fgsm_adv[:N]).reshape(N, -1), 2, axis=1))\n",
    "cl2_perturbation = np.mean(la.norm((x_train[:N]-x_train_cl2_adv[:N]).reshape(N, -1), 2, axis=1))\n",
    "df_perturbation = np.mean(la.norm((x_train[:N]-x_train_deepfool_adv[:N]).reshape(N, -1), 2, axis=1))"
   ]
  },
  {
   "cell_type": "code",
   "execution_count": 80,
   "metadata": {},
   "outputs": [
    {
     "name": "stdout",
     "output_type": "stream",
     "text": [
      "19.01417679975898 8.968844231824544 2.6234788295148164 1.452307249586318\n"
     ]
    }
   ],
   "source": [
    "print(bim_perturbation, fgsm_perturbation, cl2_perturbation, df_perturbation)"
   ]
  },
  {
   "cell_type": "code",
   "execution_count": 83,
   "metadata": {},
   "outputs": [
    {
     "data": {
      "image/png": "[encoded data removed]",
      "text/plain": [
       "<Figure size 288x144 with 1 Axes>"
      ]
     },
     "metadata": {
      "needs_background": "light"
     },
     "output_type": "display_data"
    }
   ],
   "source": [
    "avg_perturbations = (1.452307249586318, 2.6234788295148164, 8.968844231824544, 19.01417679975898)\n",
    "\n",
    "import matplotlib.pyplot as plt\n",
    "plt.figure(figsize=(4,2))\n",
    "y_pos = np.arange(len(avg_perturbations))\n",
    "plt.bar(y_pos, avg_perturbations, align='center', alpha=0.5)\n",
    "plt.xticks(y_pos, ['DeepFool', 'CWL2', 'FGSM', 'BIM'])\n",
    "plt.title('L2 Norm of Perturbations for different attacks')\n",
    "# plt.xlabel('Attack Types')\n",
    "plt.ylabel('Perturbation')\n",
    "plt.show()"
   ]
  },
  {
   "cell_type": "markdown",
   "metadata": {},
   "source": [
    "# Accuracy Plot"
   ]
  },
  {
   "cell_type": "code",
   "execution_count": 96,
   "metadata": {},
   "outputs": [
    {
     "name": "stdout",
     "output_type": "stream",
     "text": [
      "\n",
      "Training and Test accuracies: 99.98 99.40%\n",
      "\n",
      "Training and Test accuracies: 28.83 30.52%\n",
      "\n",
      "Training and Test accuracies: 0.02 0.51%\n",
      "\n",
      "Training and Test accuracies: 11.34 11.20%\n",
      "\n",
      "Training and Test accuracies: 17.06 14.40%\n",
      "\n",
      "Training and Test accuracies: 100.00 99.32%\n",
      "\n",
      "Training and Test accuracies: 24.70 24.66%\n",
      "\n",
      "Training and Test accuracies: 2.05 2.43%\n",
      "\n",
      "Training and Test accuracies: 88.98 91.00%\n",
      "\n",
      "Training and Test accuracies: 70.30 68.70%\n"
     ]
    }
   ],
   "source": [
    "train_acc, test_acc = evaluate(loaded_vanilla_clf[0], x_train, y_train, x_test, y_test)\n",
    "fgsm_train_acc, fgsm_test_acc = evaluate(loaded_vanilla_clf[0], x_train_fgsm_adv, y_train, x_test_fgsm_adv, y_test)\n",
    "ifgsm_train_acc, ifgsm_test_acc = evaluate(loaded_vanilla_clf[0], x_train_ifgsm_adv1, y_train, x_test_ifgsm_adv1, y_test)\n",
    "df_train_acc, df_test_acc = evaluate(loaded_vanilla_clf[0], x_train_deepfool_adv, y_train[:5000], x_test_deepfool_adv, y_test[:1000])\n",
    "cl2_train_acc, cl2_test_acc = evaluate(loaded_vanilla_clf[0], x_train_cl2_adv, y_train[:5000], x_test_cl2_adv, y_test[:1000])\n",
    "\n",
    "train_acc_bn, test_acc_bn = evaluate(loaded_vanilla_clf_with_bn[0], x_train, y_train, x_test, y_test)\n",
    "fgsm_train_acc_bn, fgsm_test_acc_bn = evaluate(loaded_vanilla_clf_with_bn[0], x_train_fgsm_adv, y_train, x_test_fgsm_adv, y_test)\n",
    "ifgsm_train_acc_bn, ifgsm_test_acc_bn = evaluate(loaded_vanilla_clf_with_bn[0], x_train_ifgsm_adv1, y_train, x_test_ifgsm_adv1, y_test)\n",
    "df_train_acc_bn, df_test_acc_bn = evaluate(loaded_vanilla_clf_with_bn[0], x_train_deepfool_adv, y_train[:5000], x_test_deepfool_adv, y_test[:1000])\n",
    "cl2_train_acc_bn, cl2_test_acc_bn = evaluate(loaded_vanilla_clf_with_bn[0], x_train_cl2_adv, y_train[:5000], x_test_cl2_adv, y_test[:1000])"
   ]
  },
  {
   "cell_type": "code",
   "execution_count": 95,
   "metadata": {},
   "outputs": [
    {
     "name": "stdout",
     "output_type": "stream",
     "text": [
      "\n",
      "Training and Test accuracies: 99.99 99.30%\n",
      "\n",
      "Training and Test accuracies: 34.24 34.33%\n",
      "\n",
      "Training and Test accuracies: 76.78 76.39%\n",
      "\n",
      "Training and Test accuracies: 97.10 97.80%\n",
      "\n",
      "Training and Test accuracies: 89.60 89.40%\n"
     ]
    }
   ],
   "source": [
    "train_acc_bn_adv, test_acc_bn_adv = evaluate(loaded_vanilla_clf_with_bn_adv[0], x_train, y_train, x_test, y_test)\n",
    "fgsm_train_acc_bn_adv, fgsm_test_acc_bn_adv = evaluate(loaded_vanilla_clf_with_bn_adv[0], x_train_fgsm_adv, y_train, x_test_fgsm_adv, y_test)\n",
    "ifgsm_train_acc_bn_adv, ifgsm_test_acc_bn_adv = evaluate(loaded_vanilla_clf_with_bn_adv[0], x_train_ifgsm_adv1, y_train, x_test_ifgsm_adv1, y_test)\n",
    "df_train_acc_bn_adv, df_test_acc_bn_adv = evaluate(loaded_vanilla_clf_with_bn_adv[0], x_train_deepfool_adv, y_train[:5000], x_test_deepfool_adv, y_test[:1000])\n",
    "cl2_train_acc_bn_adv, cl2_test_acc_bn_adv = evaluate(loaded_vanilla_clf_with_bn_adv[0], x_train_cl2_adv, y_train[:5000], x_test_cl2_adv, y_test[:1000])"
   ]
  },
  {
   "cell_type": "code",
   "execution_count": 97,
   "metadata": {},
   "outputs": [
    {
     "name": "stdout",
     "output_type": "stream",
     "text": [
      "\n",
      "Training and Test accuracies: 100.00 99.35%\n",
      "\n",
      "Training and Test accuracies: 11.24 11.35%\n",
      "\n",
      "Training and Test accuracies: 11.24 11.35%\n",
      "\n",
      "Training and Test accuracies: 72.44 75.00%\n",
      "\n",
      "Training and Test accuracies: 69.62 68.40%\n"
     ]
    }
   ],
   "source": [
    "train_acc_adv, test_acc_adv = evaluate(loaded_vanilla_clf_adv[0], x_train, y_train, x_test, y_test)\n",
    "fgsm_train_acc_adv, fgsm_test_acc_adv = evaluate(loaded_vanilla_clf_adv[0], x_train_fgsm_adv, y_train, x_test_fgsm_adv, y_test)\n",
    "ifgsm_train_acc_adv, ifgsm_test_acc_adv = evaluate(loaded_vanilla_clf_adv[0], x_train_ifgsm_adv1, y_train, x_test_ifgsm_adv1, y_test)\n",
    "df_train_acc_adv, df_test_acc_adv = evaluate(loaded_vanilla_clf_adv[0], x_train_deepfool_adv, y_train[:5000], x_test_deepfool_adv, y_test[:1000])\n",
    "cl2_train_acc_adv, cl2_test_acc_adv = evaluate(loaded_vanilla_clf_adv[0], x_train_cl2_adv, y_train[:5000], x_test_cl2_adv, y_test[:1000])"
   ]
  },
  {
   "cell_type": "code",
   "execution_count": 98,
   "metadata": {},
   "outputs": [
    {
     "name": "stdout",
     "output_type": "stream",
     "text": [
      "(0.9997666666666667, 0.1134, 0.1706, 0.28828333333333334, 0.00021666666666666666) (0.994, 0.112, 0.144, 0.3052, 0.0051) (0.99995, 0.8898, 0.703, 0.24703333333333333, 0.0205) (0.9932, 0.91, 0.687, 0.2466, 0.0243) (0.9999666666666667, 0.7244, 0.6962, 0.11236666666666667, 0.11236666666666667) (0.9935, 0.75, 0.684, 0.1135, 0.1135) (0.9999333333333333, 0.971, 0.896, 0.3424333333333333, 0.7678) (0.993, 0.978, 0.894, 0.3433, 0.7639)\n"
     ]
    }
   ],
   "source": [
    "acc1 = (train_acc, df_train_acc, cl2_train_acc, fgsm_train_acc, ifgsm_train_acc)\n",
    "test_acc1 = (test_acc, df_test_acc, cl2_test_acc, fgsm_test_acc, ifgsm_test_acc)\n",
    "acc_bn1 = (train_acc_bn, df_train_acc_bn, cl2_train_acc_bn, fgsm_train_acc_bn, ifgsm_train_acc_bn)\n",
    "test_acc_bn1 = (test_acc_bn, df_test_acc_bn, cl2_test_acc_bn, fgsm_test_acc_bn, ifgsm_test_acc_bn)\n",
    "acc1_adv = (train_acc_adv, df_train_acc_adv, cl2_train_acc_adv, fgsm_train_acc_adv, ifgsm_train_acc_adv)\n",
    "test_acc1_adv = (test_acc_adv, df_test_acc_adv, cl2_test_acc_adv, fgsm_test_acc_adv, ifgsm_test_acc_adv)\n",
    "acc_bn1_adv = (train_acc_bn_adv, df_train_acc_bn_adv, cl2_train_acc_bn_adv, fgsm_train_acc_bn_adv, ifgsm_train_acc_bn_adv)\n",
    "test_acc_bn1_adv = (test_acc_bn_adv, df_test_acc_bn_adv, cl2_test_acc_bn_adv, fgsm_test_acc_bn_adv, ifgsm_test_acc_bn_adv)\n",
    "\n",
    "\n",
    "print(acc1, test_acc1, acc_bn1, test_acc_bn1, acc1_adv, test_acc1_adv, acc_bn1_adv, test_acc_bn1_adv)\n",
    "# (0.9997666666666667, 0.1134, 0.1706, 0.28828333333333334, 0.00021666666666666666) (0.994, 0.112, 0.144, 0.3052, 0.0051) (0.99995, 0.8898, 0.703, 0.24703333333333333, 0.0205) (0.9932, 0.91, 0.687, 0.2466, 0.0243) (0.9999666666666667, 0.7244, 0.6962, 0.11236666666666667, 0.11236666666666667) (0.9935, 0.75, 0.684, 0.1135, 0.1135) (0.9999333333333333, 0.971, 0.896, 0.3424333333333333, 0.7678) (0.993, 0.978, 0.894, 0.3433, 0.7639)"
   ]
  },
  {
   "cell_type": "code",
   "execution_count": 124,
   "metadata": {},
   "outputs": [
    {
     "data": {
      "image/png": "[encoded data removed]",
      "text/plain": [
       "<Figure size 576x360 with 4 Axes>"
      ]
     },
     "metadata": {
      "needs_background": "light"
     },
     "output_type": "display_data"
    }
   ],
   "source": [
    "import matplotlib.pyplot as plt\n",
    "# data to plot\n",
    "n_groups = 5\n",
    "index = np.arange(n_groups)\n",
    "bar_width = 0.35\n",
    "opacity = 0.8\n",
    "plt.figure(figsize=(8,5))\n",
    "# plt.suptitle(\"Loss Sensitivity for Cifar10 models with and without Adversarial training\")\n",
    "\n",
    "ax1 = plt.subplot(2, 2, 1)\n",
    "rects1 = plt.bar(index, acc1, bar_width, alpha=opacity, color='b', label='Clean training')\n",
    "rects2 = plt.bar(index + bar_width, test_acc1, bar_width, alpha=opacity, color='g', label='Adversarial training')\n",
    "plt.ylabel('Robustness Measure')\n",
    "ax1.set_title('CNN Without BatchNorm')\n",
    "plt.xticks(index + bar_width, ('No Attack', 'DF', 'CWL2', 'FGSM', 'BIM'))\n",
    "plt.legend()\n",
    "\n",
    "ax2 = plt.subplot(2, 2, 2)\n",
    "rects5 = plt.bar(index, acc_bn1, bar_width, alpha=opacity, color='b', label='Clean training')\n",
    "rects6 = plt.bar(index + bar_width, test_acc_bn1, bar_width, alpha=opacity, color='g', label='Adversarial training')\n",
    "ax2.set_title('CNN With BatchNorm')\n",
    "plt.xticks(index + bar_width, ('No Attack', 'DF', 'CWL2', 'FGSM', 'BIM'))\n",
    "plt.legend()\n",
    "\n",
    "\n",
    "ax3 = plt.subplot(2, 2, 3)\n",
    "rects3 = plt.bar(index, acc1_adv, bar_width, alpha=opacity, color='b', label='Clean training')\n",
    "rects4 = plt.bar(index + bar_width, test_acc1_adv, bar_width, alpha=opacity, color='g', label='Adversarial training')\n",
    "plt.xlabel('Attack Types')\n",
    "plt.ylabel('Accuracy')\n",
    "ax3.set_title('Adversarially Trained CNN Without BatchNorm')\n",
    "plt.xticks(index + bar_width, ('No Attack', 'DF', 'CWL2', 'FGSM', 'BIM'))\n",
    "plt.legend()\n",
    "\n",
    "ax4 = plt.subplot(2, 2, 4)\n",
    "rects7 = plt.bar(index, acc_bn1_adv, bar_width, alpha=opacity, color='b', label='Clean training')\n",
    "rects8 = plt.bar(index + bar_width, test_acc_bn1_adv, bar_width, alpha=opacity, color='g', label='Adversarial training')\n",
    "plt.xlabel('Attack Types')\n",
    "ax4.set_title('Adversarially Trained CNN With BatchNorm')\n",
    "plt.xticks(index + bar_width, ('No Attack', 'DF', 'CWL2', 'FGSM', 'BIM'))\n",
    "plt.legend()\n",
    "\n",
    "# plt.constrained_layout()\n",
    "plt.tight_layout()"
   ]
  },
  {
   "cell_type": "markdown",
   "metadata": {},
   "source": [
    "# Loss Sensitivity"
   ]
  },
  {
   "cell_type": "code",
   "execution_count": 113,
   "metadata": {},
   "outputs": [],
   "source": [
    "import numpy.linalg as la\n",
    "def loss_sensitivity(classifier, x, y):\n",
    "    grads = classifier.loss_gradient(x, y)\n",
    "    norm = la.norm(grads.reshape(grads.shape[0], -1), ord=2, axis=1)\n",
    "    return np.mean(norm)"
   ]
  },
  {
   "cell_type": "code",
   "execution_count": 119,
   "metadata": {},
   "outputs": [],
   "source": [
    "ls_clean_bn = loss_sensitivity(loaded_vanilla_clf_with_bn[0], x_train[:3000], y_train[:3000])\n",
    "ls_df_bn = loss_sensitivity(loaded_vanilla_clf_with_bn[0], x_train_deepfool_adv[:3000], y_train[:3000])\n",
    "ls_cl2_bn = loss_sensitivity(loaded_vanilla_clf_with_bn[0], x_train_cl2_adv[:3000], y_train[:3000])\n",
    "ls_fgsm_bn = loss_sensitivity(loaded_vanilla_clf_with_bn[0], x_train_fgsm_adv[:3000], y_train[:3000])\n",
    "ls_ifgsm_bn = loss_sensitivity(loaded_vanilla_clf_with_bn[0], x_train_ifgsm_adv1[:3000], y_train[:3000])\n",
    "\n",
    "ls_clean = loss_sensitivity(loaded_vanilla_clf[0], x_train[:3000], y_train[:3000])\n",
    "ls_df = loss_sensitivity(loaded_vanilla_clf[0], x_train_deepfool_adv[:3000], y_train[:3000])\n",
    "ls_cl2 = loss_sensitivity(loaded_vanilla_clf[0], x_train_cl2_adv[:3000], y_train[:3000])\n",
    "ls_fgsm = loss_sensitivity(loaded_vanilla_clf[0], x_train_fgsm_adv[:3000], y_train[:3000])\n",
    "ls_ifgsm = loss_sensitivity(loaded_vanilla_clf[0], x_train_ifgsm_adv1[:3000], y_train[:3000])"
   ]
  },
  {
   "cell_type": "code",
   "execution_count": 117,
   "metadata": {},
   "outputs": [],
   "source": [
    "adv_ls_clean_bn = loss_sensitivity(loaded_vanilla_clf_with_bn_adv[0], x_train[:3000], y_train[:3000])\n",
    "adv_ls_df_bn = loss_sensitivity(loaded_vanilla_clf_with_bn_adv[0], x_train_deepfool_adv[:3000], y_train[:3000])\n",
    "adv_ls_cl2_bn = loss_sensitivity(loaded_vanilla_clf_with_bn_adv[0], x_train_cl2_adv[:3000], y_train[:3000])\n",
    "adv_ls_fgsm_bn = loss_sensitivity(loaded_vanilla_clf_with_bn_adv[0], x_train_fgsm_adv[:3000], y_train[:3000])\n",
    "adv_ls_ifgsm_bn = loss_sensitivity(loaded_vanilla_clf_with_bn_adv[0], x_train_ifgsm_adv1[:3000], y_train[:3000])\n",
    "\n",
    "adv_ls_clean = loss_sensitivity(loaded_vanilla_clf_adv[0], x_train[:3000], y_train[:3000])\n",
    "adv_ls_df = loss_sensitivity(loaded_vanilla_clf_adv[0], x_train_deepfool_adv[:3000], y_train[:3000])\n",
    "adv_ls_cl2 = loss_sensitivity(loaded_vanilla_clf_adv[0], x_train_cl2_adv[:3000], y_train[:3000])\n",
    "adv_ls_fgsm = loss_sensitivity(loaded_vanilla_clf_adv[0], x_train_fgsm_adv[:3000], y_train[:3000])\n",
    "adv_ls_ifgsm = loss_sensitivity(loaded_vanilla_clf_adv[0], x_train_ifgsm_adv1[:3000], y_train[:3000])"
   ]
  },
  {
   "cell_type": "code",
   "execution_count": 120,
   "metadata": {},
   "outputs": [
    {
     "name": "stdout",
     "output_type": "stream",
     "text": [
      "0.012740754 5.3288774 11.095702 43.53506 58.871468 0.0025929157 8.39362 13.644957 25.071657 42.407196 0.012593708 2.0581658 4.79725 116.93578 39.367527 0.0007275245 30.314804 18.210506 717.444 827.35565\n"
     ]
    }
   ],
   "source": [
    "print(\n",
    "ls_clean_bn, ls_df_bn, ls_cl2_bn, ls_fgsm_bn, ls_ifgsm_bn, \n",
    "ls_clean, ls_df, ls_cl2, ls_fgsm, ls_ifgsm,    \n",
    "adv_ls_clean_bn, adv_ls_df_bn,adv_ls_cl2_bn, adv_ls_fgsm_bn, adv_ls_ifgsm_bn, \n",
    "adv_ls_clean, adv_ls_df, adv_ls_cl2, adv_ls_fgsm, adv_ls_ifgsm)\n",
    "# 0.012740754 5.3288774 11.095702 43.53506 58.871468 0.0025929157 8.39362 13.644957 25.071657 42.407196 0.012593708 2.0581658 4.79725 116.93578 39.367527 0.0007275245 30.314804 18.210506 717.444 827.35565"
   ]
  },
  {
   "cell_type": "code",
   "execution_count": 122,
   "metadata": {},
   "outputs": [
    {
     "name": "stdout",
     "output_type": "stream",
     "text": [
      "(0.012593708, 2.0581658, 4.79725, 116.93578, 39.367527) (0.0007275245, 30.314804, 18.210506, 717.444, 827.35565) (0.012740754, 5.3288774, 11.095702, 43.53506, 58.871468) (0.0025929157, 8.39362, 13.644957, 25.071657, 42.407196)\n"
     ]
    }
   ],
   "source": [
    "adv_ls_bn = (adv_ls_clean_bn, adv_ls_df_bn, adv_ls_cl2_bn, adv_ls_fgsm_bn, adv_ls_ifgsm_bn)\n",
    "adv_ls = (adv_ls_clean, adv_ls_df, adv_ls_cl2, adv_ls_fgsm, adv_ls_ifgsm)\n",
    "\n",
    "ls_bn = (ls_clean_bn, ls_df_bn, ls_cl2_bn, ls_fgsm_bn, ls_ifgsm_bn)\n",
    "ls = (ls_clean, ls_df, ls_cl2, ls_fgsm, ls_ifgsm)\n",
    "print(adv_ls_bn, adv_ls, ls_bn, ls)\n",
    "\n",
    "# (0.012593708, 2.0581658, 4.79725, 116.93578, 39.367527) (0.0007275245, 30.314804, 18.210506, 717.444, 827.35565) (0.012740754, 5.3288774, 11.095702, 43.53506, 58.871468) (0.0025929157, 8.39362, 13.644957, 25.071657, 42.407196)"
   ]
  },
  {
   "cell_type": "code",
   "execution_count": 123,
   "metadata": {},
   "outputs": [
    {
     "data": {
      "text/plain": [
       "<matplotlib.legend.Legend at 0x7f096f97a8d0>"
      ]
     },
     "execution_count": 123,
     "metadata": {},
     "output_type": "execute_result"
    },
    {
     "data": {
      "image/png": "[encoded data removed]",
      "text/plain": [
       "<Figure size 576x360 with 2 Axes>"
      ]
     },
     "metadata": {
      "needs_background": "light"
     },
     "output_type": "display_data"
    }
   ],
   "source": [
    "# data to plot\n",
    "n_groups = 5\n",
    "index = np.arange(n_groups)\n",
    "bar_width = 0.35\n",
    "opacity = 0.8\n",
    "plt.figure(figsize=(8,5))\n",
    "# plt.suptitle(\"Loss Sensitivity for Cifar10 models with and without Adversarial training\")\n",
    "\n",
    "ax1 = plt.subplot(2, 2, 1)\n",
    "rects1 = plt.bar(index, ls, bar_width, alpha=opacity, color='b', label='Clean training')\n",
    "rects2 = plt.bar(index + bar_width, adv_ls, bar_width, alpha=opacity, color='g', label='Adversarial training')\n",
    "plt.ylabel('Loss Sensitivity')\n",
    "ax1.set_title('CNN Without BatchNorm')\n",
    "plt.xticks(index + bar_width, ('No Attack', 'DF', 'CWL2', 'FGSM', 'BIM'))\n",
    "plt.legend()\n",
    "\n",
    "ax2 = plt.subplot(2, 2, 2)\n",
    "rects5 = plt.bar(index, ls_bn, bar_width, alpha=opacity, color='b', label='Clean training')\n",
    "rects6 = plt.bar(index + bar_width, adv_ls_bn, bar_width, alpha=opacity, color='g', label='Adversarial training')\n",
    "ax2.set_title('CNN With BatchNorm')\n",
    "plt.xticks(index + bar_width, ('No Attack', 'DF', 'CWL2', 'FGSM', 'BIM'))\n",
    "plt.legend()"
   ]
  },
  {
   "cell_type": "markdown",
   "metadata": {},
   "source": [
    "# Sprite generation"
   ]
  },
  {
   "cell_type": "code",
   "execution_count": 5,
   "metadata": {},
   "outputs": [],
   "source": [
    "x_train_cl2_adv, x_test_cl2_adv = pickle_load('/home/surthi/models/mnist-cl2-data.pkl')\n",
    "x_train_deepfool_adv, x_test_deepfool_adv = pickle_load('/home/surthi/models/mnist-deepfool-data.pkl')\n",
    "x_train_fgsm_adv, x_test_fgsm_adv = pickle_load('/home/surthi/models/mnist-fgsm-data.pkl')\n",
    "x_train_ifgsm_adv1, x_test_ifgsm_adv1 = pickle_load('/home/surthi/models/mnist-ifgsm-data.pkl')"
   ]
  },
  {
   "cell_type": "code",
   "execution_count": 76,
   "metadata": {},
   "outputs": [],
   "source": [
    "from matplotlib import pyplot as plt\n",
    "def sprite(imgs):\n",
    "    titles = np.asarray([\"clean\", \"bim\", \"fgsm\", \"deepfool\", \"cwl2\"])\n",
    "    fig, axes = plt.subplots(1, 5, figsize=(6, 6), subplot_kw={'xticks': [], 'yticks': []})\n",
    "#     fig.subplots_adjust(hspace=0.3, wspace=0.05)\n",
    "    for ax, img, title in zip(axes.flat, imgs, titles):\n",
    "        ax.imshow(img.reshape(28,28))\n",
    "        ax.set_title(title)\n",
    "    plt.show()\n",
    "    \n",
    "def sprite_with_diff(imgs):\n",
    "    titles = [\"clean\", \"bim\", \"fgsm\", \"deepfool\", \"cwl2\", \"\",\"\",\"\",\"\",\"\"]\n",
    "    fig, axes = plt.subplots(2, 5, figsize=(6, 6), subplot_kw={'xticks': [], 'yticks': []})\n",
    "    fig.subplots_adjust(hspace=0.3, wspace=0.05)\n",
    "    for ax, img, title in zip(axes.flat, imgs, titles):\n",
    "        ax.imshow(img.reshape(28,28))\n",
    "        ax.set_title(title)\n",
    "    plt.show()"
   ]
  },
  {
   "cell_type": "code",
   "execution_count": 78,
   "metadata": {},
   "outputs": [
    {
     "data": {
      "image/png": "[encoded data removed]",
      "text/plain": [
       "<Figure size 432x432 with 5 Axes>"
      ]
     },
     "metadata": {},
     "output_type": "display_data"
    },
    {
     "data": {
      "image/png": "[encoded data removed]",
      "text/plain": [
       "<Figure size 432x432 with 10 Axes>"
      ]
     },
     "metadata": {},
     "output_type": "display_data"
    },
    {
     "data": {
      "image/png": "[encoded data removed]",
      "text/plain": [
       "<Figure size 432x432 with 10 Axes>"
      ]
     },
     "metadata": {},
     "output_type": "display_data"
    },
    {
     "data": {
      "image/png": "[encoded data removed]",
      "text/plain": [
       "<Figure size 432x432 with 10 Axes>"
      ]
     },
     "metadata": {},
     "output_type": "display_data"
    }
   ],
   "source": [
    "imgs = np.asarray([x_train[5], x_train_ifgsm_adv1[5],x_train_fgsm_adv[5], x_train_deepfool_adv[5], x_train_cl2_adv[5]])\n",
    "sprite(imgs)\n",
    "\n",
    "a = np.asarray([x_train[5], x_train_ifgsm_adv1[5],x_train_fgsm_adv[5], x_train_deepfool_adv[5], x_train_cl2_adv[5]])\n",
    "b = np.asarray([x_train[5], x_train[5]-x_train_ifgsm_adv1[5],x_train[5]-x_train_fgsm_adv[5], x_train[5]-x_train_deepfool_adv[5], x_train[5]-x_train_cl2_adv[5]])\n",
    "imgs = np.vstack((a, b))#.reshape((2, 5, 28,28,1))\n",
    "sprite_with_diff(imgs)\n",
    "\n",
    "a = np.asarray([x_train[6], x_train_ifgsm_adv1[6],x_train_fgsm_adv[6], x_train_deepfool_adv[6], x_train_cl2_adv[6]])\n",
    "b = np.asarray([x_train[6], x_train[6]-x_train_ifgsm_adv1[6],x_train[6]-x_train_fgsm_adv[6], x_train[6]-x_train_deepfool_adv[6], x_train[6]-x_train_cl2_adv[6]])\n",
    "imgs = np.vstack((a, b))#.reshape((2, 5, 28,28,1))\n",
    "sprite_with_diff(imgs)\n",
    "\n",
    "a = np.asarray([x_train[7], x_train_ifgsm_adv1[7],x_train_fgsm_adv[7], x_train_deepfool_adv[7], x_train_cl2_adv[7]])\n",
    "b = np.asarray([x_train[7], x_train[7]-x_train_ifgsm_adv1[7],x_train[7]-x_train_fgsm_adv[7], x_train[7]-x_train_deepfool_adv[7], x_train[7]-x_train_cl2_adv[7]])\n",
    "imgs = np.vstack((a, b))#.reshape((2, 5, 28,28,1))\n",
    "sprite_with_diff(imgs)\n",
    "\n",
    "\n",
    "# imgs = np.hstack(([x_train[6], x_train_ifgsm_adv1[6],x_train_fgsm_adv[6], x_train_deepfool_adv[6], x_train_cl2_adv[6]],\n",
    "#           [x_train[6], x_train[6]-x_train_ifgsm_adv1[6],x_train[6]-x_train_fgsm_adv[6], x_train[6]-x_train_deepfool_adv[6], x_train[6]-x_train_cl2_adv[6]]))\n",
    "# sprite_with_diff(imgs)\n",
    "# imgs = np.hstack(([x_train[7], x_train_ifgsm_adv1[7],x_train_fgsm_adv[7], x_train_deepfool_adv[7], x_train_cl2_adv[7]],\n",
    "#           [x_train[7], x_train[7]-x_train_ifgsm_adv1[7],x_train[7]-x_train_fgsm_adv[7], x_train[7]-x_train_deepfool_adv[7], x_train[7]-x_train_cl2_adv[7]]))\n",
    "# sprite_with_diff(imgs)"
   ]
  },
  {
   "cell_type": "code",
   "execution_count": null,
   "metadata": {},
   "outputs": [],
   "source": []
  }
 ],
 "metadata": {
  "kernelspec": {
   "display_name": "Python 3",
   "language": "python",
   "name": "python3"
  },
  "language_info": {
   "codemirror_mode": {
    "name": "ipython",
    "version": 3
   },
   "file_extension": ".py",
   "mimetype": "text/x-python",
   "name": "python",
   "nbconvert_exporter": "python",
   "pygments_lexer": "ipython3",
   "version": "3.5.3"
  }
 },
 "nbformat": 4,
 "nbformat_minor": 2
}
