{
 "cells": [
  {
   "cell_type": "code",
   "execution_count": 1,
   "metadata": {},
   "outputs": [],
   "source": [
    "# !ls adversarial-robustness-toolbox/\n",
    "import os\n",
    "os.chdir('/home/surthi/adversarial-robustness-toolbox/')\n"
   ]
  },
  {
   "cell_type": "code",
   "execution_count": 2,
   "metadata": {},
   "outputs": [
    {
     "name": "stderr",
     "output_type": "stream",
     "text": [
      "Using TensorFlow backend.\n"
     ]
    }
   ],
   "source": [
    "from __future__ import absolute_import, division, print_function, unicode_literals\n",
    "\n",
    "import logging\n",
    "import tensorflow as tf\n",
    "import keras.backend as k\n",
    "from keras.models import Sequential\n",
    "from keras.layers import Dense, Flatten, Conv2D, MaxPooling2D, Activation, Dropout, BatchNormalization\n",
    "from keras.regularizers import l2\n",
    "import numpy as np\n",
    "from art.attacks import DeepFool\n",
    "from art.classifiers import KerasClassifier\n",
    "from art.utils import load_dataset"
   ]
  },
  {
   "cell_type": "code",
   "execution_count": 3,
   "metadata": {},
   "outputs": [],
   "source": [
    "def evaluate(clf, x_train, y_train, x_test, y_test):\n",
    "    # train acc\n",
    "    train_preds = np.argmax(clf.predict(x_train), axis=1)\n",
    "    train_acc = np.sum(train_preds == np.argmax(y_train, axis=1)) / y_train.shape[0]\n",
    "    # test acc\n",
    "    test_preds = np.argmax(clf.predict(x_test), axis=1)\n",
    "    test_acc = np.sum(test_preds == np.argmax(y_test, axis=1)) / y_test.shape[0]\n",
    "    print(\"\\nTraining and Test accuracies: %.2f %.2f%%\" % (train_acc*100, test_acc*100))\n",
    "    return train_acc, test_acc\n",
    "\n",
    "def plot_curves(model, title='model accuracy and loss'):\n",
    "    import matplotlib.pyplot as plt\n",
    "    plt.plot(model.history.history['acc'])\n",
    "    plt.plot(model.history.history['loss'])\n",
    "    plt.title(title)\n",
    "    plt.xlabel('Epoch')\n",
    "    plt.legend(['Accuracy', 'Loss'], loc='upper left')\n",
    "    return plt\n",
    "\n",
    "def plot_acc_loss_curves(acc, loss, title, legend):\n",
    "    import matplotlib.pyplot as plt\n",
    "    plt.plot(acc)\n",
    "    plt.plot(loss)\n",
    "    plt.title(title)\n",
    "    plt.xlabel('Epoch')\n",
    "    return plt\n",
    "\n",
    "def save_clf(c, folder, clf_filename, model_filename):\n",
    "    cwd = os.getcwd()\n",
    "    os.chdir(folder)\n",
    "    import pickle\n",
    "    with open(clf_filename, \"wb\") as f:\n",
    "        pickle.dump(c.__getstate__, f)\n",
    "    c._model.save(model_filename)\n",
    "    os.chdir(cwd)\n",
    "\n",
    "DUMP_FOLDER = '/home/surthi/models/'\n",
    "def pickle_dump(data, filename, folder=DUMP_FOLDER):\n",
    "    cwd = os.getcwd()\n",
    "    os.chdir(folder)\n",
    "    import pickle\n",
    "    with open(filename, \"wb\") as f:\n",
    "        pickle.dump(data, f)\n",
    "    os.chdir(cwd)\n",
    "\n",
    "def pickle_load(filename):\n",
    "    import pickle\n",
    "    with open(filename, \"rb\") as f:\n",
    "        data = pickle.load(f)\n",
    "    return data\n",
    "\n",
    "def load_clf(folder, clf_filename, model_filename):\n",
    "    cwd = os.getcwd()\n",
    "    os.chdir(folder)\n",
    "    import pickle\n",
    "    with open(clf_filename, \"rb\") as f:\n",
    "        clf_state = pickle.load(f)\n",
    "    model = tf.keras.models.load_model(model_filename)\n",
    "    os.chdir(cwd)\n",
    "    clf = KerasClassifier(model=model)\n",
    "    clf.__setstate__(clf_state())\n",
    "    return clf, model"
   ]
  },
  {
   "cell_type": "code",
   "execution_count": 4,
   "metadata": {},
   "outputs": [],
   "source": [
    "# import pickle\n",
    "# x_train, y_train,\\\n",
    "# x_test, y_test,\\\n",
    "# x_train_fgsm_adv, x_test_fgsm_adv, \\\n",
    "# x_train_ifgsm_adv, x_test_ifgsm_adv,\\\n",
    "# x_train_deepfool_adv, x_test_deepfool_adv, \\\n",
    "# x_train_deepfool_adv_5to10, x_test_deepfool_adv_5to10, \\\n",
    "# x_train_cl2_adv, x_test_cl2_adv, \\\n",
    "# x_train_cl2_adv_5to10,x_test_cl2_adv_5to10, \\\n",
    "#  = pickle_load('/home/surthi/models/cifar10/vanilla_clf_adv_data.pkl')"
   ]
  },
  {
   "cell_type": "code",
   "execution_count": 5,
   "metadata": {},
   "outputs": [],
   "source": [
    "# pickle_dump((x_train_fgsm_adv[0:3000], x_train_fgsm_adv[0:3000]), 'vanilla_clf_fgsm_data.pkl')\n",
    "# pickle_dump((x_train_deepfool_adv[0:3000], x_test_deepfool_adv[0:3000]), 'vanilla_clf_deepfool_xtrain_xtest.pkl')\n",
    "# pickle_dump((x_train_cl2_adv[0:3000], x_test_cl2_adv[0:3000]), 'vanilla_clf_cl2_xtrain_xtest.pkl')"
   ]
  },
  {
   "cell_type": "code",
   "execution_count": 6,
   "metadata": {},
   "outputs": [],
   "source": [
    "(x_train, y_train, x_test, y_test) = pickle_load('/home/surthi/models/vanilla_clf_train_test_data.pkl')\n",
    "(x_train_bim_adv, x_test_bim_adv) = pickle_load('/home/surthi/models/vanilla_clf_bim_xtrain_xtest.pkl')\n",
    "(x_train_fgsm_adv, x_test_fgsm_adv) = pickle_load('/home/surthi/models/vanilla_clf_fgsm_data.pkl')\n",
    "(x_train_deepfool_adv, x_test_deepfool_adv) = pickle_load('/home/surthi/models/vanilla_clf_deepfool_xtrain_xtest.pkl')\n",
    "(x_train_cl2_adv, x_test_cl2_adv) = pickle_load('/home/surthi/models/vanilla_clf_cl2_xtrain_xtest.pkl')"
   ]
  },
  {
   "cell_type": "code",
   "execution_count": 61,
   "metadata": {},
   "outputs": [
    {
     "name": "stdout",
     "output_type": "stream",
     "text": [
      "\n",
      "Training and Test accuracies: 80.21 78.12%\n",
      "\n",
      "Training and Test accuracies: 22.38 23.63%\n",
      "\n",
      "Training and Test accuracies: 4.73 5.75%\n",
      "\n",
      "Training and Test accuracies: 77.00 76.10%\n",
      "\n",
      "Training and Test accuracies: 75.98 74.70%\n",
      "\n",
      "Training and Test accuracies: 76.92 76.20%\n",
      "\n",
      "Training and Test accuracies: 75.70 74.90%\n"
     ]
    }
   ],
   "source": [
    "resnet_train_acc, resnet_test_acc = evaluate(_m, x_train, y_train, x_test, y_test)\n",
    "resnet_fgsm_train_acc, resnet_fgsm_test_acc = evaluate(_m, x_train_fgsm_adv, y_train, x_test_fgsm_adv, y_test)\n",
    "resnet_ifgsm_train_acc, resnet_ifgsm_test_acc = evaluate(_m, x_train_ifgsm_adv, y_train, x_test_ifgsm_adv, y_test)\n",
    "resnet_df_train_acc, resnet_df_test_acc = evaluate(_m, x_train_deepfool_adv, y_train[:5000], x_test_deepfool_adv, y_test[:1000])\n",
    "resnet_df_train_acc_2, resnet_df_test_acc_2 = evaluate(_m, x_train_deepfool_adv_5to10, y_train[5000:10000], x_test_deepfool_adv_5to10, y_test[1000:2000])\n",
    "resnet_cl2_train_acc, resnet_cl2_test_acc = evaluate(_m, x_train_cl2_adv, y_train[:5000], x_test_cl2_adv, y_test[:1000])\n",
    "resnet_cl2_train_acc_2, resnet_cl2_test_acc_2 = evaluate(_m, x_train_cl2_adv_5to10, y_train[5000:10000], x_test_cl2_adv_5to10, y_test[1000:2000])"
   ]
  },
  {
   "cell_type": "code",
   "execution_count": 62,
   "metadata": {},
   "outputs": [],
   "source": [
    "_m_no_bn = tf.keras.models.load_model('adversarial-robustness-toolbox/saved_models/no_bn_cifar10_ResNet20v1_model.054.h5')"
   ]
  },
  {
   "cell_type": "code",
   "execution_count": 63,
   "metadata": {},
   "outputs": [
    {
     "name": "stdout",
     "output_type": "stream",
     "text": [
      "\n",
      "Training and Test accuracies: 82.16 79.84%\n",
      "\n",
      "Training and Test accuracies: 20.48 21.83%\n",
      "\n",
      "Training and Test accuracies: 2.98 6.29%\n",
      "\n",
      "Training and Test accuracies: 78.72 77.40%\n",
      "\n",
      "Training and Test accuracies: 77.78 76.70%\n",
      "\n",
      "Training and Test accuracies: 78.84 77.00%\n",
      "\n",
      "Training and Test accuracies: 77.82 76.70%\n"
     ]
    }
   ],
   "source": [
    "resnet_train_acc_no_bn, resnet_test_acc_no_bn = evaluate(_m_no_bn, x_train, y_train, x_test, y_test)\n",
    "resnet_fgsm_train_acc_no_bn, resnet_fgsm_test_acc_no_bn = evaluate(_m_no_bn, x_train_fgsm_adv, y_train, x_test_fgsm_adv, y_test)\n",
    "resnet_ifgsm_train_acc_no_bn, resnet_ifgsm_test_acc_no_bn = evaluate(_m_no_bn, x_train_ifgsm_adv, y_train, x_test_ifgsm_adv, y_test)\n",
    "resnet_df_train_acc_no_bn, resnet_df_test_acc_no_bn = evaluate(_m_no_bn, x_train_deepfool_adv, y_train[:5000], x_test_deepfool_adv, y_test[:1000])\n",
    "resnet_df_train_acc_2_no_bn, resnet_df_test_acc_2_no_bn = evaluate(_m_no_bn, x_train_deepfool_adv_5to10, y_train[5000:10000], x_test_deepfool_adv_5to10, y_test[1000:2000])\n",
    "resnet_cl2_train_acc_no_bn, resnet_cl2_test_acc_no_bn = evaluate(_m_no_bn, x_train_cl2_adv, y_train[:5000], x_test_cl2_adv, y_test[:1000])\n",
    "resnet_cl2_train_acc_2_no_bn, resnet_cl2_test_acc_2_no_bn = evaluate(_m_no_bn, x_train_cl2_adv_5to10, y_train[5000:10000], x_test_cl2_adv_5to10, y_test[1000:2000])"
   ]
  },
  {
   "cell_type": "code",
   "execution_count": 64,
   "metadata": {},
   "outputs": [
    {
     "name": "stdout",
     "output_type": "stream",
     "text": [
      "\n",
      "Training and Test accuracies: 97.93 81.64%\n",
      "\n",
      "Training and Test accuracies: 13.68 17.07%\n",
      "\n",
      "Training and Test accuracies: 0.42 4.39%\n",
      "\n",
      "Training and Test accuracies: 8.24 14.90%\n",
      "\n",
      "Training and Test accuracies: 8.06 15.40%\n",
      "\n",
      "Training and Test accuracies: 2.46 10.90%\n",
      "\n",
      "Training and Test accuracies: 2.04 11.20%\n",
      "\n",
      "Training and Test accuracies: 98.15 82.28%\n",
      "\n",
      "Training and Test accuracies: 17.61 18.21%\n",
      "\n",
      "Training and Test accuracies: 2.99 5.60%\n",
      "\n",
      "Training and Test accuracies: 96.66 82.70%\n",
      "\n",
      "Training and Test accuracies: 96.82 81.00%\n",
      "\n",
      "Training and Test accuracies: 96.36 82.70%\n",
      "\n",
      "Training and Test accuracies: 96.86 80.30%\n"
     ]
    }
   ],
   "source": [
    "c1, model1 = load_clf('/home/surthi/models/cifar10/', 'vanilla_clf.h5', 'vanilla_clf_model.h5')\n",
    "c1_bn, model1_bn = load_clf('/home/surthi/models/cifar10/', 'vanilla_clf_with_bn.h5', 'vanilla_clf_with_bn_model.h5')\n",
    "\n",
    "train_acc, test_acc = evaluate(c1, x_train, y_train, x_test, y_test)\n",
    "fgsm_train_acc, fgsm_test_acc = evaluate(c1, x_train_fgsm_adv, y_train, x_test_fgsm_adv, y_test)\n",
    "ifgsm_train_acc, ifgsm_test_acc = evaluate(c1, x_train_ifgsm_adv, y_train, x_test_ifgsm_adv, y_test)\n",
    "df_train_acc, df_test_acc = evaluate(c1, x_train_deepfool_adv, y_train[:5000], x_test_deepfool_adv, y_test[:1000])\n",
    "df_train_acc_2, df_test_acc_2 = evaluate(c1, x_train_deepfool_adv_5to10, y_train[5000:10000], x_test_deepfool_adv_5to10, y_test[1000:2000])\n",
    "cl2_train_acc, cl2_test_acc = evaluate(c1, x_train_cl2_adv, y_train[:5000], x_test_cl2_adv, y_test[:1000])\n",
    "cl2_train_acc_2, cl2_test_acc_2 = evaluate(c1, x_train_cl2_adv_5to10, y_train[5000:10000], x_test_cl2_adv_5to10, y_test[1000:2000])\n",
    "\n",
    "train_acc_bn, test_acc_bn = evaluate(c1_bn, x_train, y_train, x_test, y_test)\n",
    "fgsm_train_acc_bn, fgsm_test_acc_bn = evaluate(c1_bn, x_train_fgsm_adv, y_train, x_test_fgsm_adv, y_test)\n",
    "ifgsm_train_acc_bn, ifgsm_test_acc_bn = evaluate(c1_bn, x_train_ifgsm_adv, y_train, x_test_ifgsm_adv, y_test)\n",
    "df_train_acc_bn, df_test_acc_bn = evaluate(c1_bn, x_train_deepfool_adv, y_train[:5000], x_test_deepfool_adv, y_test[:1000])\n",
    "df_train_acc_2_bn, df_test_acc_2_bn = evaluate(c1_bn, x_train_deepfool_adv_5to10, y_train[5000:10000], x_test_deepfool_adv_5to10, y_test[1000:2000])\n",
    "cl2_train_acc_bn, cl2_test_acc_bn = evaluate(c1_bn, x_train_cl2_adv, y_train[:5000], x_test_cl2_adv, y_test[:1000])\n",
    "cl2_train_acc_2_bn, cl2_test_acc_2_bn = evaluate(c1_bn, x_train_cl2_adv_5to10, y_train[5000:10000], x_test_cl2_adv_5to10, y_test[1000:2000])"
   ]
  },
  {
   "cell_type": "code",
   "execution_count": 65,
   "metadata": {},
   "outputs": [],
   "source": [
    "acc1 = (train_acc, df_train_acc, cl2_train_acc, fgsm_train_acc, ifgsm_train_acc)\n",
    "test_acc1 = (test_acc, df_test_acc, cl2_test_acc, fgsm_test_acc, ifgsm_test_acc)\n",
    "acc_bn1 = (train_acc_bn, df_train_acc_bn, cl2_train_acc_bn, fgsm_train_acc_bn, ifgsm_train_acc_bn)\n",
    "test_acc_bn1 = (test_acc_bn, df_test_acc_bn, cl2_test_acc_bn, fgsm_test_acc_bn, ifgsm_test_acc_bn)\n",
    "\n",
    "# resnet_train_acc_no_bn, resnet_test_acc_no_bn\n",
    "resnet_acc1 = (resnet_train_acc_no_bn, resnet_df_train_acc_no_bn, resnet_cl2_train_acc_no_bn, resnet_fgsm_train_acc_no_bn, resnet_ifgsm_train_acc_no_bn)\n",
    "resnet_test_acc1 = (resnet_test_acc_no_bn, resnet_df_test_acc_no_bn, resnet_cl2_test_acc_no_bn, resnet_fgsm_test_acc_no_bn, resnet_ifgsm_test_acc_no_bn)\n",
    "resnet_acc_bn1 = (resnet_train_acc, resnet_df_train_acc, resnet_cl2_train_acc, resnet_fgsm_train_acc, resnet_ifgsm_train_acc)\n",
    "resnet_test_acc_bn1 = (resnet_test_acc, resnet_df_test_acc, resnet_cl2_test_acc, resnet_fgsm_test_acc, resnet_ifgsm_test_acc)"
   ]
  },
  {
   "cell_type": "code",
   "execution_count": 69,
   "metadata": {},
   "outputs": [
    {
     "data": {
      "text/plain": [
       "((0.97934, 0.0824, 0.0246, 0.13678, 0.00416),\n",
       " (0.8164, 0.149, 0.109, 0.1707, 0.0439),\n",
       " (0.98146, 0.9666, 0.9636, 0.17614, 0.0299),\n",
       " (0.8228, 0.827, 0.827, 0.1821, 0.056),\n",
       " (0.8216, 0.7872, 0.7884, 0.20482, 0.02984),\n",
       " (0.7984, 0.774, 0.77, 0.2183, 0.0629),\n",
       " (0.8021, 0.77, 0.7692, 0.22378, 0.0473),\n",
       " (0.7812, 0.761, 0.762, 0.2363, 0.0575))"
      ]
     },
     "execution_count": 69,
     "metadata": {},
     "output_type": "execute_result"
    }
   ],
   "source": [
    "# pickle_dump((acc1, test_acc1,\n",
    "#              acc_bn1, test_acc_bn1, \n",
    "#              resnet_acc1, resnet_test_acc1, \n",
    "#              resnet_acc_bn1, resnet_test_acc_bn1), \"accuracies.pkl\")\n",
    "(acc1, test_acc1,\n",
    "             acc_bn1, test_acc_bn1, \n",
    "             resnet_acc1, resnet_test_acc1, \n",
    "             resnet_acc_bn1, resnet_test_acc_bn1)"
   ]
  },
  {
   "cell_type": "code",
   "execution_count": 86,
   "metadata": {},
   "outputs": [
    {
     "data": {
      "image/png": "[encoded data removed]",
      "text/plain": [
       "<Figure size 720x216 with 2 Axes>"
      ]
     },
     "metadata": {
      "needs_background": "light"
     },
     "output_type": "display_data"
    },
    {
     "data": {
      "image/png": "[encoded data removed]",
      "text/plain": [
       "<Figure size 720x216 with 2 Axes>"
      ]
     },
     "metadata": {
      "needs_background": "light"
     },
     "output_type": "display_data"
    }
   ],
   "source": [
    "import numpy as np\n",
    "import matplotlib.pyplot as plt\n",
    "\n",
    "# data to plot\n",
    "n_groups = 5\n",
    "plt.figure(figsize=(10,3))\n",
    "plt.subplot(1, 2, 1)\n",
    "plt.suptitle('Accuracies for different attacks on Cifar10 CNN classifier')\n",
    "rects1 = plt.bar(index, acc1, bar_width,\n",
    "alpha=opacity, color='b', label='No BN Train Acc')\n",
    "rects2 = plt.bar(index + bar_width, test_acc1, bar_width,\n",
    "alpha=opacity, color='g', label='No BN Test Acc')\n",
    "# plt.xlabel('Attack Types')\n",
    "plt.ylabel('Accuracy')\n",
    "plt.xticks(index + bar_width, ('No Attack', 'DeepFool', 'CWL2', 'FGSM', 'IFGSM'))\n",
    "plt.legend()\n",
    "\n",
    "plt.subplot(1, 2, 2)\n",
    "rects3 = plt.bar(index, acc_bn1, bar_width,\n",
    "alpha=opacity,\n",
    "color='b',\n",
    "label='BN Train Acc')\n",
    "rects4 = plt.bar(index + bar_width, test_acc_bn1, bar_width,\n",
    "                 alpha=opacity, color='g', label='BN Test Acc')\n",
    "plt.xticks(index + bar_width, ('No Attack', 'DeepFool', 'CWL2', 'FGSM', 'IFGSM'))\n",
    "plt.legend()\n",
    "plt.show()\n",
    "\n",
    "plt.figure(figsize=(10,3))\n",
    "plt.suptitle('Accuracies for different attacks on Cifar10 RESNET classifier')\n",
    "plt.subplot(1, 2, 1)\n",
    "rects5 = plt.bar(index, resnet_acc1, bar_width,\n",
    "alpha=opacity,\n",
    "color='b',\n",
    "label='No BN TrainAcc')\n",
    "rects6 = plt.bar(index + bar_width, resnet_test_acc1, bar_width,\n",
    "                 alpha=opacity, color='g', label='No BN TestAcc')\n",
    "# plt.xlabel('Attack Types')\n",
    "plt.ylabel('Accuracy')\n",
    "plt.xticks(index + bar_width, ('No Attack', 'DeepFool', 'CWL2', 'FGSM', 'IFGSM'))\n",
    "plt.legend()\n",
    "\n",
    "plt.subplot(1, 2, 2)\n",
    "rects7 = plt.bar(index, resnet_acc_bn1, bar_width, alpha=opacity, color='b', label='BN TrainAcc')\n",
    "rects8 = plt.bar(index + bar_width, resnet_test_acc_bn1, bar_width, alpha=opacity, color='g', label='ResNet BN TestAcc')\n",
    "plt.xticks(index + bar_width, ('No Attack', 'DeepFool', 'CWL2', 'FGSM', 'IFGSM'))\n",
    "plt.legend()\n",
    "\n",
    "\n",
    "# plt.tight_layout()\n",
    "plt.show()\n",
    "fig.savefig('cifar10-acc-histograms.png')"
   ]
  },
  {
   "cell_type": "code",
   "execution_count": 28,
   "metadata": {},
   "outputs": [
    {
     "data": {
      "image/png": "[encoded data removed]",
      "text/plain": [
       "<Figure size 432x288 with 2 Axes>"
      ]
     },
     "metadata": {
      "needs_background": "light"
     },
     "output_type": "display_data"
    }
   ],
   "source": [
    "def plot_ax_acc_loss_curves(ax, acc, loss, title):\n",
    "    ax.plot(acc)\n",
    "    ax.plot(loss)\n",
    "\n",
    "# ResNet cifar10\n",
    "loss     = [1.5657, 1.1802, 1.0139, 0.9252, 0.8628, 0.8200, 0.7815, 0.7518, 0.7344, 0.7118, 0.6971, 0.6799, 0.6691, 0.6595, 0.6441, 0.6372, 0.6315, 0.6257, 0.6142, 0.6138, 0.6023, 0.5976, 0.5926, 0.5868, 0.5827, 0.5827, 0.5793, 0.5729, 0.5695, 0.5685, 0.5667, 0.5592, 0.5627, 0.5580, 0.5508, 0.5500, 0.5475, 0.5424, 0.5441, 0.5421, 0.5421, 0.5346, 0.5346, 0.5320, 0.5329, 0.5314, 0.5324, 0.5266, 0.5284, 0.5272, 0.5247, 0.5226, 0.5226, 0.5188]\n",
    "accuracy = [0.4867, 0.6389, 0.7013, 0.7349, 0.7609, 0.7761, 0.7914, 0.8023, 0.8079, 0.8175, 0.8230, 0.8300, 0.8322, 0.8382, 0.8449, 0.8471, 0.8500, 0.8538, 0.8558, 0.8578, 0.8618, 0.8625, 0.8648, 0.8673, 0.8698, 0.8696, 0.8705, 0.8728, 0.8757, 0.8745, 0.8740, 0.8770, 0.8789, 0.8782, 0.8816, 0.8817, 0.8844, 0.8852, 0.8843, 0.8847, 0.8841, 0.8884, 0.8873, 0.8882, 0.8885, 0.8889, 0.8891, 0.8899, 0.8890, 0.8909, 0.8923, 0.8920, 0.8919, 0.8932]\n",
    "loss_no_bn     = [1.8415, 1.4488, 1.2508, 1.0944, 1.0006, 0.9367, 0.8873, 0.8445, 0.8141, 0.7914, 0.7723, 0.7529, 0.7394, 0.7224, 0.7149, 0.7059, 0.6908, 0.6785, 0.6797, 0.6728, 0.6596, 0.6594, 0.6527, 0.6523, 0.6417, 0.6384, 0.6344, 0.6327, 0.6274, 0.6266, 0.6253, 0.6209, 0.6129, 0.6109, 0.6090, 0.6046, 0.6015, 0.5965, 0.5985, 0.5939, 0.5904, 0.5927, 0.5870, 0.5906, 0.5856, 0.5843, 0.5820, 0.5821, 0.5774, 0.5785, 0.5773, 0.5735, 0.5728, 0.5750, 0.5668]\n",
    "accuracy_no_bn = [0.3541, 0.5108, 0.5930, 0.6556, 0.6950, 0.7214, 0.7399, 0.7586, 0.7700, 0.7789, 0.7859, 0.7933, 0.7995, 0.8073, 0.8091, 0.8135, 0.8210, 0.8255, 0.8254, 0.8274, 0.8324, 0.8341, 0.8355, 0.8361, 0.8397, 0.8413, 0.8438, 0.8438, 0.8466, 0.8460, 0.8468, 0.8498, 0.8504, 0.8530, 0.8551, 0.8545, 0.8586, 0.8577, 0.8565, 0.8597, 0.8602, 0.8599, 0.8622, 0.8613, 0.8637, 0.8642, 0.8645, 0.8645, 0.8654, 0.8653, 0.8678, 0.8685, 0.8681, 0.8681, 0.8713]\n",
    "\n",
    "# CNN cifar10\n",
    "vanilla_clf_with_bn_loss = [3.6753, 2.3651, 1.6466, 1.2835, 1.1075, 1.0145, 0.9608, 0.9270, 0.8644, 0.8407, 0.8118, 0.7878, 0.7686, 0.7359, 0.7263, 0.6982, 0.6785, 0.6570, 0.6483, 0.6447, 0.6188, 0.6124, 0.6016, 0.5827, 0.5705, 0.5784, 0.5625, 0.5383, 0.5362, 0.5162, 0.5170, 0.5172, 0.5034, 0.5021, 0.4891, 0.4908, 0.4785, 0.4674, 0.4732, 0.4491, 0.4474, 0.4420, 0.4387, 0.4152, 0.4239, 0.4288, 0.4154, 0.4055, 0.3983, 0.3885]\n",
    "vanilla_clf_with_bn_acc  = [0.4431, 0.6351, 0.7142, 0.7549, 0.7800, 0.8007, 0.8188, 0.8310, 0.8447, 0.8538, 0.8651, 0.8726, 0.8774, 0.8869, 0.8891, 0.8980, 0.9026, 0.9100, 0.9135, 0.9141, 0.9194, 0.9239, 0.9266, 0.9313, 0.9341, 0.9324, 0.9359, 0.9404, 0.9407, 0.9461, 0.9471, 0.9468, 0.9484, 0.9502, 0.9536, 0.9531, 0.9545, 0.9574, 0.9574, 0.9593, 0.9597, 0.9608, 0.9606, 0.9649, 0.9644, 0.9637, 0.9648, 0.9667, 0.9679, 0.9686]\n",
    "vanilla_clf_loss         = [2.0254, 1.4478, 1.2282, 1.1005, 1.0181, 0.9543, 0.9134, 0.8685, 0.8306, 0.8003, 0.7865, 0.7518, 0.7338, 0.7134, 0.6857, 0.6733, 0.6570, 0.6332, 0.6156, 0.6049, 0.6068, 0.5939, 0.5780, 0.5830, 0.5669, 0.5533, 0.5502, 0.5500, 0.5415, 0.5253, 0.5402, 0.5121, 0.5081, 0.5056, 0.5030, 0.4914, 0.4939, 0.4872, 0.4996, 0.4767, 0.4862, 0.4788, 0.4779, 0.4751, 0.4729, 0.4675, 0.4861, 0.4748, 0.4709, 0.4561]\n",
    "vanilla_clf_accuracy     = [0.3420, 0.5344, 0.6320, 0.6868, 0.7213, 0.7461, 0.7608, 0.7772, 0.7917, 0.8052, 0.8123, 0.8246, 0.8328, 0.8398, 0.8465, 0.8513, 0.8587, 0.8654, 0.8707, 0.8783, 0.8784, 0.8843, 0.8866, 0.8897, 0.8929, 0.8986, 0.9021, 0.9016, 0.9033, 0.9095, 0.9081, 0.9132, 0.9173, 0.9154, 0.9186, 0.9202, 0.9230, 0.9251, 0.9225, 0.9269, 0.9271, 0.9320, 0.9305, 0.9315, 0.9326, 0.9352, 0.9357, 0.9378, 0.9380, 0.9415]\n",
    "\n",
    "# plot\n",
    "fig, (ax1, ax2) = plt.subplots(1, 2)\n",
    "# fig.suptitle('Cifar10 Accuracy and Loss')\n",
    "\n",
    "plot_ax_acc_loss_curves(ax1, vanilla_clf_with_bn_acc, vanilla_clf_with_bn_loss, \"Cifar10 CNN Accuracy and Loss\")\n",
    "plot_ax_acc_loss_curves(ax1, vanilla_clf_accuracy, vanilla_clf_loss, \"Cifar10 CNN Accuracy and Loss\")\n",
    "ax1.legend(['BN Acc', 'BN Loss', 'No BN Acc', 'No BN Loss'], loc='upper right')\n",
    "ax1.set_title(\"Cifar10 CNN\")\n",
    "\n",
    "plot_ax_acc_loss_curves(ax2, accuracy, loss, \"Cifar10 ResNet20 Accuracy and Loss\")\n",
    "plot_ax_acc_loss_curves(ax2, accuracy_no_bn, loss_no_bn, \"Cifar10 ResNet20 Accuracy and Loss\")\n",
    "ax2.legend(['BN Acc', 'BN Loss', 'No BN Acc', 'No BN Loss'], loc='upper right')\n",
    "ax2.set_title(\"Cifar10 ResNet20\")\n",
    "fig.savefig('cifar10-acc-curves.png')"
   ]
  },
  {
   "cell_type": "code",
   "execution_count": 19,
   "metadata": {},
   "outputs": [],
   "source": [
    "cnn_clf_adv_final, cnn_model_adv_final = load_clf('/home/surthi/models/cifar10/', 'cnn_clf_adv1_trained_final.h5', 'cnn_bn_model_adv1_trained_final.h5')\n",
    "resnet_clf_adv_final, resnet_model_adv_final = load_clf('/home/surthi/models/cifar10/', 'resnet_clf_adv1_trained_180_epochs.h5', 'resnet_model_adv1_trained_180_epochs.h5')"
   ]
  },
  {
   "cell_type": "code",
   "execution_count": 6,
   "metadata": {
    "scrolled": false
   },
   "outputs": [
    {
     "name": "stdout",
     "output_type": "stream",
     "text": [
      "WARNING:tensorflow:From /usr/local/lib/python3.5/dist-packages/tensorflow/python/framework/op_def_library.py:263: colocate_with (from tensorflow.python.framework.ops) is deprecated and will be removed in a future version.\n",
      "Instructions for updating:\n",
      "Colocations handled automatically by placer.\n",
      "WARNING:tensorflow:From /usr/local/lib/python3.5/dist-packages/keras/backend/tensorflow_backend.py:3445: calling dropout (from tensorflow.python.ops.nn_ops) with keep_prob is deprecated and will be removed in a future version.\n",
      "Instructions for updating:\n",
      "Please use `rate` instead of `keep_prob`. Rate should be set to `rate = 1 - keep_prob`.\n",
      "WARNING:tensorflow:From /usr/local/lib/python3.5/dist-packages/tensorflow/python/ops/math_ops.py:3066: to_int32 (from tensorflow.python.ops.math_ops) is deprecated and will be removed in a future version.\n",
      "Instructions for updating:\n",
      "Use tf.cast instead.\n",
      "WARNING:tensorflow:From /usr/local/lib/python3.5/dist-packages/keras/backend/tensorflow_backend.py:3298: softmax_cross_entropy_with_logits (from tensorflow.python.ops.nn_ops) is deprecated and will be removed in a future version.\n",
      "Instructions for updating:\n",
      "\n",
      "Future major versions of TensorFlow will allow gradients to flow\n",
      "into the labels input on backprop by default.\n",
      "\n",
      "See `tf.nn.softmax_cross_entropy_with_logits_v2`.\n",
      "\n",
      "WARNING:tensorflow:From /usr/local/lib/python3.5/dist-packages/tensorflow/python/ops/init_ops.py:96: calling VarianceScaling.__init__ (from tensorflow.python.ops.init_ops) with distribution=normal is deprecated and will be removed in a future version.\n",
      "Instructions for updating:\n",
      "`normal` is a deprecated alias for `truncated_normal`\n"
     ]
    }
   ],
   "source": [
    "cnn_bn_clf_adv_final, cnn_bn_model_adv_final = load_clf('/home/surthi/models/cifar10/', 'cnn_bn_clf_adv1_trained_final_again.h5', 'cnn_bn_model_adv1_trained_final_again.h5')\n",
    "resnet_bn_clf_adv_final, cnn_bn_model_adv_final = load_clf('/home/surthi/models/cifar10/', 'resnet_clf_adv1_trained_8_epochs.h5', 'resnet_model_adv1_trained_8_epochs.h5')\n",
    "# save_clf(resnet_clf_bn, '/home/surthi/models/cifar10/', 'resnet_clf_adv1_trained_8_epochs.h5', 'resnet_model_adv1_trained_8_epochs.h5')"
   ]
  },
  {
   "cell_type": "code",
   "execution_count": 7,
   "metadata": {},
   "outputs": [
    {
     "name": "stdout",
     "output_type": "stream",
     "text": [
      "\n",
      "Training and Test accuracies: 97.01 79.00%\n"
     ]
    },
    {
     "name": "stderr",
     "output_type": "stream",
     "text": [
      "/usr/local/lib/python3.5/dist-packages/ipykernel_launcher.py:4: DeprecationWarning: elementwise comparison failed; this will raise an error in the future.\n",
      "  after removing the cwd from sys.path.\n",
      "/usr/local/lib/python3.5/dist-packages/ipykernel_launcher.py:7: DeprecationWarning: elementwise comparison failed; this will raise an error in the future.\n",
      "  import sys\n"
     ]
    },
    {
     "name": "stdout",
     "output_type": "stream",
     "text": [
      "\n",
      "Training and Test accuracies: 0.00 0.00%\n",
      "\n",
      "Training and Test accuracies: 13.02 13.62%\n",
      "\n",
      "Training and Test accuracies: 95.50 78.60%\n",
      "\n",
      "Training and Test accuracies: 95.43 78.60%\n",
      "\n",
      "Training and Test accuracies: 95.84 77.78%\n",
      "\n",
      "Training and Test accuracies: 0.00 0.00%\n",
      "\n",
      "Training and Test accuracies: 17.89 17.17%\n",
      "\n",
      "Training and Test accuracies: 94.67 77.60%\n",
      "\n",
      "Training and Test accuracies: 94.77 77.50%\n"
     ]
    }
   ],
   "source": [
    "bn_train_acc, bn_test_acc = evaluate(cnn_bn_clf_adv_final, x_train, y_train, x_test, y_test)\n",
    "bn_fgsm_train_acc, bn_fgsm_test_acc = evaluate(cnn_bn_clf_adv_final, x_train_fgsm_adv, y_train, x_test_fgsm_adv, y_test)\n",
    "bn_ifgsm_train_acc, bn_ifgsm_test_acc = evaluate(cnn_bn_clf_adv_final, x_train_bim_adv, y_train, x_test_bim_adv, y_test)\n",
    "bn_df_train_acc, bn_df_test_acc = evaluate(cnn_bn_clf_adv_final, x_train_deepfool_adv, y_train[:3000], x_test_deepfool_adv, y_test[:1000])\n",
    "bn_cl2_train_acc, bn_cl2_test_acc = evaluate(cnn_bn_clf_adv_final, x_train_cl2_adv, y_train[:3000], x_test_cl2_adv, y_test[:1000])\n",
    "\n",
    "bn_rn_train_acc, bn_rn_test_acc = evaluate(resnet_bn_clf_adv_final, x_train, y_train, x_test, y_test)\n",
    "bn_rn_fgsm_train_acc, bn_rn_fgsm_test_acc = evaluate(resnet_bn_clf_adv_final, x_train_fgsm_adv, y_train, x_test_fgsm_adv, y_test)\n",
    "bn_rn_ifgsm_train_acc, bn_rn_ifgsm_test_acc = evaluate(resnet_bn_clf_adv_final, x_train_bim_adv, y_train, x_test_bim_adv, y_test)\n",
    "bn_rn_df_train_acc, bn_rn_df_test_acc = evaluate(resnet_bn_clf_adv_final, x_train_deepfool_adv, y_train[:3000], x_test_deepfool_adv, y_test[:1000])\n",
    "bn_rn_cl2_train_acc, bn_rn_cl2_test_acc = evaluate(resnet_bn_clf_adv_final, x_train_cl2_adv, y_train[:3000], x_test_cl2_adv, y_test[:1000])"
   ]
  },
  {
   "cell_type": "code",
   "execution_count": 8,
   "metadata": {},
   "outputs": [
    {
     "name": "stdout",
     "output_type": "stream",
     "text": [
      "(0.97014, 0.955, 0.9543333333333334, 0.0, 0.13022) (0.79, 0.786, 0.786, 0.0, 0.1362) (0.9584, 0.9466666666666667, 0.9476666666666667, 0.0, 0.17888) (0.7778, 0.776, 0.775, 0.0, 0.1717)\n"
     ]
    }
   ],
   "source": [
    "bn_adv_acc1 = (bn_train_acc, bn_df_train_acc, bn_cl2_train_acc, bn_fgsm_train_acc, bn_ifgsm_train_acc)\n",
    "bn_adv_test_acc1 = (bn_test_acc, bn_df_test_acc, bn_cl2_test_acc, bn_fgsm_test_acc, bn_ifgsm_test_acc)\n",
    "bn_adv_acc_rn1 = (bn_rn_train_acc, bn_rn_df_train_acc, bn_rn_cl2_train_acc, bn_rn_fgsm_train_acc, bn_rn_ifgsm_train_acc)\n",
    "bn_adv_test_acc_rn1 = (bn_rn_test_acc, bn_rn_df_test_acc, bn_rn_cl2_test_acc, bn_rn_fgsm_test_acc, bn_rn_ifgsm_test_acc)\n",
    "\n",
    "print(bn_adv_acc1, bn_adv_test_acc1, bn_adv_acc_rn1, bn_adv_test_acc_rn1)"
   ]
  },
  {
   "cell_type": "code",
   "execution_count": 9,
   "metadata": {},
   "outputs": [
    {
     "name": "stdout",
     "output_type": "stream",
     "text": [
      "\n",
      "Training and Test accuracies: 98.54 78.86%\n"
     ]
    },
    {
     "name": "stderr",
     "output_type": "stream",
     "text": [
      "/usr/local/lib/python3.5/dist-packages/ipykernel_launcher.py:4: DeprecationWarning: elementwise comparison failed; this will raise an error in the future.\n",
      "  after removing the cwd from sys.path.\n",
      "/usr/local/lib/python3.5/dist-packages/ipykernel_launcher.py:7: DeprecationWarning: elementwise comparison failed; this will raise an error in the future.\n",
      "  import sys\n"
     ]
    },
    {
     "name": "stdout",
     "output_type": "stream",
     "text": [
      "\n",
      "Training and Test accuracies: 0.00 0.00%\n",
      "\n",
      "Training and Test accuracies: 78.58 46.73%\n",
      "\n",
      "Training and Test accuracies: 95.90 76.80%\n",
      "\n",
      "Training and Test accuracies: 95.80 77.00%\n",
      "\n",
      "Training and Test accuracies: 97.27 77.17%\n",
      "\n",
      "Training and Test accuracies: 0.00 0.00%\n",
      "\n",
      "Training and Test accuracies: 71.33 51.09%\n",
      "\n",
      "Training and Test accuracies: 95.93 76.70%\n",
      "\n",
      "Training and Test accuracies: 95.90 76.40%\n"
     ]
    }
   ],
   "source": [
    "train_acc, test_acc = evaluate(cnn_clf_adv_final, x_train, y_train, x_test, y_test)\n",
    "fgsm_train_acc, fgsm_test_acc = evaluate(cnn_clf_adv_final, x_train_fgsm_adv, y_train, x_test_fgsm_adv, y_test)\n",
    "ifgsm_train_acc, ifgsm_test_acc = evaluate(cnn_clf_adv_final, x_train_bim_adv, y_train, x_test_bim_adv, y_test)\n",
    "df_train_acc, df_test_acc = evaluate(cnn_clf_adv_final, x_train_deepfool_adv, y_train[:3000], x_test_deepfool_adv, y_test[:1000])\n",
    "cl2_train_acc, cl2_test_acc = evaluate(cnn_clf_adv_final, x_train_cl2_adv, y_train[:3000], x_test_cl2_adv, y_test[:1000])\n",
    "\n",
    "rn_train_acc, rn_test_acc = evaluate(resnet_clf_adv_final, x_train, y_train, x_test, y_test)\n",
    "rn_fgsm_train_acc, rn_fgsm_test_acc = evaluate(resnet_clf_adv_final, x_train_fgsm_adv, y_train, x_test_fgsm_adv, y_test)\n",
    "rn_ifgsm_train_acc, rn_ifgsm_test_acc = evaluate(resnet_clf_adv_final, x_train_bim_adv, y_train, x_test_bim_adv, y_test)\n",
    "rn_df_train_acc, rn_df_test_acc = evaluate(resnet_clf_adv_final, x_train_deepfool_adv, y_train[:3000], x_test_deepfool_adv, y_test[:1000])\n",
    "rn_cl2_train_acc, rn_cl2_test_acc = evaluate(resnet_clf_adv_final, x_train_cl2_adv, y_train[:3000], x_test_cl2_adv, y_test[:1000])"
   ]
  },
  {
   "cell_type": "code",
   "execution_count": 10,
   "metadata": {},
   "outputs": [
    {
     "name": "stdout",
     "output_type": "stream",
     "text": [
      "(0.98538, 0.959, 0.958, 0.0, 0.78576) (0.7886, 0.768, 0.77, 0.0, 0.4673) (0.97272, 0.9593333333333334, 0.959, 0.0, 0.71328) (0.7717, 0.767, 0.764, 0.0, 0.5109)\n"
     ]
    }
   ],
   "source": [
    "adv_acc1 = (train_acc, df_train_acc, cl2_train_acc, fgsm_train_acc, ifgsm_train_acc)\n",
    "adv_test_acc1 = (test_acc, df_test_acc, cl2_test_acc, fgsm_test_acc, ifgsm_test_acc)\n",
    "adv_acc_rn1 = (rn_train_acc, rn_df_train_acc, rn_cl2_train_acc, rn_fgsm_train_acc, rn_ifgsm_train_acc)\n",
    "adv_test_acc_rn1 = (rn_test_acc, rn_df_test_acc, rn_cl2_test_acc, rn_fgsm_test_acc, rn_ifgsm_test_acc)\n",
    "\n",
    "print(adv_acc1, adv_test_acc1, adv_acc_rn1, adv_test_acc_rn1)"
   ]
  },
  {
   "cell_type": "code",
   "execution_count": 9,
   "metadata": {},
   "outputs": [],
   "source": [
    "(acc1, test_acc1,\n",
    " acc_bn1, test_acc_bn1, \n",
    " resnet_acc1, resnet_test_acc1, \n",
    " resnet_acc_bn1, resnet_test_acc_bn1, \n",
    " adv_acc1, adv_test_acc1, \n",
    " adv_acc_rn1, adv_test_acc_rn1,\n",
    " bn_adv_acc1, bn_adv_test_acc1, \n",
    " bn_adv_acc_rn1, bn_adv_test_acc_rn1) = ((0.97934, 0.0824, 0.0246, 0.13678, 0.00416),\n",
    " (0.8164, 0.149, 0.109, 0.1707, 0.0439),\n",
    " (0.98146, 0.9666, 0.9636, 0.17614, 0.0299),\n",
    " (0.8228, 0.827, 0.827, 0.1821, 0.056),\n",
    " (0.8216, 0.7872, 0.7884, 0.20482, 0.02984),\n",
    " (0.7984, 0.774, 0.77, 0.2183, 0.0629),\n",
    " (0.8021, 0.77, 0.7692, 0.22378, 0.0473),\n",
    " (0.7812, 0.761, 0.762, 0.2363, 0.0575),\n",
    " (0.98538, 0.959, 0.958, 0.0, 0.78576), \n",
    " (0.7886, 0.768, 0.77, 0.0, 0.4673),\n",
    " (0.97272, 0.9593333333333334, 0.959, 0.0, 0.71328),\n",
    " (0.7717, 0.767, 0.764, 0.0, 0.5109),\n",
    " (0.97014, 0.955, 0.9543333333333334, 0.0, 0.13022),\n",
    " (0.79, 0.786, 0.786, 0.0, 0.1362),\n",
    " (0.9584, 0.9466666666666667, 0.9476666666666667, 0.0, 0.17888),\n",
    " (0.7778, 0.776, 0.775, 0.0, 0.1717))"
   ]
  },
  {
   "cell_type": "code",
   "execution_count": 17,
   "metadata": {},
   "outputs": [
    {
     "data": {
      "image/png": "[encoded data removed]",
      "text/plain": [
       "<Figure size 1008x216 with 8 Axes>"
      ]
     },
     "metadata": {
      "needs_background": "light"
     },
     "output_type": "display_data"
    }
   ],
   "source": [
    "import numpy as np\n",
    "import matplotlib.pyplot as plt\n",
    "\n",
    "# data to plot\n",
    "n_groups = 5\n",
    "index = np.arange(n_groups)\n",
    "bar_width = 0.35\n",
    "opacity = 0.8\n",
    "\n",
    "plt.figure(figsize=(14,3))\n",
    "plt.subplot(2, 4, 1)\n",
    "# plt.suptitle('Accuracies for different attacks on Cifar10 No BN CNN, BN CNN and Adversarially Trained CNN classifier')\n",
    "rects1 = plt.bar(index, acc1, bar_width, alpha=opacity, color='b', label='Train Acc')\n",
    "rects2 = plt.bar(index + bar_width, test_acc1, bar_width, alpha=opacity, color='g', label='Test Acc')\n",
    "plt.ylabel('Accuracy')\n",
    "plt.xticks(index + bar_width, ('No Atk', 'DF', 'CWL2', 'FGSM', 'BIM'))\n",
    "plt.legend()\n",
    "\n",
    "plt.subplot(2, 4, 2)\n",
    "rects3 = plt.bar(index, acc_bn1, bar_width, alpha=opacity, color='b')#, label='BN Train Acc')\n",
    "rects4 = plt.bar(index + bar_width, test_acc_bn1, bar_width, alpha=opacity, color='g')# label='BN Test Acc')\n",
    "plt.xticks(index + bar_width, ('No Atk', 'DF', 'CWL2', 'FGSM', 'BIM'))\n",
    "plt.legend()\n",
    "\n",
    "plt.subplot(2, 4, 3)\n",
    "rects5 = plt.bar(index, adv_acc1, bar_width, alpha=opacity, color='b')# label='AdvClf Train Acc')\n",
    "rects6 = plt.bar(index + bar_width, adv_test_acc1, bar_width, alpha=opacity, color='g')#, label='AdvClf Test Acc')\n",
    "plt.xticks(index + bar_width, ('No Atk', 'DF', 'CWL2', 'FGSM', 'BIM'))\n",
    "plt.legend()\n",
    "\n",
    "plt.subplot(2, 4, 4)\n",
    "rects5 = plt.bar(index, bn_adv_acc1, bar_width, alpha=opacity, color='b')#, label='AdvClf Train Acc')\n",
    "rects6 = plt.bar(index + bar_width, bn_adv_test_acc1, bar_width, alpha=opacity, color='g')#, label='AdvClf Test Acc')\n",
    "plt.xticks(index + bar_width, ('No Atk', 'DF', 'CWL2', 'FGSM', 'BIM'))\n",
    "plt.legend()\n",
    "\n",
    "plt.subplot(2, 4, 5)\n",
    "# plt.suptitle('Accuracies for different attacks on Cifar10 No BN CNN, BN CNN and Adversarially Trained CNN classifier')\n",
    "rects1 = plt.bar(index, resnet_acc1, bar_width, alpha=opacity, color='b')#, label='No BN Train Acc')\n",
    "rects2 = plt.bar(index + bar_width, resnet_test_acc1, bar_width, alpha=opacity, color='g')#, label='No BN Test Acc')\n",
    "plt.ylabel('Accuracy')\n",
    "plt.xticks(index + bar_width, ('No Atk', 'DF', 'CWL2', 'FGSM', 'BIM'))\n",
    "plt.legend()\n",
    "\n",
    "plt.subplot(2, 4, 6)\n",
    "rects3 = plt.bar(index, resnet_acc_bn1, bar_width, alpha=opacity, color='b')#, label='BN Train Acc')\n",
    "rects4 = plt.bar(index + bar_width, resnet_test_acc_bn1, bar_width, alpha=opacity, color='g')#, label='BN Test Acc')\n",
    "plt.xticks(index + bar_width, ('No Atk', 'DF', 'CWL2', 'FGSM', 'BIM'))\n",
    "plt.legend()\n",
    "\n",
    "plt.subplot(2, 4, 7)\n",
    "rects5 = plt.bar(index, adv_acc_rn1, bar_width, alpha=opacity, color='b')#, label='AdvClf Train Acc')\n",
    "rects6 = plt.bar(index + bar_width, adv_test_acc_rn1, bar_width, alpha=opacity, color='g')#, label='AdvClf Test Acc')\n",
    "plt.xticks(index + bar_width, ('No Atk', 'DF', 'CWL2', 'FGSM', 'BIM'))\n",
    "plt.legend()\n",
    "\n",
    "plt.subplot(2, 4, 8)\n",
    "rects5 = plt.bar(index, bn_adv_acc_rn1, bar_width, alpha=opacity, color='b')#, label='AdvClf Train Acc')\n",
    "rects6 = plt.bar(index + bar_width, bn_adv_test_acc_rn1, bar_width, alpha=opacity, color='g')#, label='AdvClf Test Acc')\n",
    "plt.xticks(index + bar_width, ('No Atk', 'DF', 'CWL2', 'FGSM', 'BIM'))\n",
    "plt.legend()\n",
    "\n",
    "plt.tight_layout()\n",
    "plt.show()\n",
    "\n"
   ]
  },
  {
   "cell_type": "code",
   "execution_count": 18,
   "metadata": {},
   "outputs": [],
   "source": [
    "import numpy.linalg as la\n",
    "def loss_sensitivity(classifier, x, y):\n",
    "    grads = classifier.loss_gradient(x, y)\n",
    "    norm = la.norm(grads.reshape(grads.shape[0], -1), ord=2, axis=1)\n",
    "    return np.mean(norm)"
   ]
  },
  {
   "cell_type": "code",
   "execution_count": 22,
   "metadata": {},
   "outputs": [],
   "source": [
    "adv_ls_clean_bn = loss_sensitivity(cnn_clf_adv_final, x_train[:3000], y_train[:3000])\n",
    "adv_ls_clean = loss_sensitivity(cnn_clf_adv_final, x_train[:3000], y_train[:3000])\n",
    "\n",
    "adv_ls_df_bn = loss_sensitivity(cnn_bn_clf_adv_final, x_train_deepfool_adv, y_train[:3000])\n",
    "adv_ls_cl2_bn = loss_sensitivity(cnn_bn_clf_adv_final, x_train_cl2_adv, y_train[:3000])\n",
    "adv_ls_fgsm_bn = loss_sensitivity(cnn_bn_clf_adv_final, x_train_fgsm_adv[:3000], y_train[:3000])\n",
    "adv_ls_ifgsm_bn = loss_sensitivity(cnn_bn_clf_adv_final, x_train_bim_adv[:3000], y_train[:3000])\n",
    "\n",
    "adv_ls_df = loss_sensitivity(cnn_clf_adv_final, x_train_deepfool_adv, y_train[:3000])\n",
    "adv_ls_cl2 = loss_sensitivity(cnn_clf_adv_final, x_train_cl2_adv, y_train[:3000])\n",
    "adv_ls_fgsm = loss_sensitivity(cnn_clf_adv_final, x_train_fgsm_adv[:3000], y_train[:3000])\n",
    "adv_ls_ifgsm = loss_sensitivity(cnn_clf_adv_final, x_train_bim_adv[:3000], y_train[:3000])"
   ]
  },
  {
   "cell_type": "code",
   "execution_count": 23,
   "metadata": {},
   "outputs": [],
   "source": [
    "rn_adv_ls_clean_bn = loss_sensitivity(resnet_clf_adv_final, x_train[:3000], y_train[:3000])\n",
    "rn_adv_ls_clean = loss_sensitivity(resnet_clf_adv_final, x_train[:3000], y_train[:3000])\n",
    "\n",
    "rn_adv_ls_df_bn = loss_sensitivity(resnet_bn_clf_adv_final, x_train_deepfool_adv, y_train[:3000])\n",
    "rn_adv_ls_cl2_bn = loss_sensitivity(resnet_bn_clf_adv_final, x_train_cl2_adv, y_train[:3000])\n",
    "rn_adv_ls_fgsm_bn = loss_sensitivity(resnet_bn_clf_adv_final, x_train_fgsm_adv[:3000], y_train[:3000])\n",
    "rn_adv_ls_ifgsm_bn = loss_sensitivity(resnet_bn_clf_adv_final, x_train_bim_adv[:3000], y_train[:3000])\n",
    "\n",
    "rn_adv_ls_df = loss_sensitivity(resnet_clf_adv_final, x_train_deepfool_adv, y_train[:3000])\n",
    "rn_adv_ls_cl2 = loss_sensitivity(resnet_clf_adv_final, x_train_cl2_adv, y_train[:3000])\n",
    "rn_adv_ls_fgsm = loss_sensitivity(resnet_clf_adv_final, x_train_fgsm_adv[:3000], y_train[:3000])\n",
    "rn_adv_ls_ifgsm = loss_sensitivity(resnet_clf_adv_final, x_train_bim_adv[:3000], y_train[:3000])"
   ]
  },
  {
   "cell_type": "code",
   "execution_count": 88,
   "metadata": {},
   "outputs": [
    {
     "data": {
      "image/png": "[encoded data removed]",
      "text/plain": [
       "<Figure size 576x360 with 4 Axes>"
      ]
     },
     "metadata": {
      "needs_background": "light"
     },
     "output_type": "display_data"
    }
   ],
   "source": [
    "# adv_ls_bn = (adv_ls_clean_bn, adv_ls_df_bn, adv_ls_cl2_bn, adv_ls_fgsm_bn, adv_ls_ifgsm_bn)\n",
    "# adv_ls = (adv_ls_clean, adv_ls_df, adv_ls_cl2, adv_ls_fgsm, adv_ls_ifgsm)\n",
    "\n",
    "# rn_adv_ls_bn = (rn_adv_ls_clean_bn, rn_adv_ls_df_bn, rn_adv_ls_cl2_bn, rn_adv_ls_fgsm_bn, rn_adv_ls_ifgsm_bn)\n",
    "# rn_adv_ls = (rn_adv_ls_clean, rn_adv_ls_df, rn_adv_ls_cl2, rn_adv_ls_fgsm, rn_adv_ls_ifgsm)\n",
    "# print(adv_ls_bn, adv_ls, rn_adv_ls_bn, rn_adv_ls)\n",
    "\n",
    "adv_ls_bn = (3.3696384, 7.6457734, 7.6472025, 38.93821, 21.154078) \n",
    "adv_ls = (3.3696384, 10.572385, 11.125161, 31.72601, 6.6053834) #81.72601\n",
    "rn_adv_ls_bn = (4.500889, 7.7116036, 7.758671, 44.110477, 28.451584) \n",
    "rn_adv_ls = (4.500889, 6.381096, 6.314416, 35.282787, 8.315595)\n",
    "\n",
    "ls_bn = (3.5029335, 5.4070783, 5.5447173, 37.311924, 19.31095)\n",
    "ls = (2.6910212, 40.358677, 55.820187, 44.10589, 127.02045)\n",
    "\n",
    "resnet_ls_bn = (22.046528, 85.109344, 85.108864, 35.790092, 17.346003) \n",
    "resnet_ls = (20.798801, 77.014435, 77.20241, 43.147842, 52.223244)\n",
    "\n",
    "# data to plot\n",
    "n_groups = 5\n",
    "index = np.arange(n_groups)\n",
    "bar_width = 0.35\n",
    "opacity = 0.8\n",
    "plt.figure(figsize=(8,5))\n",
    "# plt.suptitle(\"Loss Sensitivity for Cifar10 models with and without Adversarial training\")\n",
    "\n",
    "ax1 = plt.subplot(2, 2, 1)\n",
    "rects1 = plt.bar(index, ls, bar_width, alpha=opacity, color='b', label='Clean training')\n",
    "rects2 = plt.bar(index + bar_width, adv_ls, bar_width, alpha=opacity, color='g', label='Adversarial training')\n",
    "plt.ylabel('Loss Sensitivity')\n",
    "ax1.set_title('CNN Without BatchNorm')\n",
    "plt.xticks(index + bar_width, ('No Attack', 'DF', 'CWL2', 'FGSM', 'BIM'))\n",
    "plt.legend()\n",
    "\n",
    "ax2 = plt.subplot(2, 2, 2)\n",
    "rects5 = plt.bar(index, ls_bn, bar_width, alpha=opacity, color='b', label='Clean training')\n",
    "rects6 = plt.bar(index + bar_width, adv_ls_bn, bar_width, alpha=opacity, color='g', label='Adversarial training')\n",
    "ax2.set_title('CNN With BatchNorm')\n",
    "plt.xticks(index + bar_width, ('No Attack', 'DF', 'CWL2', 'FGSM', 'BIM'))\n",
    "plt.legend()\n",
    "\n",
    "\n",
    "ax3 = plt.subplot(2, 2, 3)\n",
    "rects3 = plt.bar(index, resnet_ls, bar_width, alpha=opacity, color='b', label='Clean training')\n",
    "rects4 = plt.bar(index + bar_width, rn_adv_ls, bar_width, alpha=opacity, color='g', label='Adversarial training')\n",
    "plt.xlabel('Attack Types')\n",
    "plt.ylabel('Loss Sensitivity')\n",
    "ax3.set_title('ResNet20 Without BatchNorm')\n",
    "plt.xticks(index + bar_width, ('No Attack', 'DF', 'CWL2', 'FGSM', 'BIM'))\n",
    "plt.legend()\n",
    "\n",
    "ax4 = plt.subplot(2, 2, 4)\n",
    "rects7 = plt.bar(index, resnet_ls_bn, bar_width, alpha=opacity, color='b', label='Clean training')\n",
    "rects8 = plt.bar(index + bar_width, rn_adv_ls_bn, bar_width, alpha=opacity, color='g', label='Adversarial training')\n",
    "plt.xlabel('Attack Types')\n",
    "ax4.set_title('ResNet20 With BatchNorm')\n",
    "plt.xticks(index + bar_width, ('No Attack', 'DF', 'CWL2', 'FGSM', 'BIM'))\n",
    "plt.legend()\n",
    "\n",
    "# plt.constrained_layout()\n",
    "plt.tight_layout()\n",
    "plt.savefig('cifar10-loss-sensitivity.png')"
   ]
  },
  {
   "cell_type": "code",
   "execution_count": 91,
   "metadata": {},
   "outputs": [
    {
     "data": {
      "text/plain": [
       "(3000, 32, 32, 3)"
      ]
     },
     "execution_count": 91,
     "metadata": {},
     "output_type": "execute_result"
    }
   ],
   "source": [
    "# (x_train, y_train, x_test, y_test)\n",
    "# (x_train_bim_adv, x_test_bim_adv) \n",
    "# (x_train_fgsm_adv, x_test_fgsm_adv)\n",
    "# (x_train_deepfool_adv, x_test_deepfool_adv) \n",
    "# (x_train_cl2_adv, x_test_cl2_adv) \n",
    "\n",
    "x_train[:3000].shape"
   ]
  },
  {
   "cell_type": "code",
   "execution_count": 93,
   "metadata": {},
   "outputs": [],
   "source": [
    "import numpy.linalg as la\n",
    "N = 3000\n",
    "bim_perturbation = np.mean(la.norm((x_train-x_train_bim_adv).reshape(x_train.shape[0], -1), 2, axis=1))\n",
    "fgsm_perturbation = np.mean(la.norm((x_train[:N]-x_train_fgsm_adv).reshape(N, -1), 2, axis=1))\n",
    "cl2_perturbation = np.mean(la.norm((x_train[:N]-x_train_cl2_adv).reshape(N, -1), 2, axis=1))\n",
    "df_perturbation = np.mean(la.norm((x_train[:N]-x_train_deepfool_adv).reshape(N, -1), 2, axis=1))"
   ]
  },
  {
   "cell_type": "code",
   "execution_count": 94,
   "metadata": {},
   "outputs": [
    {
     "name": "stdout",
     "output_type": "stream",
     "text": [
      "21.44681754576523 5.537018287315439 0.1898634259341559 0.1716863410600156\n"
     ]
    }
   ],
   "source": [
    "print(bim_perturbation, fgsm_perturbation, cl2_perturbation, df_perturbation)\n",
    "# [21.44681754576523 5.537018287315439 0.1898634259341559 0.1716863410600156]\n"
   ]
  },
  {
   "cell_type": "code",
   "execution_count": 111,
   "metadata": {},
   "outputs": [
    {
     "data": {
      "image/png": "[encoded data removed]",
      "text/plain": [
       "<Figure size 288x144 with 1 Axes>"
      ]
     },
     "metadata": {
      "needs_background": "light"
     },
     "output_type": "display_data"
    }
   ],
   "source": [
    "avg_perturbations = (0.1716863410600156, 0.1898634259341559, 5.537018287315439, 21.44681754576523)\n",
    "\n",
    "plt.figure(figsize=(4,2))\n",
    "y_pos = np.arange(len(avg_perturbations))\n",
    "plt.bar(y_pos, avg_perturbations, align='center', alpha=0.5)\n",
    "plt.xticks(y_pos, ['DeepFool', 'CWL2', 'FGSM', 'BIM'])\n",
    "plt.title('L2 Norm of Perturbations for different attacks')\n",
    "# plt.xlabel('Attack Types')\n",
    "plt.ylabel('Perturbation')\n",
    "plt.show()\n",
    "fig.savefig('cifar10-avg-perturbation.png')\n",
    "\n"
   ]
  },
  {
   "cell_type": "code",
   "execution_count": 9,
   "metadata": {},
   "outputs": [],
   "source": [
    "import numpy.linalg as la\n",
    "def deepfool_robustness_metric(clf, x, y, x_adv):\n",
    "    y_adv = clf.predict(x_adv)\n",
    "    idxs = (np.argmax(y_adv, axis=1) != np.argmax(y, axis=1))\n",
    "    if np.sum(idxs) == 0.0:\n",
    "        return 0\n",
    "    norm_type = 2\n",
    "    perts_norm = la.norm((x_adv - x).reshape(x.shape[0], -1), ord=norm_type, axis=1)\n",
    "    perts_norm = perts_norm[idxs]\n",
    "    return np.mean(perts_norm / la.norm(x[idxs].reshape(np.sum(idxs), -1), ord=norm_type, axis=1))\n",
    "\n"
   ]
  },
  {
   "cell_type": "code",
   "execution_count": 11,
   "metadata": {},
   "outputs": [],
   "source": [
    "def robustness_measure(clf, x, y, x_adv_df, x_adv_cl2, x_adv_fgsm, x_adv_bim):\n",
    "    df = deepfool_robustness_metric(clf, x, y, x_adv_df)\n",
    "    cl2 = deepfool_robustness_metric(clf, x, y, x_adv_cl2)\n",
    "    fgsm = deepfool_robustness_metric(clf, x, y, x_adv_fgsm)\n",
    "    bim = deepfool_robustness_metric(clf, x, y, x_adv_bim[:3000])\n",
    "    return (df, cl2, fgsm, bim)\n"
   ]
  },
  {
   "cell_type": "code",
   "execution_count": 123,
   "metadata": {},
   "outputs": [
    {
     "data": {
      "text/plain": [
       "((0.004800391215291648,\n",
       "  0.0080141299196437,\n",
       "  0.2025881068827215,\n",
       "  0.7826341959283831),\n",
       " (0.005009587935111827,\n",
       "  0.00573169152166241,\n",
       "  0.20336724387211264,\n",
       "  0.7813432613707565),\n",
       " (0.0042878663595054,\n",
       "  0.005106235935120835,\n",
       "  0.20744157832496612,\n",
       "  0.7865361979837541),\n",
       " (0.0037161374017067365,\n",
       "  0.004179452234617752,\n",
       "  0.20613162784251748,\n",
       "  0.7920903346064864))"
      ]
     },
     "execution_count": 123,
     "metadata": {},
     "output_type": "execute_result"
    }
   ],
   "source": [
    "cnn_adv_robustness, cnn_bn_adv_robustness, resnet_adv_robustness, resnet_bn_adv_robustness\n",
    "# ((0.004800391215291648,\n",
    "#   0.0080141299196437,\n",
    "#   0.2025881068827215,\n",
    "#   0.7826341959283831),\n",
    "#  (0.005009587935111827,\n",
    "#   0.00573169152166241,\n",
    "#   0.20336724387211264,\n",
    "#   0.7813432613707565),\n",
    "#  (0.0042878663595054,\n",
    "#   0.005106235935120835,\n",
    "#   0.20744157832496612,\n",
    "#   0.7865361979837541),\n",
    "#  (0.0037161374017067365,\n",
    "#   0.004179452234617752,\n",
    "#   0.20613162784251748,\n",
    "#   0.7920903346064864))"
   ]
  },
  {
   "cell_type": "code",
   "execution_count": null,
   "metadata": {},
   "outputs": [],
   "source": [
    "cnn_adv_robustness = robustness_measure(cnn_clf_adv_final, x_train[:N], y_train[:N], x_train_deepfool_adv, x_train_cl2_adv, x_train_fgsm_adv, x_train_bim_adv)\n",
    "cnn_bn_adv_robustness = robustness_measure(cnn_bn_clf_adv_final, x_train[:N], y_train[:N], x_train_deepfool_adv, x_train_cl2_adv, x_train_fgsm_adv, x_train_bim_adv)\n",
    "resnet_adv_robustness = robustness_measure(resnet_clf_adv_final, x_train[:N], y_train[:N], x_train_deepfool_adv, x_train_cl2_adv, x_train_fgsm_adv, x_train_bim_adv)\n",
    "resnet_bn_adv_robustness = robustness_measure(resnet_bn_clf_adv_final, x_train[:N], y_train[:N], x_train_deepfool_adv, x_train_cl2_adv, x_train_fgsm_adv, x_train_bim_adv)"
   ]
  },
  {
   "cell_type": "code",
   "execution_count": 7,
   "metadata": {},
   "outputs": [
    {
     "name": "stdout",
     "output_type": "stream",
     "text": [
      "WARNING:tensorflow:From /usr/local/lib/python3.5/dist-packages/tensorflow/python/framework/op_def_library.py:263: colocate_with (from tensorflow.python.framework.ops) is deprecated and will be removed in a future version.\n",
      "Instructions for updating:\n",
      "Colocations handled automatically by placer.\n",
      "WARNING:tensorflow:From /usr/local/lib/python3.5/dist-packages/keras/backend/tensorflow_backend.py:3445: calling dropout (from tensorflow.python.ops.nn_ops) with keep_prob is deprecated and will be removed in a future version.\n",
      "Instructions for updating:\n",
      "Please use `rate` instead of `keep_prob`. Rate should be set to `rate = 1 - keep_prob`.\n",
      "WARNING:tensorflow:From /usr/local/lib/python3.5/dist-packages/tensorflow/python/ops/math_ops.py:3066: to_int32 (from tensorflow.python.ops.math_ops) is deprecated and will be removed in a future version.\n",
      "Instructions for updating:\n",
      "Use tf.cast instead.\n",
      "WARNING:tensorflow:From /usr/local/lib/python3.5/dist-packages/keras/backend/tensorflow_backend.py:3298: softmax_cross_entropy_with_logits (from tensorflow.python.ops.nn_ops) is deprecated and will be removed in a future version.\n",
      "Instructions for updating:\n",
      "\n",
      "Future major versions of TensorFlow will allow gradients to flow\n",
      "into the labels input on backprop by default.\n",
      "\n",
      "See `tf.nn.softmax_cross_entropy_with_logits_v2`.\n",
      "\n"
     ]
    }
   ],
   "source": [
    "c1, model1 = load_clf('/home/surthi/models/cifar10/', 'vanilla_clf.h5', 'vanilla_clf_model.h5')\n",
    "c1_bn, model1_bn = load_clf('/home/surthi/models/cifar10/', 'vanilla_clf_with_bn.h5', 'vanilla_clf_with_bn_model.h5')\n"
   ]
  },
  {
   "cell_type": "code",
   "execution_count": 8,
   "metadata": {},
   "outputs": [],
   "source": [
    "N = 3000\n",
    "cnn_robustness = robustness_measure(c1, x_train[:N], y_train[:N], x_train_deepfool_adv, x_train_cl2_adv, x_train_fgsm_adv, x_train_bim_adv)\n",
    "cnn_bn_robustness = robustness_measure(c1_bn, x_train[:N], y_train[:N], x_train_deepfool_adv, x_train_cl2_adv, x_train_fgsm_adv, x_train_bim_adv)\n",
    "resnet_robustness = robustness_measure(resnet, x_train[:N], y_train[:N], x_train_deepfool_adv, x_train_cl2_adv, x_train_fgsm_adv, x_train_bim_adv)\n",
    "resnet_bn_robustness = robustness_measure(resnet_bn, x_train[:N], y_train[:N], x_train_deepfool_adv, x_train_cl2_adv, x_train_fgsm_adv, x_train_bim_adv)"
   ]
  },
  {
   "cell_type": "code",
   "execution_count": 9,
   "metadata": {},
   "outputs": [
    {
     "data": {
      "text/plain": [
       "((0.006276674117868981,\n",
       "  0.006836447395926339,\n",
       "  0.20293084023110255,\n",
       "  0.7876819426566969),\n",
       " (0.003833067200772092,\n",
       "  0.006224990189155943,\n",
       "  0.20115901631374167,\n",
       "  0.7880658195856696))"
      ]
     },
     "execution_count": 9,
     "metadata": {},
     "output_type": "execute_result"
    }
   ],
   "source": [
    "cnn_robustness, cnn_bn_robustness\n",
    "# ((0.006276674117868981,\n",
    "#   0.006836447395926339,\n",
    "#   0.20293084023110255,\n",
    "#   0.7876819426566969),\n",
    "#  (0.003833067200772092,\n",
    "#   0.006224990189155943,\n",
    "#   0.20115901631374167,\n",
    "#   0.7880658195856696))"
   ]
  },
  {
   "cell_type": "code",
   "execution_count": 7,
   "metadata": {},
   "outputs": [
    {
     "name": "stdout",
     "output_type": "stream",
     "text": [
      "WARNING:tensorflow:From /usr/local/lib/python3.5/dist-packages/tensorflow/python/framework/op_def_library.py:263: colocate_with (from tensorflow.python.framework.ops) is deprecated and will be removed in a future version.\n",
      "Instructions for updating:\n",
      "Colocations handled automatically by placer.\n",
      "WARNING:tensorflow:From /usr/local/lib/python3.5/dist-packages/tensorflow/python/ops/math_ops.py:3066: to_int32 (from tensorflow.python.ops.math_ops) is deprecated and will be removed in a future version.\n",
      "Instructions for updating:\n",
      "Use tf.cast instead.\n",
      "WARNING:tensorflow:From /usr/local/lib/python3.5/dist-packages/keras/backend/tensorflow_backend.py:3298: softmax_cross_entropy_with_logits (from tensorflow.python.ops.nn_ops) is deprecated and will be removed in a future version.\n",
      "Instructions for updating:\n",
      "\n",
      "Future major versions of TensorFlow will allow gradients to flow\n",
      "into the labels input on backprop by default.\n",
      "\n",
      "See `tf.nn.softmax_cross_entropy_with_logits_v2`.\n",
      "\n",
      "WARNING:tensorflow:From /usr/local/lib/python3.5/dist-packages/tensorflow/python/ops/init_ops.py:96: calling VarianceScaling.__init__ (from tensorflow.python.ops.init_ops) with distribution=normal is deprecated and will be removed in a future version.\n",
      "Instructions for updating:\n",
      "`normal` is a deprecated alias for `truncated_normal`\n"
     ]
    }
   ],
   "source": [
    "resnet, resnet_model = load_clf('/home/surthi/models/cifar10/', 'resnet_clf.h5', 'resnet_clf_model.h5')"
   ]
  },
  {
   "cell_type": "code",
   "execution_count": 13,
   "metadata": {},
   "outputs": [
    {
     "name": "stdout",
     "output_type": "stream",
     "text": [
      "(0.004745267307272102, 0.005407675361007732, 0.20239407424129968, 0.787927356842619)\n"
     ]
    }
   ],
   "source": [
    "N=3000\n",
    "resnet_robustness = robustness_measure(resnet, x_train[:N], y_train[:N], x_train_deepfool_adv, x_train_cl2_adv, x_train_fgsm_adv, x_train_bim_adv)\n",
    "print(resnet_robustness)\n",
    "# (0.004745267307272102, 0.005407675361007732, 0.20239407424129968, 0.787927356842619)\n"
   ]
  },
  {
   "cell_type": "code",
   "execution_count": 14,
   "metadata": {},
   "outputs": [],
   "source": [
    "resnet_bn, resnet_model_bn = load_clf('/home/surthi/models/cifar10/', 'resnet_clf_bn.h5', 'resnet_clf_model_bn.h5')"
   ]
  },
  {
   "cell_type": "code",
   "execution_count": 16,
   "metadata": {},
   "outputs": [
    {
     "name": "stdout",
     "output_type": "stream",
     "text": [
      "(0.005222071329926856, 0.005977269449019326, 0.2023581322371249, 0.7834574705904217)\n"
     ]
    }
   ],
   "source": [
    "N = 3000\n",
    "resnet_bn_robustness = robustness_measure(resnet_bn, x_train[:N], y_train[:N], x_train_deepfool_adv, x_train_cl2_adv, x_train_fgsm_adv, x_train_bim_adv)\n",
    "print(resnet_bn_robustness)\n",
    "# (0.005222071329926856, 0.005977269449019326, 0.2023581322371249, 0.7834574705904217)"
   ]
  },
  {
   "cell_type": "code",
   "execution_count": 19,
   "metadata": {},
   "outputs": [],
   "source": [
    "(cnn_adv_robustness, cnn_bn_adv_robustness, \n",
    " resnet_adv_robustness, resnet_bn_adv_robustness, \n",
    " cnn_robustness, cnn_bn_robustness, \n",
    " resnet_robustness, resnet_bn_robustness) = (\n",
    "(0.004800391215291648,0.0080141299196437,  0.2025881068827215,  0.7826341959283831),\n",
    " (0.005009587935111827,  0.00573169152166241,  0.20336724387211264,  0.7813432613707565),\n",
    " (0.0042878663595054,  0.005106235935120835,  0.20744157832496612,  0.7865361979837541),\n",
    " (0.0037161374017067365,  0.004179452234617752,  0.20613162784251748,  0.7920903346064864),\n",
    "(0.006276674117868981,  0.006836447395926339,  0.20293084023110255,  0.7876819426566969),\n",
    "(0.003833067200772092,  0.006224990189155943,  0.20115901631374167,  0.7880658195856696),\n",
    "(0.004745267307272102, 0.005407675361007732, 0.20239407424129968, 0.787927356842619),\n",
    "(0.005222071329926856, 0.005977269449019326, 0.2023581322371249, 0.7834574705904217))"
   ]
  },
  {
   "cell_type": "code",
   "execution_count": 21,
   "metadata": {},
   "outputs": [
    {
     "data": {
      "image/png": "[encoded data removed]",
      "text/plain": [
       "<Figure size 576x360 with 4 Axes>"
      ]
     },
     "metadata": {
      "needs_background": "light"
     },
     "output_type": "display_data"
    }
   ],
   "source": [
    "import matplotlib.pyplot as plt\n",
    "# data to plot\n",
    "n_groups = 4\n",
    "index = np.arange(n_groups)\n",
    "bar_width = 0.35\n",
    "opacity = 0.8\n",
    "plt.figure(figsize=(8,5))\n",
    "# plt.suptitle(\"Loss Sensitivity for Cifar10 models with and without Adversarial training\")\n",
    "\n",
    "ax1 = plt.subplot(2, 2, 1)\n",
    "rects1 = plt.bar(index, cnn_robustness, bar_width, alpha=opacity, color='b', label='Clean training')\n",
    "rects2 = plt.bar(index + bar_width, cnn_adv_robustness, bar_width, alpha=opacity, color='g', label='Adversarial training')\n",
    "plt.ylabel('Robustness Measure')\n",
    "ax1.set_title('CNN Without BatchNorm')\n",
    "plt.xticks(index + bar_width, ('DF', 'CWL2', 'FGSM', 'BIM'))\n",
    "plt.legend()\n",
    "\n",
    "ax2 = plt.subplot(2, 2, 2)\n",
    "rects5 = plt.bar(index, cnn_bn_robustness, bar_width, alpha=opacity, color='b', label='Clean training')\n",
    "rects6 = plt.bar(index + bar_width, cnn_bn_adv_robustness, bar_width, alpha=opacity, color='g', label='Adversarial training')\n",
    "ax2.set_title('CNN With BatchNorm')\n",
    "plt.xticks(index + bar_width, ('DF', 'CWL2', 'FGSM', 'BIM'))\n",
    "plt.legend()\n",
    "\n",
    "\n",
    "ax3 = plt.subplot(2, 2, 3)\n",
    "rects3 = plt.bar(index, resnet_robustness, bar_width, alpha=opacity, color='b', label='Clean training')\n",
    "rects4 = plt.bar(index + bar_width, resnet_adv_robustness, bar_width, alpha=opacity, color='g', label='Adversarial training')\n",
    "plt.xlabel('Attack Types')\n",
    "plt.ylabel('Robustness Measure')\n",
    "ax3.set_title('ResNet20 Without BatchNorm')\n",
    "plt.xticks(index + bar_width, ('DF', 'CWL2', 'FGSM', 'BIM'))\n",
    "plt.legend()\n",
    "\n",
    "ax4 = plt.subplot(2, 2, 4)\n",
    "rects7 = plt.bar(index, resnet_bn_robustness, bar_width, alpha=opacity, color='b', label='Clean training')\n",
    "rects8 = plt.bar(index + bar_width, resnet_bn_adv_robustness, bar_width, alpha=opacity, color='g', label='Adversarial training')\n",
    "plt.xlabel('Attack Types')\n",
    "ax4.set_title('ResNet20 With BatchNorm')\n",
    "plt.xticks(index + bar_width, ('DF', 'CWL2', 'FGSM', 'BIM'))\n",
    "plt.legend()\n",
    "\n",
    "# plt.constrained_layout()\n",
    "plt.tight_layout()"
   ]
  },
  {
   "cell_type": "code",
   "execution_count": null,
   "metadata": {},
   "outputs": [],
   "source": []
  }
 ],
 "metadata": {
  "kernelspec": {
   "display_name": "Python 3",
   "language": "python",
   "name": "python3"
  },
  "language_info": {
   "codemirror_mode": {
    "name": "ipython",
    "version": 3
   },
   "file_extension": ".py",
   "mimetype": "text/x-python",
   "name": "python",
   "nbconvert_exporter": "python",
   "pygments_lexer": "ipython3",
   "version": "3.5.3"
  }
 },
 "nbformat": 4,
 "nbformat_minor": 2
}
